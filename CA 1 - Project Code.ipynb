{
 "cells": [
  {
   "cell_type": "markdown",
   "metadata": {},
   "source": [
    "Install neccessary packages "
   ]
  },
  {
   "cell_type": "code",
   "execution_count": 2,
   "metadata": {},
   "outputs": [],
   "source": [
    "from urllib import request as rq\n",
    "import pandas as pd"
   ]
  },
  {
   "cell_type": "markdown",
   "metadata": {},
   "source": [
    "Download the Dublin Bus data from https://data.gov.ie/organization/dublin-city-council?tags=Transport+and+Infrastructure"
   ]
  },
  {
   "cell_type": "code",
   "execution_count": 3,
   "metadata": {},
   "outputs": [],
   "source": [
    "url = \"https://opendata.dublincity.ie/TrafficOpenData/sir010113-310113.zip\"\n",
    "busFile = rq.urlretrieve(url, './Zips/Bus/DublinBusdata.zip' )"
   ]
  },
  {
   "cell_type": "code",
   "execution_count": 38,
   "metadata": {},
   "outputs": [],
   "source": [
    "import zipfile as zip\n",
    "\n",
    "with zip.ZipFile(busFile[0],  mode='r') as arc: \n",
    "    arc.extractall('./Data/Bus/Gz/')"
   ]
  },
  {
   "cell_type": "markdown",
   "metadata": {},
   "source": [
    "Use a generator to load teh data into pandas data frame https://pandasninja.com/2019/04/how-to-read-lots-of-csv-files-easily-into-pandas/#:~:text=How%20to%20read%20lots%20of%20csv%20files%20easily,need%20...%204%204.%20Leverage%20regular%20expressions%20\n"
   ]
  },
  {
   "cell_type": "code",
   "execution_count": 3,
   "metadata": {},
   "outputs": [
    {
     "ename": "KeyboardInterrupt",
     "evalue": "",
     "output_type": "error",
     "traceback": [
      "\u001b[1;31m---------------------------------------------------------------------------\u001b[0m",
      "\u001b[1;31mKeyboardInterrupt\u001b[0m                         Traceback (most recent call last)",
      "Cell \u001b[1;32mIn [3], line 8\u001b[0m\n\u001b[0;32m      5\u001b[0m     \u001b[39mfor\u001b[39;00m f \u001b[39min\u001b[39;00m files:\n\u001b[0;32m      6\u001b[0m         \u001b[39myield\u001b[39;00m pd\u001b[39m.\u001b[39mread_csv(\u001b[39m'\u001b[39m\u001b[39m./Data/Bus/Gz/\u001b[39m\u001b[39m'\u001b[39m \u001b[39m+\u001b[39m f, compression\u001b[39m=\u001b[39m\u001b[39m'\u001b[39m\u001b[39mgzip\u001b[39m\u001b[39m'\u001b[39m)\n\u001b[1;32m----> 8\u001b[0m df \u001b[39m=\u001b[39m pd\u001b[39m.\u001b[39mconcat(load_Files(DBfiles))\n",
      "File \u001b[1;32m~\\AppData\\Local\\Packages\\PythonSoftwareFoundation.Python.3.10_qbz5n2kfra8p0\\LocalCache\\local-packages\\Python310\\site-packages\\pandas\\util\\_decorators.py:317\u001b[0m, in \u001b[0;36mdeprecate_nonkeyword_arguments.<locals>.decorate.<locals>.wrapper\u001b[1;34m(*args, **kwargs)\u001b[0m\n\u001b[0;32m    311\u001b[0m \u001b[39mif\u001b[39;00m \u001b[39mlen\u001b[39m(args) \u001b[39m>\u001b[39m num_allow_args:\n\u001b[0;32m    312\u001b[0m     warnings\u001b[39m.\u001b[39mwarn(\n\u001b[0;32m    313\u001b[0m         msg\u001b[39m.\u001b[39mformat(arguments\u001b[39m=\u001b[39marguments),\n\u001b[0;32m    314\u001b[0m         \u001b[39mFutureWarning\u001b[39;00m,\n\u001b[0;32m    315\u001b[0m         stacklevel\u001b[39m=\u001b[39mfind_stack_level(inspect\u001b[39m.\u001b[39mcurrentframe()),\n\u001b[0;32m    316\u001b[0m     )\n\u001b[1;32m--> 317\u001b[0m \u001b[39mreturn\u001b[39;00m func(\u001b[39m*\u001b[39margs, \u001b[39m*\u001b[39m\u001b[39m*\u001b[39mkwargs)\n",
      "File \u001b[1;32m~\\AppData\\Local\\Packages\\PythonSoftwareFoundation.Python.3.10_qbz5n2kfra8p0\\LocalCache\\local-packages\\Python310\\site-packages\\pandas\\core\\reshape\\concat.py:382\u001b[0m, in \u001b[0;36mconcat\u001b[1;34m(objs, axis, join, ignore_index, keys, levels, names, verify_integrity, sort, copy)\u001b[0m\n\u001b[0;32m    160\u001b[0m \u001b[39m\"\"\"\u001b[39;00m\n\u001b[0;32m    161\u001b[0m \u001b[39mConcatenate pandas objects along a particular axis.\u001b[39;00m\n\u001b[0;32m    162\u001b[0m \n\u001b[1;32m   (...)\u001b[0m\n\u001b[0;32m    367\u001b[0m \u001b[39m1   3   4\u001b[39;00m\n\u001b[0;32m    368\u001b[0m \u001b[39m\"\"\"\u001b[39;00m\n\u001b[0;32m    369\u001b[0m op \u001b[39m=\u001b[39m _Concatenator(\n\u001b[0;32m    370\u001b[0m     objs,\n\u001b[0;32m    371\u001b[0m     axis\u001b[39m=\u001b[39maxis,\n\u001b[1;32m   (...)\u001b[0m\n\u001b[0;32m    379\u001b[0m     sort\u001b[39m=\u001b[39msort,\n\u001b[0;32m    380\u001b[0m )\n\u001b[1;32m--> 382\u001b[0m \u001b[39mreturn\u001b[39;00m op\u001b[39m.\u001b[39;49mget_result()\n",
      "File \u001b[1;32m~\\AppData\\Local\\Packages\\PythonSoftwareFoundation.Python.3.10_qbz5n2kfra8p0\\LocalCache\\local-packages\\Python310\\site-packages\\pandas\\core\\reshape\\concat.py:617\u001b[0m, in \u001b[0;36m_Concatenator.get_result\u001b[1;34m(self)\u001b[0m\n\u001b[0;32m    613\u001b[0m             indexers[ax] \u001b[39m=\u001b[39m obj_labels\u001b[39m.\u001b[39mget_indexer(new_labels)\n\u001b[0;32m    615\u001b[0m     mgrs_indexers\u001b[39m.\u001b[39mappend((obj\u001b[39m.\u001b[39m_mgr, indexers))\n\u001b[1;32m--> 617\u001b[0m new_data \u001b[39m=\u001b[39m concatenate_managers(\n\u001b[0;32m    618\u001b[0m     mgrs_indexers, \u001b[39mself\u001b[39;49m\u001b[39m.\u001b[39;49mnew_axes, concat_axis\u001b[39m=\u001b[39;49m\u001b[39mself\u001b[39;49m\u001b[39m.\u001b[39;49mbm_axis, copy\u001b[39m=\u001b[39;49m\u001b[39mself\u001b[39;49m\u001b[39m.\u001b[39;49mcopy\n\u001b[0;32m    619\u001b[0m )\n\u001b[0;32m    620\u001b[0m \u001b[39mif\u001b[39;00m \u001b[39mnot\u001b[39;00m \u001b[39mself\u001b[39m\u001b[39m.\u001b[39mcopy:\n\u001b[0;32m    621\u001b[0m     new_data\u001b[39m.\u001b[39m_consolidate_inplace()\n",
      "File \u001b[1;32m~\\AppData\\Local\\Packages\\PythonSoftwareFoundation.Python.3.10_qbz5n2kfra8p0\\LocalCache\\local-packages\\Python310\\site-packages\\pandas\\core\\internals\\concat.py:233\u001b[0m, in \u001b[0;36mconcatenate_managers\u001b[1;34m(mgrs_indexers, axes, concat_axis, copy)\u001b[0m\n\u001b[0;32m    231\u001b[0m     fastpath \u001b[39m=\u001b[39m blk\u001b[39m.\u001b[39mvalues\u001b[39m.\u001b[39mdtype \u001b[39m==\u001b[39m values\u001b[39m.\u001b[39mdtype\n\u001b[0;32m    232\u001b[0m \u001b[39melse\u001b[39;00m:\n\u001b[1;32m--> 233\u001b[0m     values \u001b[39m=\u001b[39m _concatenate_join_units(join_units, concat_axis, copy\u001b[39m=\u001b[39;49mcopy)\n\u001b[0;32m    234\u001b[0m     fastpath \u001b[39m=\u001b[39m \u001b[39mFalse\u001b[39;00m\n\u001b[0;32m    236\u001b[0m \u001b[39mif\u001b[39;00m fastpath:\n",
      "File \u001b[1;32m~\\AppData\\Local\\Packages\\PythonSoftwareFoundation.Python.3.10_qbz5n2kfra8p0\\LocalCache\\local-packages\\Python310\\site-packages\\pandas\\core\\internals\\concat.py:577\u001b[0m, in \u001b[0;36m_concatenate_join_units\u001b[1;34m(join_units, concat_axis, copy)\u001b[0m\n\u001b[0;32m    574\u001b[0m     concat_values \u001b[39m=\u001b[39m ensure_block_shape(concat_values, \u001b[39m2\u001b[39m)\n\u001b[0;32m    576\u001b[0m \u001b[39melse\u001b[39;00m:\n\u001b[1;32m--> 577\u001b[0m     concat_values \u001b[39m=\u001b[39m concat_compat(to_concat, axis\u001b[39m=\u001b[39;49mconcat_axis)\n\u001b[0;32m    579\u001b[0m \u001b[39mreturn\u001b[39;00m concat_values\n",
      "File \u001b[1;32m~\\AppData\\Local\\Packages\\PythonSoftwareFoundation.Python.3.10_qbz5n2kfra8p0\\LocalCache\\local-packages\\Python310\\site-packages\\pandas\\core\\dtypes\\concat.py:152\u001b[0m, in \u001b[0;36mconcat_compat\u001b[1;34m(to_concat, axis, ea_compat_axis)\u001b[0m\n\u001b[0;32m    149\u001b[0m             to_concat \u001b[39m=\u001b[39m [x\u001b[39m.\u001b[39mastype(\u001b[39m\"\u001b[39m\u001b[39mobject\u001b[39m\u001b[39m\"\u001b[39m) \u001b[39mfor\u001b[39;00m x \u001b[39min\u001b[39;00m to_concat]\n\u001b[0;32m    150\u001b[0m             kinds \u001b[39m=\u001b[39m {\u001b[39m\"\u001b[39m\u001b[39mo\u001b[39m\u001b[39m\"\u001b[39m}\n\u001b[1;32m--> 152\u001b[0m result \u001b[39m=\u001b[39m np\u001b[39m.\u001b[39;49mconcatenate(to_concat, axis\u001b[39m=\u001b[39;49maxis)\n\u001b[0;32m    153\u001b[0m \u001b[39mif\u001b[39;00m \u001b[39m\"\u001b[39m\u001b[39mb\u001b[39m\u001b[39m\"\u001b[39m \u001b[39min\u001b[39;00m kinds \u001b[39mand\u001b[39;00m result\u001b[39m.\u001b[39mdtype\u001b[39m.\u001b[39mkind \u001b[39min\u001b[39;00m [\u001b[39m\"\u001b[39m\u001b[39mi\u001b[39m\u001b[39m\"\u001b[39m, \u001b[39m\"\u001b[39m\u001b[39mu\u001b[39m\u001b[39m\"\u001b[39m, \u001b[39m\"\u001b[39m\u001b[39mf\u001b[39m\u001b[39m\"\u001b[39m]:\n\u001b[0;32m    154\u001b[0m     \u001b[39m# GH#39817\u001b[39;00m\n\u001b[0;32m    155\u001b[0m     warnings\u001b[39m.\u001b[39mwarn(\n\u001b[0;32m    156\u001b[0m         \u001b[39m\"\u001b[39m\u001b[39mBehavior when concatenating bool-dtype and numeric-dtype arrays is \u001b[39m\u001b[39m\"\u001b[39m\n\u001b[0;32m    157\u001b[0m         \u001b[39m\"\u001b[39m\u001b[39mdeprecated; in a future version these will cast to object dtype \u001b[39m\u001b[39m\"\u001b[39m\n\u001b[1;32m   (...)\u001b[0m\n\u001b[0;32m    161\u001b[0m         stacklevel\u001b[39m=\u001b[39mfind_stack_level(inspect\u001b[39m.\u001b[39mcurrentframe()),\n\u001b[0;32m    162\u001b[0m     )\n",
      "File \u001b[1;32m<__array_function__ internals>:180\u001b[0m, in \u001b[0;36mconcatenate\u001b[1;34m(*args, **kwargs)\u001b[0m\n",
      "\u001b[1;31mKeyboardInterrupt\u001b[0m: "
     ]
    }
   ],
   "source": [
    "import os \n",
    "files = os.listdir('./Data/Bus/Gz/')\n",
    "DBfiles = [f for f in files if f.endswith('.gz')]\n",
    "def load_Files(files):\n",
    "    for f in files:\n",
    "        yield pd.read_csv('./Data/Bus/Gz/' + f, compression='gzip')\n",
    "\n",
    "df = pd.concat(load_Files(DBfiles))"
   ]
  },
  {
   "cell_type": "markdown",
   "metadata": {},
   "source": [
    "Download the weather station details https://cli.fusio.net/cli/climate_data/webdata/StationDetails.csv"
   ]
  },
  {
   "cell_type": "code",
   "execution_count": 11,
   "metadata": {},
   "outputs": [
    {
     "data": {
      "text/plain": [
       "{'.', '0', '1', '2', '3', 'c', 'g', 'i', 'r', 's', 'v', 'z'}"
      ]
     },
     "execution_count": 11,
     "metadata": {},
     "output_type": "execute_result"
    }
   ],
   "source": []
  },
  {
   "cell_type": "code",
   "execution_count": 3,
   "metadata": {},
   "outputs": [],
   "source": [
    "url = 'https://cli.fusio.net/cli/climate_data/webdata/StationDetails.csv'\n"
   ]
  },
  {
   "cell_type": "markdown",
   "metadata": {},
   "source": [
    "Load the weather statio details for Dublin"
   ]
  },
  {
   "cell_type": "code",
   "execution_count": 6,
   "metadata": {},
   "outputs": [
    {
     "data": {
      "text/html": [
       "<div>\n",
       "<style scoped>\n",
       "    .dataframe tbody tr th:only-of-type {\n",
       "        vertical-align: middle;\n",
       "    }\n",
       "\n",
       "    .dataframe tbody tr th {\n",
       "        vertical-align: top;\n",
       "    }\n",
       "\n",
       "    .dataframe thead th {\n",
       "        text-align: right;\n",
       "    }\n",
       "</style>\n",
       "<table border=\"1\" class=\"dataframe\">\n",
       "  <thead>\n",
       "    <tr style=\"text-align: right;\">\n",
       "      <th></th>\n",
       "      <th>county</th>\n",
       "      <th>station name</th>\n",
       "      <th>name</th>\n",
       "      <th>height(m)</th>\n",
       "      <th>easting</th>\n",
       "      <th>northing</th>\n",
       "      <th>latitude</th>\n",
       "      <th>longitude</th>\n",
       "      <th>open year</th>\n",
       "      <th>close year</th>\n",
       "    </tr>\n",
       "  </thead>\n",
       "  <tbody>\n",
       "    <tr>\n",
       "      <th>0</th>\n",
       "      <td>Antrim</td>\n",
       "      <td>5880</td>\n",
       "      <td>LH_RATHLIN_WEST</td>\n",
       "      <td>10</td>\n",
       "      <td>309200</td>\n",
       "      <td>451800</td>\n",
       "      <td>55.30083</td>\n",
       "      <td>-6.28028</td>\n",
       "      <td>2000</td>\n",
       "      <td>(null)</td>\n",
       "    </tr>\n",
       "    <tr>\n",
       "      <th>1</th>\n",
       "      <td>Carlow</td>\n",
       "      <td>4415</td>\n",
       "      <td>TULLOW (Waterworks)</td>\n",
       "      <td>76</td>\n",
       "      <td>284700</td>\n",
       "      <td>173400</td>\n",
       "      <td>52.80528</td>\n",
       "      <td>-6.74306</td>\n",
       "      <td>1985</td>\n",
       "      <td>(null)</td>\n",
       "    </tr>\n",
       "    <tr>\n",
       "      <th>2</th>\n",
       "      <td>Carlow</td>\n",
       "      <td>2414</td>\n",
       "      <td>BORRIS G.S.</td>\n",
       "      <td>85</td>\n",
       "      <td>272400</td>\n",
       "      <td>150700</td>\n",
       "      <td>52.60278</td>\n",
       "      <td>-6.93056</td>\n",
       "      <td>1944</td>\n",
       "      <td>1991</td>\n",
       "    </tr>\n",
       "    <tr>\n",
       "      <th>3</th>\n",
       "      <td>Carlow</td>\n",
       "      <td>1214</td>\n",
       "      <td>CARLOW (SUGAR FACTORY)</td>\n",
       "      <td>58</td>\n",
       "      <td>272200</td>\n",
       "      <td>178400</td>\n",
       "      <td>52.85139</td>\n",
       "      <td>-6.92778</td>\n",
       "      <td>1953</td>\n",
       "      <td>1960</td>\n",
       "    </tr>\n",
       "    <tr>\n",
       "      <th>4</th>\n",
       "      <td>Carlow</td>\n",
       "      <td>115</td>\n",
       "      <td>HACKETSTOWN RECTORY</td>\n",
       "      <td>182</td>\n",
       "      <td>297600</td>\n",
       "      <td>180500</td>\n",
       "      <td>52.86667</td>\n",
       "      <td>-6.55000</td>\n",
       "      <td>1910</td>\n",
       "      <td>1944</td>\n",
       "    </tr>\n",
       "  </tbody>\n",
       "</table>\n",
       "</div>"
      ],
      "text/plain": [
       "   county  station name                    name  height(m)  easting  northing  \\\n",
       "0  Antrim          5880         LH_RATHLIN_WEST         10   309200    451800   \n",
       "1  Carlow          4415     TULLOW (Waterworks)         76   284700    173400   \n",
       "2  Carlow          2414             BORRIS G.S.         85   272400    150700   \n",
       "3  Carlow          1214  CARLOW (SUGAR FACTORY)         58   272200    178400   \n",
       "4  Carlow           115     HACKETSTOWN RECTORY        182   297600    180500   \n",
       "\n",
       "   latitude  longitude open year close year  \n",
       "0  55.30083   -6.28028      2000     (null)  \n",
       "1  52.80528   -6.74306      1985     (null)  \n",
       "2  52.60278   -6.93056      1944       1991  \n",
       "3  52.85139   -6.92778      1953       1960  \n",
       "4  52.86667   -6.55000      1910       1944  "
      ]
     },
     "execution_count": 6,
     "metadata": {},
     "output_type": "execute_result"
    }
   ],
   "source": [
    "weatherStations = pd.read_csv(url)\n",
    "weatherStations.head()"
   ]
  },
  {
   "cell_type": "code",
   "execution_count": 5,
   "metadata": {},
   "outputs": [
    {
     "data": {
      "text/html": [
       "<div>\n",
       "<style scoped>\n",
       "    .dataframe tbody tr th:only-of-type {\n",
       "        vertical-align: middle;\n",
       "    }\n",
       "\n",
       "    .dataframe tbody tr th {\n",
       "        vertical-align: top;\n",
       "    }\n",
       "\n",
       "    .dataframe thead th {\n",
       "        text-align: right;\n",
       "    }\n",
       "</style>\n",
       "<table border=\"1\" class=\"dataframe\">\n",
       "  <thead>\n",
       "    <tr style=\"text-align: right;\">\n",
       "      <th></th>\n",
       "      <th>county</th>\n",
       "      <th>station name</th>\n",
       "      <th>name</th>\n",
       "      <th>height(m)</th>\n",
       "      <th>easting</th>\n",
       "      <th>northing</th>\n",
       "      <th>latitude</th>\n",
       "      <th>longitude</th>\n",
       "      <th>open year</th>\n",
       "      <th>close year</th>\n",
       "    </tr>\n",
       "  </thead>\n",
       "  <tbody>\n",
       "    <tr>\n",
       "      <th>0</th>\n",
       "      <td>Antrim</td>\n",
       "      <td>5880</td>\n",
       "      <td>LH_RATHLIN_WEST</td>\n",
       "      <td>10</td>\n",
       "      <td>309200</td>\n",
       "      <td>451800</td>\n",
       "      <td>55.30083</td>\n",
       "      <td>-6.28028</td>\n",
       "      <td>2000</td>\n",
       "      <td>(null)</td>\n",
       "    </tr>\n",
       "    <tr>\n",
       "      <th>1</th>\n",
       "      <td>Carlow</td>\n",
       "      <td>4415</td>\n",
       "      <td>TULLOW (Waterworks)</td>\n",
       "      <td>76</td>\n",
       "      <td>284700</td>\n",
       "      <td>173400</td>\n",
       "      <td>52.80528</td>\n",
       "      <td>-6.74306</td>\n",
       "      <td>1985</td>\n",
       "      <td>(null)</td>\n",
       "    </tr>\n",
       "    <tr>\n",
       "      <th>2</th>\n",
       "      <td>Carlow</td>\n",
       "      <td>2414</td>\n",
       "      <td>BORRIS G.S.</td>\n",
       "      <td>85</td>\n",
       "      <td>272400</td>\n",
       "      <td>150700</td>\n",
       "      <td>52.60278</td>\n",
       "      <td>-6.93056</td>\n",
       "      <td>1944</td>\n",
       "      <td>1991</td>\n",
       "    </tr>\n",
       "    <tr>\n",
       "      <th>3</th>\n",
       "      <td>Carlow</td>\n",
       "      <td>1214</td>\n",
       "      <td>CARLOW (SUGAR FACTORY)</td>\n",
       "      <td>58</td>\n",
       "      <td>272200</td>\n",
       "      <td>178400</td>\n",
       "      <td>52.85139</td>\n",
       "      <td>-6.92778</td>\n",
       "      <td>1953</td>\n",
       "      <td>1960</td>\n",
       "    </tr>\n",
       "    <tr>\n",
       "      <th>4</th>\n",
       "      <td>Carlow</td>\n",
       "      <td>115</td>\n",
       "      <td>HACKETSTOWN RECTORY</td>\n",
       "      <td>182</td>\n",
       "      <td>297600</td>\n",
       "      <td>180500</td>\n",
       "      <td>52.86667</td>\n",
       "      <td>-6.55000</td>\n",
       "      <td>1910</td>\n",
       "      <td>1944</td>\n",
       "    </tr>\n",
       "  </tbody>\n",
       "</table>\n",
       "</div>"
      ],
      "text/plain": [
       "   county  station name                    name  height(m)  easting  northing  \\\n",
       "0  Antrim          5880         LH_RATHLIN_WEST         10   309200    451800   \n",
       "1  Carlow          4415     TULLOW (Waterworks)         76   284700    173400   \n",
       "2  Carlow          2414             BORRIS G.S.         85   272400    150700   \n",
       "3  Carlow          1214  CARLOW (SUGAR FACTORY)         58   272200    178400   \n",
       "4  Carlow           115     HACKETSTOWN RECTORY        182   297600    180500   \n",
       "\n",
       "   latitude  longitude open year close year  \n",
       "0  55.30083   -6.28028      2000     (null)  \n",
       "1  52.80528   -6.74306      1985     (null)  \n",
       "2  52.60278   -6.93056      1944       1991  \n",
       "3  52.85139   -6.92778      1953       1960  \n",
       "4  52.86667   -6.55000      1910       1944  "
      ]
     },
     "execution_count": 5,
     "metadata": {},
     "output_type": "execute_result"
    }
   ],
   "source": []
  },
  {
   "cell_type": "code",
   "execution_count": null,
   "metadata": {},
   "outputs": [],
   "source": []
  }
 ],
 "metadata": {
  "kernelspec": {
   "display_name": "Python 3.10.8 64-bit (microsoft store)",
   "language": "python",
   "name": "python3"
  },
  "language_info": {
   "codemirror_mode": {
    "name": "ipython",
    "version": 3
   },
   "file_extension": ".py",
   "mimetype": "text/x-python",
   "name": "python",
   "nbconvert_exporter": "python",
   "pygments_lexer": "ipython3",
   "version": "3.10.8"
  },
  "orig_nbformat": 4,
  "vscode": {
   "interpreter": {
    "hash": "6a08fcf68f6d29b2326135a6912241a007a7785b998dba888347c81b585e1afa"
   }
  }
 },
 "nbformat": 4,
 "nbformat_minor": 2
}
