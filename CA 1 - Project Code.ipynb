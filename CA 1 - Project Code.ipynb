{
 "cells": [
  {
   "cell_type": "markdown",
   "metadata": {},
   "source": [
    "Install neccessary packages "
   ]
  },
  {
   "cell_type": "code",
   "execution_count": 1,
   "metadata": {},
   "outputs": [
    {
     "name": "stdout",
     "output_type": "stream",
     "text": [
      "Requirement already satisfied: pyarrow in c:\\users\\stehayes\\appdata\\local\\packages\\pythonsoftwarefoundation.python.3.8_qbz5n2kfra8p0\\localcache\\local-packages\\python38\\site-packages (9.0.0)\n",
      "Requirement already satisfied: numpy>=1.16.6 in c:\\users\\stehayes\\appdata\\local\\packages\\pythonsoftwarefoundation.python.3.8_qbz5n2kfra8p0\\localcache\\local-packages\\python38\\site-packages (from pyarrow) (1.23.1)\n",
      "Note: you may need to restart the kernel to use updated packages.\n"
     ]
    }
   ],
   "source": [
    "%pip install pyarrow"
   ]
  },
  {
   "cell_type": "code",
   "execution_count": 1,
   "metadata": {},
   "outputs": [],
   "source": [
    "from urllib import request as rq\n",
    "import pandas as pd\n",
    "import os\n",
    "import pyarrow as pa # not sure will i use this \n",
    "import numpy as np\n",
    "import ipywidgets\n",
    "from ipywidgets import widgets\n",
    "from ipywidgets import interact, interactive, fixed, VBox\n",
    "import scipy.stats as stats\n",
    "import matplotlib.pyplot as plt\n",
    "import matplotlib\n",
    "import seaborn as sns\n",
    "from sklearn.preprocessing import OrdinalEncoder"
   ]
  },
  {
   "cell_type": "markdown",
   "metadata": {},
   "source": [
    "Download the Dublin Bus data from https://data.gov.ie/organization/dublin-city-council?tags=Transport+and+Infrastructure"
   ]
  },
  {
   "cell_type": "code",
   "execution_count": 3,
   "metadata": {},
   "outputs": [
    {
     "name": "stdout",
     "output_type": "stream",
     "text": [
      "Zips folder exists\n"
     ]
    }
   ],
   "source": [
    "# Check folder existence before downloading\n",
    "if os.path.exists('./Zips/Bus'):\n",
    "    print(\"Zips folder exists\")\n",
    "else:\n",
    "    os.makedirs('./Zips/Bus/', exist_ok = True)\n",
    "\n",
    "url = \"https://opendata.dublincity.ie/TrafficOpenData/sir010113-310113.zip\"\n",
    "busFile = rq.urlretrieve(url, './Zips/Bus/DublinBusdata.zip' )    "
   ]
  },
  {
   "cell_type": "code",
   "execution_count": 4,
   "metadata": {},
   "outputs": [],
   "source": [
    "import zipfile as zip\n",
    "# Zip creates its own folders - no need to check for folder existence\n",
    "with zip.ZipFile(busFile[0],  mode='r') as arc: \n",
    "    arc.extractall('./Data/Bus/Gz/')"
   ]
  },
  {
   "cell_type": "markdown",
   "metadata": {},
   "source": [
    "Use a generator to load the data into pandas data frame https://pandasninja.com/2019/04/how-to-read-lots-of-csv-files-easily-into-pandas/#:~:text=How%20to%20read%20lots%20of%20csv%20files%20easily,need%20...%204%204.%20Leverage%20regular%20expressions%20\n"
   ]
  },
  {
   "cell_type": "code",
   "execution_count": 28,
   "metadata": {},
   "outputs": [],
   "source": [
    "\n",
    "def load_Files(files):\n",
    "    columns = ['Timestamp', 'LineID', 'Direction', 'JourneyPatternID', 'TimeFrame', 'VehicleJourneyID', 'Operator', 'Congestion', 'LonWGS84', 'LatWGS84', 'Delay', 'BlockID', 'VehicleID', 'StopID', 'AtStop']\n",
    "    for f in files:\n",
    "        print(f)\n",
    "        yield pd.read_csv('./Data/Bus/Gz/' + f, compression='gzip', delimiter=',', header=0, names=columns, parse_dates=True, low_memory=True)\n",
    "\n",
    "files = os.listdir('./Data/Bus/Gz/')\n",
    "DBfiles = [f for f in files if f.endswith('.gz')]\n",
    "\n",
    "if os.path.exists('./Data/Bus/CleanedBusData.parquet'):\n",
    "    df = pd.read_parquet('./Data/Bus/CleanedBusData.parquet')\n",
    "else:\n",
    "    df = pd.concat(load_Files(DBfiles))"
   ]
  },
  {
   "cell_type": "markdown",
   "metadata": {},
   "source": [
    "Download the weather station details https://cli.fusio.net/cli/climate_data/webdata/StationDetails.csv"
   ]
  },
  {
   "cell_type": "code",
   "execution_count": 29,
   "metadata": {},
   "outputs": [
    {
     "name": "stdout",
     "output_type": "stream",
     "text": [
      "['TimeFrame', 'Operator']\n",
      "['VehicleJourneyID', 'Timestamp', 'Direction', 'LatWGS84', 'Delay', 'BlockID', 'Congestion', 'VehicleID', 'AtStop', 'LineID', 'LonWGS84']\n"
     ]
    }
   ],
   "source": [
    "# Getting the list of categorical columns\n",
    "CategoricalColumns = list(set(list(df.select_dtypes(exclude=[np.number]).columns)))\n",
    "NumericalColumns = list(set(list(df.select_dtypes([np.number]).columns)))\n",
    "\n",
    "print(CategoricalColumns)\n",
    "print(NumericalColumns)\n",
    "\n",
    "ColumnsToExclude = ['JourneyPatternID', 'StopID']\n",
    "CategoricalColumns = list(set(CategoricalColumns) - set(ColumnsToExclude))\n",
    "NumericalColumns = list(set(NumericalColumns)-set(ColumnsToExclude))\n",
    "\n",
    "\n"
   ]
  },
  {
   "cell_type": "code",
   "execution_count": null,
   "metadata": {},
   "outputs": [],
   "source": [
    "df = df.drop(ColumnsToExclude, axis=1)\n",
    "df = df.dropna()\n"
   ]
  },
  {
   "cell_type": "code",
   "execution_count": 30,
   "metadata": {},
   "outputs": [
    {
     "data": {
      "text/html": [
       "<div>\n",
       "<style scoped>\n",
       "    .dataframe tbody tr th:only-of-type {\n",
       "        vertical-align: middle;\n",
       "    }\n",
       "\n",
       "    .dataframe tbody tr th {\n",
       "        vertical-align: top;\n",
       "    }\n",
       "\n",
       "    .dataframe thead th {\n",
       "        text-align: right;\n",
       "    }\n",
       "</style>\n",
       "<table border=\"1\" class=\"dataframe\">\n",
       "  <thead>\n",
       "    <tr style=\"text-align: right;\">\n",
       "      <th></th>\n",
       "      <th>Timestamp</th>\n",
       "      <th>LineID</th>\n",
       "      <th>Direction</th>\n",
       "      <th>TimeFrame</th>\n",
       "      <th>VehicleJourneyID</th>\n",
       "      <th>Operator</th>\n",
       "      <th>Congestion</th>\n",
       "      <th>LonWGS84</th>\n",
       "      <th>LatWGS84</th>\n",
       "      <th>Delay</th>\n",
       "      <th>BlockID</th>\n",
       "      <th>VehicleID</th>\n",
       "      <th>AtStop</th>\n",
       "    </tr>\n",
       "  </thead>\n",
       "  <tbody>\n",
       "    <tr>\n",
       "      <th>0</th>\n",
       "      <td>1356998405000000</td>\n",
       "      <td>27.0</td>\n",
       "      <td>0</td>\n",
       "      <td>2012-12-31</td>\n",
       "      <td>3883</td>\n",
       "      <td>RD</td>\n",
       "      <td>0</td>\n",
       "      <td>-6.233417</td>\n",
       "      <td>53.342232</td>\n",
       "      <td>0</td>\n",
       "      <td>27017</td>\n",
       "      <td>33521</td>\n",
       "      <td>0</td>\n",
       "    </tr>\n",
       "    <tr>\n",
       "      <th>1</th>\n",
       "      <td>1356998407000000</td>\n",
       "      <td>40.0</td>\n",
       "      <td>0</td>\n",
       "      <td>2012-12-31</td>\n",
       "      <td>2226</td>\n",
       "      <td>HN</td>\n",
       "      <td>0</td>\n",
       "      <td>-6.278250</td>\n",
       "      <td>53.416683</td>\n",
       "      <td>0</td>\n",
       "      <td>40206</td>\n",
       "      <td>33142</td>\n",
       "      <td>0</td>\n",
       "    </tr>\n",
       "    <tr>\n",
       "      <th>2</th>\n",
       "      <td>1356998407000000</td>\n",
       "      <td>7.0</td>\n",
       "      <td>0</td>\n",
       "      <td>2012-12-31</td>\n",
       "      <td>6106</td>\n",
       "      <td>D1</td>\n",
       "      <td>0</td>\n",
       "      <td>-6.231633</td>\n",
       "      <td>53.317768</td>\n",
       "      <td>0</td>\n",
       "      <td>7019</td>\n",
       "      <td>43004</td>\n",
       "      <td>1</td>\n",
       "    </tr>\n",
       "    <tr>\n",
       "      <th>3</th>\n",
       "      <td>1356998411000000</td>\n",
       "      <td>747.0</td>\n",
       "      <td>0</td>\n",
       "      <td>2012-12-31</td>\n",
       "      <td>3531</td>\n",
       "      <td>SL</td>\n",
       "      <td>0</td>\n",
       "      <td>-6.254617</td>\n",
       "      <td>53.355484</td>\n",
       "      <td>-454</td>\n",
       "      <td>747007</td>\n",
       "      <td>40039</td>\n",
       "      <td>0</td>\n",
       "    </tr>\n",
       "    <tr>\n",
       "      <th>4</th>\n",
       "      <td>1356998411000000</td>\n",
       "      <td>56.0</td>\n",
       "      <td>0</td>\n",
       "      <td>2012-12-31</td>\n",
       "      <td>1830</td>\n",
       "      <td>RD</td>\n",
       "      <td>0</td>\n",
       "      <td>-6.233183</td>\n",
       "      <td>53.342201</td>\n",
       "      <td>0</td>\n",
       "      <td>56001</td>\n",
       "      <td>33488</td>\n",
       "      <td>0</td>\n",
       "    </tr>\n",
       "  </tbody>\n",
       "</table>\n",
       "</div>"
      ],
      "text/plain": [
       "          Timestamp  LineID  Direction   TimeFrame  VehicleJourneyID Operator  \\\n",
       "0  1356998405000000    27.0          0  2012-12-31              3883       RD   \n",
       "1  1356998407000000    40.0          0  2012-12-31              2226       HN   \n",
       "2  1356998407000000     7.0          0  2012-12-31              6106       D1   \n",
       "3  1356998411000000   747.0          0  2012-12-31              3531       SL   \n",
       "4  1356998411000000    56.0          0  2012-12-31              1830       RD   \n",
       "\n",
       "   Congestion  LonWGS84   LatWGS84  Delay  BlockID  VehicleID  AtStop  \n",
       "0           0 -6.233417  53.342232      0    27017      33521       0  \n",
       "1           0 -6.278250  53.416683      0    40206      33142       0  \n",
       "2           0 -6.231633  53.317768      0     7019      43004       1  \n",
       "3           0 -6.254617  53.355484   -454   747007      40039       0  \n",
       "4           0 -6.233183  53.342201      0    56001      33488       0  "
      ]
     },
     "execution_count": 30,
     "metadata": {},
     "output_type": "execute_result"
    }
   ],
   "source": [
    "df.head()"
   ]
  },
  {
   "cell_type": "code",
   "execution_count": 31,
   "metadata": {},
   "outputs": [],
   "source": [
    "df['datetime'] = pd.to_datetime(df['Timestamp'], unit='us')"
   ]
  },
  {
   "cell_type": "code",
   "execution_count": 32,
   "metadata": {},
   "outputs": [
    {
     "data": {
      "text/plain": [
       "<bound method NDFrame.head of                Timestamp  LineID  Direction   TimeFrame  VehicleJourneyID  \\\n",
       "0       1356998405000000    27.0          0  2012-12-31              3883   \n",
       "1       1356998407000000    40.0          0  2012-12-31              2226   \n",
       "2       1356998407000000     7.0          0  2012-12-31              6106   \n",
       "3       1356998411000000   747.0          0  2012-12-31              3531   \n",
       "4       1356998411000000    56.0          0  2012-12-31              1830   \n",
       "...                  ...     ...        ...         ...               ...   \n",
       "603915  1359632694000000    39.0          0  2013-01-31              3247   \n",
       "603916  1359632694000000     9.0          0  2013-01-31              3649   \n",
       "603917  1359632694000000    41.0          0  2013-01-31               112   \n",
       "603918  1359632694000000   145.0          0  2013-01-31              6810   \n",
       "603919  1359632694000000   145.0          0  2013-01-31              6471   \n",
       "\n",
       "       Operator  Congestion  LonWGS84   LatWGS84  Delay  BlockID  VehicleID  \\\n",
       "0            RD           0 -6.233417  53.342232      0    27017      33521   \n",
       "1            HN           0 -6.278250  53.416683      0    40206      33142   \n",
       "2            D1           0 -6.231633  53.317768      0     7019      43004   \n",
       "3            SL           0 -6.254617  53.355484   -454   747007      40039   \n",
       "4            RD           0 -6.233183  53.342201      0    56001      33488   \n",
       "...         ...         ...       ...        ...    ...      ...        ...   \n",
       "603915       PO           0 -6.410302  53.390999    128    39021      36046   \n",
       "603916       PO           0 -6.266890  53.389503    118     9008      33437   \n",
       "603917       HN           0 -6.244456  53.398102   -186   822010      33221   \n",
       "603918       D1           0 -6.256400  53.335468    192   821387      33542   \n",
       "603919       D1           0 -6.114362  53.208008   -171   145015      33641   \n",
       "\n",
       "        AtStop            datetime  \n",
       "0            0 2013-01-01 00:00:05  \n",
       "1            0 2013-01-01 00:00:07  \n",
       "2            1 2013-01-01 00:00:07  \n",
       "3            0 2013-01-01 00:00:11  \n",
       "4            0 2013-01-01 00:00:11  \n",
       "...        ...                 ...  \n",
       "603915       0 2013-01-31 11:44:54  \n",
       "603916       0 2013-01-31 11:44:54  \n",
       "603917       0 2013-01-31 11:44:54  \n",
       "603918       1 2013-01-31 11:44:54  \n",
       "603919       0 2013-01-31 11:44:54  \n",
       "\n",
       "[44453044 rows x 14 columns]>"
      ]
     },
     "execution_count": 32,
     "metadata": {},
     "output_type": "execute_result"
    }
   ],
   "source": [
    "df.head"
   ]
  },
  {
   "cell_type": "code",
   "execution_count": 33,
   "metadata": {},
   "outputs": [
    {
     "name": "stdout",
     "output_type": "stream",
     "text": [
      "The data has 44453044 Rows and 14 columns\n",
      "The types of columns are:\n"
     ]
    },
    {
     "data": {
      "text/plain": [
       "Timestamp                    int64\n",
       "LineID                     float64\n",
       "Direction                    int64\n",
       "TimeFrame                   object\n",
       "VehicleJourneyID             int64\n",
       "Operator                    object\n",
       "Congestion                   int64\n",
       "LonWGS84                   float64\n",
       "LatWGS84                   float64\n",
       "Delay                        int64\n",
       "BlockID                      int64\n",
       "VehicleID                    int64\n",
       "AtStop                       int64\n",
       "datetime            datetime64[ns]\n",
       "dtype: object"
      ]
     },
     "execution_count": 33,
     "metadata": {},
     "output_type": "execute_result"
    }
   ],
   "source": [
    "print ('The data has {} Rows and {} columns'.format(df.shape[0],df.shape[1]))\n",
    "print(\"The types of columns are:\")\n",
    "df.dtypes"
   ]
  },
  {
   "cell_type": "code",
   "execution_count": 36,
   "metadata": {},
   "outputs": [],
   "source": [
    "def num_missing(x):\n",
    "    return len(x.index)-x.count()\n",
    "\n",
    "def num_unique(x):\n",
    "    return len(np.unique(x))\n",
    "\n",
    "temp_df = df.describe().T\n",
    "missing_df = pd.DataFrame(df.apply(num_missing, axis=0)) \n",
    "missing_df.columns = ['missing']\n",
    "unq_df = pd.DataFrame(df.apply(num_unique, axis=0))\n",
    "unq_df.columns = ['unique']\n",
    "types_df = pd.DataFrame(df.dtypes)\n",
    "types_df.columns = ['DataType']"
   ]
  },
  {
   "cell_type": "code",
   "execution_count": 42,
   "metadata": {},
   "outputs": [
    {
     "data": {
      "text/plain": [
       "array(['2013-01-01T00:00:05.000000000', '2013-01-01T00:00:07.000000000',\n",
       "       '2013-01-01T00:00:11.000000000', ...,\n",
       "       '2013-01-31T11:44:29.000000000', '2013-01-31T11:44:40.000000000',\n",
       "       '2013-01-31T11:44:54.000000000'], dtype='datetime64[ns]')"
      ]
     },
     "execution_count": 42,
     "metadata": {},
     "output_type": "execute_result"
    }
   ],
   "source": [
    "df['datetime'].unique()"
   ]
  },
  {
   "cell_type": "code",
   "execution_count": 38,
   "metadata": {},
   "outputs": [
    {
     "data": {
      "text/html": [
       "<div>\n",
       "<style scoped>\n",
       "    .dataframe tbody tr th:only-of-type {\n",
       "        vertical-align: middle;\n",
       "    }\n",
       "\n",
       "    .dataframe tbody tr th {\n",
       "        vertical-align: top;\n",
       "    }\n",
       "\n",
       "    .dataframe thead th {\n",
       "        text-align: right;\n",
       "    }\n",
       "</style>\n",
       "<table border=\"1\" class=\"dataframe\">\n",
       "  <thead>\n",
       "    <tr style=\"text-align: right;\">\n",
       "      <th></th>\n",
       "      <th>count</th>\n",
       "      <th>mean</th>\n",
       "      <th>std</th>\n",
       "      <th>min</th>\n",
       "      <th>25%</th>\n",
       "      <th>50%</th>\n",
       "      <th>75%</th>\n",
       "      <th>max</th>\n",
       "      <th>missing</th>\n",
       "      <th>unique</th>\n",
       "      <th>DataType</th>\n",
       "    </tr>\n",
       "  </thead>\n",
       "  <tbody>\n",
       "    <tr>\n",
       "      <th>Timestamp</th>\n",
       "      <td>44453044.0</td>\n",
       "      <td>1.358318e+15</td>\n",
       "      <td>7.394966e+11</td>\n",
       "      <td>1.356998e+15</td>\n",
       "      <td>1.357679e+15</td>\n",
       "      <td>1.358327e+15</td>\n",
       "      <td>1.358955e+15</td>\n",
       "      <td>1.359633e+15</td>\n",
       "      <td>0</td>\n",
       "      <td>813102</td>\n",
       "      <td>int64</td>\n",
       "    </tr>\n",
       "    <tr>\n",
       "      <th>LineID</th>\n",
       "      <td>44453044.0</td>\n",
       "      <td>7.796879e+01</td>\n",
       "      <td>1.146419e+02</td>\n",
       "      <td>1.000000e+00</td>\n",
       "      <td>2.500000e+01</td>\n",
       "      <td>4.000000e+01</td>\n",
       "      <td>8.300000e+01</td>\n",
       "      <td>7.470000e+02</td>\n",
       "      <td>0</td>\n",
       "      <td>66</td>\n",
       "      <td>float64</td>\n",
       "    </tr>\n",
       "    <tr>\n",
       "      <th>Direction</th>\n",
       "      <td>44453044.0</td>\n",
       "      <td>0.000000e+00</td>\n",
       "      <td>0.000000e+00</td>\n",
       "      <td>0.000000e+00</td>\n",
       "      <td>0.000000e+00</td>\n",
       "      <td>0.000000e+00</td>\n",
       "      <td>0.000000e+00</td>\n",
       "      <td>0.000000e+00</td>\n",
       "      <td>0</td>\n",
       "      <td>1</td>\n",
       "      <td>int64</td>\n",
       "    </tr>\n",
       "    <tr>\n",
       "      <th>VehicleJourneyID</th>\n",
       "      <td>44453044.0</td>\n",
       "      <td>9.417338e+03</td>\n",
       "      <td>6.159986e+04</td>\n",
       "      <td>1.000000e+00</td>\n",
       "      <td>2.536000e+03</td>\n",
       "      <td>4.718000e+03</td>\n",
       "      <td>6.769000e+03</td>\n",
       "      <td>9.998560e+05</td>\n",
       "      <td>0</td>\n",
       "      <td>18614</td>\n",
       "      <td>int64</td>\n",
       "    </tr>\n",
       "    <tr>\n",
       "      <th>Congestion</th>\n",
       "      <td>44453044.0</td>\n",
       "      <td>1.163315e-02</td>\n",
       "      <td>1.072279e-01</td>\n",
       "      <td>0.000000e+00</td>\n",
       "      <td>0.000000e+00</td>\n",
       "      <td>0.000000e+00</td>\n",
       "      <td>0.000000e+00</td>\n",
       "      <td>1.000000e+00</td>\n",
       "      <td>0</td>\n",
       "      <td>2</td>\n",
       "      <td>int64</td>\n",
       "    </tr>\n",
       "    <tr>\n",
       "      <th>LonWGS84</th>\n",
       "      <td>44453044.0</td>\n",
       "      <td>-6.272804e+00</td>\n",
       "      <td>8.389086e-02</td>\n",
       "      <td>-6.617517e+00</td>\n",
       "      <td>-6.308651e+00</td>\n",
       "      <td>-6.261600e+00</td>\n",
       "      <td>-6.233166e+00</td>\n",
       "      <td>-6.052917e+00</td>\n",
       "      <td>0</td>\n",
       "      <td>456755</td>\n",
       "      <td>float64</td>\n",
       "    </tr>\n",
       "    <tr>\n",
       "      <th>LatWGS84</th>\n",
       "      <td>44453044.0</td>\n",
       "      <td>5.334513e+01</td>\n",
       "      <td>5.488335e-02</td>\n",
       "      <td>5.306802e+01</td>\n",
       "      <td>5.332005e+01</td>\n",
       "      <td>5.334645e+01</td>\n",
       "      <td>5.337532e+01</td>\n",
       "      <td>5.360873e+01</td>\n",
       "      <td>0</td>\n",
       "      <td>131327</td>\n",
       "      <td>float64</td>\n",
       "    </tr>\n",
       "    <tr>\n",
       "      <th>Delay</th>\n",
       "      <td>44453044.0</td>\n",
       "      <td>-2.816643e+01</td>\n",
       "      <td>4.729787e+02</td>\n",
       "      <td>-1.504500e+04</td>\n",
       "      <td>-2.090000e+02</td>\n",
       "      <td>0.000000e+00</td>\n",
       "      <td>1.040000e+02</td>\n",
       "      <td>1.161220e+05</td>\n",
       "      <td>0</td>\n",
       "      <td>12638</td>\n",
       "      <td>int64</td>\n",
       "    </tr>\n",
       "    <tr>\n",
       "      <th>BlockID</th>\n",
       "      <td>44453044.0</td>\n",
       "      <td>1.092380e+05</td>\n",
       "      <td>1.921183e+05</td>\n",
       "      <td>3.900000e+02</td>\n",
       "      <td>1.602000e+04</td>\n",
       "      <td>4.020500e+04</td>\n",
       "      <td>8.400400e+04</td>\n",
       "      <td>8.350020e+05</td>\n",
       "      <td>0</td>\n",
       "      <td>1228</td>\n",
       "      <td>int64</td>\n",
       "    </tr>\n",
       "    <tr>\n",
       "      <th>VehicleID</th>\n",
       "      <td>44453044.0</td>\n",
       "      <td>3.542929e+04</td>\n",
       "      <td>3.281127e+03</td>\n",
       "      <td>2.804700e+04</td>\n",
       "      <td>3.330800e+04</td>\n",
       "      <td>3.352500e+04</td>\n",
       "      <td>3.802500e+04</td>\n",
       "      <td>4.307800e+04</td>\n",
       "      <td>0</td>\n",
       "      <td>911</td>\n",
       "      <td>int64</td>\n",
       "    </tr>\n",
       "    <tr>\n",
       "      <th>AtStop</th>\n",
       "      <td>44453044.0</td>\n",
       "      <td>2.335881e-01</td>\n",
       "      <td>4.231131e-01</td>\n",
       "      <td>0.000000e+00</td>\n",
       "      <td>0.000000e+00</td>\n",
       "      <td>0.000000e+00</td>\n",
       "      <td>0.000000e+00</td>\n",
       "      <td>1.000000e+00</td>\n",
       "      <td>0</td>\n",
       "      <td>2</td>\n",
       "      <td>int64</td>\n",
       "    </tr>\n",
       "  </tbody>\n",
       "</table>\n",
       "</div>"
      ],
      "text/plain": [
       "                       count          mean           std           min  \\\n",
       "Timestamp         44453044.0  1.358318e+15  7.394966e+11  1.356998e+15   \n",
       "LineID            44453044.0  7.796879e+01  1.146419e+02  1.000000e+00   \n",
       "Direction         44453044.0  0.000000e+00  0.000000e+00  0.000000e+00   \n",
       "VehicleJourneyID  44453044.0  9.417338e+03  6.159986e+04  1.000000e+00   \n",
       "Congestion        44453044.0  1.163315e-02  1.072279e-01  0.000000e+00   \n",
       "LonWGS84          44453044.0 -6.272804e+00  8.389086e-02 -6.617517e+00   \n",
       "LatWGS84          44453044.0  5.334513e+01  5.488335e-02  5.306802e+01   \n",
       "Delay             44453044.0 -2.816643e+01  4.729787e+02 -1.504500e+04   \n",
       "BlockID           44453044.0  1.092380e+05  1.921183e+05  3.900000e+02   \n",
       "VehicleID         44453044.0  3.542929e+04  3.281127e+03  2.804700e+04   \n",
       "AtStop            44453044.0  2.335881e-01  4.231131e-01  0.000000e+00   \n",
       "\n",
       "                           25%           50%           75%           max  \\\n",
       "Timestamp         1.357679e+15  1.358327e+15  1.358955e+15  1.359633e+15   \n",
       "LineID            2.500000e+01  4.000000e+01  8.300000e+01  7.470000e+02   \n",
       "Direction         0.000000e+00  0.000000e+00  0.000000e+00  0.000000e+00   \n",
       "VehicleJourneyID  2.536000e+03  4.718000e+03  6.769000e+03  9.998560e+05   \n",
       "Congestion        0.000000e+00  0.000000e+00  0.000000e+00  1.000000e+00   \n",
       "LonWGS84         -6.308651e+00 -6.261600e+00 -6.233166e+00 -6.052917e+00   \n",
       "LatWGS84          5.332005e+01  5.334645e+01  5.337532e+01  5.360873e+01   \n",
       "Delay            -2.090000e+02  0.000000e+00  1.040000e+02  1.161220e+05   \n",
       "BlockID           1.602000e+04  4.020500e+04  8.400400e+04  8.350020e+05   \n",
       "VehicleID         3.330800e+04  3.352500e+04  3.802500e+04  4.307800e+04   \n",
       "AtStop            0.000000e+00  0.000000e+00  0.000000e+00  1.000000e+00   \n",
       "\n",
       "                  missing  unique DataType  \n",
       "Timestamp               0  813102    int64  \n",
       "LineID                  0      66  float64  \n",
       "Direction               0       1    int64  \n",
       "VehicleJourneyID        0   18614    int64  \n",
       "Congestion              0       2    int64  \n",
       "LonWGS84                0  456755  float64  \n",
       "LatWGS84                0  131327  float64  \n",
       "Delay                   0   12638    int64  \n",
       "BlockID                 0    1228    int64  \n",
       "VehicleID               0     911    int64  \n",
       "AtStop                  0       2    int64  "
      ]
     },
     "execution_count": 38,
     "metadata": {},
     "output_type": "execute_result"
    }
   ],
   "source": [
    "summary_df = temp_df.join(missing_df).join(unq_df).join(types_df)\n",
    "summary_df"
   ]
  },
  {
   "cell_type": "code",
   "execution_count": 43,
   "metadata": {},
   "outputs": [
    {
     "data": {
      "text/html": [
       "<div>\n",
       "<style scoped>\n",
       "    .dataframe tbody tr th:only-of-type {\n",
       "        vertical-align: middle;\n",
       "    }\n",
       "\n",
       "    .dataframe tbody tr th {\n",
       "        vertical-align: top;\n",
       "    }\n",
       "\n",
       "    .dataframe thead th {\n",
       "        text-align: right;\n",
       "    }\n",
       "</style>\n",
       "<table border=\"1\" class=\"dataframe\">\n",
       "  <thead>\n",
       "    <tr style=\"text-align: right;\">\n",
       "      <th></th>\n",
       "      <th>missing</th>\n",
       "      <th>unique</th>\n",
       "      <th>DataType</th>\n",
       "    </tr>\n",
       "  </thead>\n",
       "  <tbody>\n",
       "    <tr>\n",
       "      <th>TimeFrame</th>\n",
       "      <td>0</td>\n",
       "      <td>32</td>\n",
       "      <td>object</td>\n",
       "    </tr>\n",
       "    <tr>\n",
       "      <th>Operator</th>\n",
       "      <td>0</td>\n",
       "      <td>8</td>\n",
       "      <td>object</td>\n",
       "    </tr>\n",
       "  </tbody>\n",
       "</table>\n",
       "</div>"
      ],
      "text/plain": [
       "           missing  unique DataType\n",
       "TimeFrame        0      32   object\n",
       "Operator         0       8   object"
      ]
     },
     "execution_count": 43,
     "metadata": {},
     "output_type": "execute_result"
    }
   ],
   "source": [
    "col_names = list(types_df.index)\n",
    "num_cols = len(col_names)\n",
    "index = range(num_cols)\n",
    "cat_index = []\n",
    "for i in index:\n",
    "    if col_names[i] in CategoricalColumns:\n",
    "        cat_index.append(i)\n",
    "summary_df_cat = missing_df.join(unq_df).join(types_df.iloc[cat_index], how='inner') #Only summarize categorical columns\n",
    "summary_df_cat"
   ]
  },
  {
   "cell_type": "code",
   "execution_count": 44,
   "metadata": {},
   "outputs": [],
   "source": [
    "df.to_parquet('./Data/Bus/CleanedBusData.parquet')"
   ]
  },
  {
   "cell_type": "code",
   "execution_count": 45,
   "metadata": {},
   "outputs": [],
   "source": [
    "url = 'https://cli.fusio.net/cli/climate_data/webdata/StationDetails.csv'\n"
   ]
  },
  {
   "cell_type": "markdown",
   "metadata": {},
   "source": [
    "Load the weather statio details for Dublin"
   ]
  },
  {
   "cell_type": "code",
   "execution_count": 46,
   "metadata": {},
   "outputs": [
    {
     "data": {
      "text/plain": [
       "0    False\n",
       "1    False\n",
       "2    False\n",
       "3    False\n",
       "4    False\n",
       "5    False\n",
       "6    False\n",
       "7    False\n",
       "8    False\n",
       "9    False\n",
       "Name: county, dtype: bool"
      ]
     },
     "execution_count": 46,
     "metadata": {},
     "output_type": "execute_result"
    }
   ],
   "source": [
    "weatherStations = pd.read_csv(url)\n",
    "weatherStations = weatherStations['county'].str.contains('Dublin')\n",
    "weatherStations.head(10)"
   ]
  },
  {
   "cell_type": "code",
   "execution_count": 5,
   "metadata": {},
   "outputs": [
    {
     "data": {
      "text/html": [
       "<div>\n",
       "<style scoped>\n",
       "    .dataframe tbody tr th:only-of-type {\n",
       "        vertical-align: middle;\n",
       "    }\n",
       "\n",
       "    .dataframe tbody tr th {\n",
       "        vertical-align: top;\n",
       "    }\n",
       "\n",
       "    .dataframe thead th {\n",
       "        text-align: right;\n",
       "    }\n",
       "</style>\n",
       "<table border=\"1\" class=\"dataframe\">\n",
       "  <thead>\n",
       "    <tr style=\"text-align: right;\">\n",
       "      <th></th>\n",
       "      <th>county</th>\n",
       "      <th>station name</th>\n",
       "      <th>name</th>\n",
       "      <th>height(m)</th>\n",
       "      <th>easting</th>\n",
       "      <th>northing</th>\n",
       "      <th>latitude</th>\n",
       "      <th>longitude</th>\n",
       "      <th>open year</th>\n",
       "      <th>close year</th>\n",
       "    </tr>\n",
       "  </thead>\n",
       "  <tbody>\n",
       "    <tr>\n",
       "      <th>0</th>\n",
       "      <td>Antrim</td>\n",
       "      <td>5880</td>\n",
       "      <td>LH_RATHLIN_WEST</td>\n",
       "      <td>10</td>\n",
       "      <td>309200</td>\n",
       "      <td>451800</td>\n",
       "      <td>55.30083</td>\n",
       "      <td>-6.28028</td>\n",
       "      <td>2000</td>\n",
       "      <td>(null)</td>\n",
       "    </tr>\n",
       "    <tr>\n",
       "      <th>1</th>\n",
       "      <td>Carlow</td>\n",
       "      <td>4415</td>\n",
       "      <td>TULLOW (Waterworks)</td>\n",
       "      <td>76</td>\n",
       "      <td>284700</td>\n",
       "      <td>173400</td>\n",
       "      <td>52.80528</td>\n",
       "      <td>-6.74306</td>\n",
       "      <td>1985</td>\n",
       "      <td>(null)</td>\n",
       "    </tr>\n",
       "    <tr>\n",
       "      <th>2</th>\n",
       "      <td>Carlow</td>\n",
       "      <td>2414</td>\n",
       "      <td>BORRIS G.S.</td>\n",
       "      <td>85</td>\n",
       "      <td>272400</td>\n",
       "      <td>150700</td>\n",
       "      <td>52.60278</td>\n",
       "      <td>-6.93056</td>\n",
       "      <td>1944</td>\n",
       "      <td>1991</td>\n",
       "    </tr>\n",
       "    <tr>\n",
       "      <th>3</th>\n",
       "      <td>Carlow</td>\n",
       "      <td>1214</td>\n",
       "      <td>CARLOW (SUGAR FACTORY)</td>\n",
       "      <td>58</td>\n",
       "      <td>272200</td>\n",
       "      <td>178400</td>\n",
       "      <td>52.85139</td>\n",
       "      <td>-6.92778</td>\n",
       "      <td>1953</td>\n",
       "      <td>1960</td>\n",
       "    </tr>\n",
       "    <tr>\n",
       "      <th>4</th>\n",
       "      <td>Carlow</td>\n",
       "      <td>115</td>\n",
       "      <td>HACKETSTOWN RECTORY</td>\n",
       "      <td>182</td>\n",
       "      <td>297600</td>\n",
       "      <td>180500</td>\n",
       "      <td>52.86667</td>\n",
       "      <td>-6.55000</td>\n",
       "      <td>1910</td>\n",
       "      <td>1944</td>\n",
       "    </tr>\n",
       "  </tbody>\n",
       "</table>\n",
       "</div>"
      ],
      "text/plain": [
       "   county  station name                    name  height(m)  easting  northing  \\\n",
       "0  Antrim          5880         LH_RATHLIN_WEST         10   309200    451800   \n",
       "1  Carlow          4415     TULLOW (Waterworks)         76   284700    173400   \n",
       "2  Carlow          2414             BORRIS G.S.         85   272400    150700   \n",
       "3  Carlow          1214  CARLOW (SUGAR FACTORY)         58   272200    178400   \n",
       "4  Carlow           115     HACKETSTOWN RECTORY        182   297600    180500   \n",
       "\n",
       "   latitude  longitude open year close year  \n",
       "0  55.30083   -6.28028      2000     (null)  \n",
       "1  52.80528   -6.74306      1985     (null)  \n",
       "2  52.60278   -6.93056      1944       1991  \n",
       "3  52.85139   -6.92778      1953       1960  \n",
       "4  52.86667   -6.55000      1910       1944  "
      ]
     },
     "execution_count": 5,
     "metadata": {},
     "output_type": "execute_result"
    }
   ],
   "source": []
  },
  {
   "cell_type": "code",
   "execution_count": null,
   "metadata": {},
   "outputs": [],
   "source": []
  }
 ],
 "metadata": {
  "kernelspec": {
   "display_name": "Python 3.10.8 64-bit (microsoft store)",
   "language": "python",
   "name": "python3"
  },
  "language_info": {
   "codemirror_mode": {
    "name": "ipython",
    "version": 3
   },
   "file_extension": ".py",
   "mimetype": "text/x-python",
   "name": "python",
   "nbconvert_exporter": "python",
   "pygments_lexer": "ipython3",
   "version": "3.10.8"
  },
  "orig_nbformat": 4,
  "vscode": {
   "interpreter": {
    "hash": "e0acaf148705ed9ed86cc5cad12259d7985e30670e5686e5f55604a9b3b84a55"
   }
  }
 },
 "nbformat": 4,
 "nbformat_minor": 2
}
