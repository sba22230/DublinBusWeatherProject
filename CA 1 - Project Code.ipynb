{
 "cells": [
  {
   "cell_type": "markdown",
   "metadata": {},
   "source": [
    "Install neccessary packages "
   ]
  },
  {
   "cell_type": "code",
   "execution_count": 5,
   "metadata": {},
   "outputs": [
    {
     "name": "stdout",
     "output_type": "stream",
     "text": [
      "Requirement already satisfied: pyarrow in c:\\users\\stehayes\\appdata\\local\\packages\\pythonsoftwarefoundation.python.3.10_qbz5n2kfra8p0\\localcache\\local-packages\\python310\\site-packages (9.0.0)\n",
      "Requirement already satisfied: numpy>=1.16.6 in c:\\users\\stehayes\\appdata\\local\\packages\\pythonsoftwarefoundation.python.3.10_qbz5n2kfra8p0\\localcache\\local-packages\\python310\\site-packages (from pyarrow) (1.22.3)\n",
      "Note: you may need to restart the kernel to use updated packages.\n"
     ]
    },
    {
     "name": "stderr",
     "output_type": "stream",
     "text": [
      "\n",
      "[notice] A new release of pip available: 22.2.2 -> 22.3\n",
      "[notice] To update, run: C:\\Users\\stehayes\\AppData\\Local\\Microsoft\\WindowsApps\\PythonSoftwareFoundation.Python.3.10_qbz5n2kfra8p0\\python.exe -m pip install --upgrade pip\n"
     ]
    }
   ],
   "source": [
    "%pip install pyarrow"
   ]
  },
  {
   "cell_type": "code",
   "execution_count": 6,
   "metadata": {},
   "outputs": [],
   "source": [
    "from urllib import request as rq\n",
    "import pandas as pd\n",
    "import os\n",
    "import pyarrow as pa # this is needed for the parquet file\n",
    "import numpy as np\n",
    "import ipywidgets\n",
    "from ipywidgets import widgets\n",
    "from ipywidgets import interact, interactive, fixed, VBox\n",
    "import scipy.stats as stats\n",
    "import matplotlib.pyplot as plt\n",
    "import matplotlib\n",
    "import seaborn as sns\n",
    "from sklearn.preprocessing import OrdinalEncoder"
   ]
  },
  {
   "cell_type": "code",
   "execution_count": 34,
   "metadata": {},
   "outputs": [
    {
     "name": "stdout",
     "output_type": "stream",
     "text": [
      "Data folder exists\n",
      "Bus Data folder exists\n",
      "Weather data folder exists\n"
     ]
    }
   ],
   "source": [
    "if os.path.exists('./Data'):\n",
    "    print('Data folder exists')\n",
    "\n",
    "if os.path.exists('./Data/Bus'):\n",
    "    print('Bus Data folder exists')\n",
    "else:\n",
    "    os.makedirs('./Data/Bus')\n",
    "\n",
    "if os.path.exists('./Data/Weather/'):\n",
    "    print('Weather data folder exists')\n",
    "else:\n",
    "    os.makedirs('./Data/Weather/')\n",
    "\n",
    "if os.path.exists('./Zips/MetEirrean'):\n",
    "    print('Weather folder exisits')\n",
    "else:\n",
    "    os.makedirs('./Zips/MetEirrean/')\n",
    "\n"
   ]
  },
  {
   "cell_type": "markdown",
   "metadata": {},
   "source": [
    "Download the Dublin Bus data from https://data.gov.ie/organization/dublin-city-council?tags=Transport+and+Infrastructure"
   ]
  },
  {
   "cell_type": "markdown",
   "metadata": {},
   "source": [
    "Use a generator to load the data into pandas data frame https://pandasninja.com/2019/04/how-to-read-lots-of-csv-files-easily-into-pandas/#:~:text=How%20to%20read%20lots%20of%20csv%20files%20easily,need%20...%204%204.%20Leverage%20regular%20expressions%20\n"
   ]
  },
  {
   "cell_type": "code",
   "execution_count": 39,
   "metadata": {},
   "outputs": [],
   "source": [
    "# Function to load the Dublin bus gz files \n",
    "def load_Files(direc, files, comtype):\n",
    "    columns = ['Timestamp', 'LineID', 'Direction', 'JourneyPatternID', 'TimeFrame', 'VehicleJourneyID', 'Operator', 'Congestion', 'LonWGS84', 'LatWGS84', 'Delay', 'BlockID', 'VehicleID', 'StopID', 'AtStop']\n",
    "    for f in files:\n",
    "        print(f)\n",
    "        yield pd.read_csv(direc + f, compression=comtype, delimiter=',', header=0, names=columns, parse_dates=True, low_memory=True)\n",
    "\n",
    "def crackit_open(busFile):\n",
    "    import zipfile as zip\n",
    "    # Zip creates its own folders - no need to check for folder existence\n",
    "    with zip.ZipFile(busFile,  mode='r') as arc: \n",
    "        arc.extractall('./Data/Bus/Gz/')  \n",
    "    files = os.listdir('./Data/Bus/Gz/')\n",
    "    DBfiles = [f for f in files if f.endswith('.gz')]\n",
    "    df = pd.concat(load_Files('./Data/Bus/Gz/', DBfiles, 'gzip'), copy = False)\n",
    "    return df"
   ]
  },
  {
   "cell_type": "code",
   "execution_count": 38,
   "metadata": {},
   "outputs": [
    {
     "name": "stdout",
     "output_type": "stream",
     "text": [
      "Parquest file exists, means the Bus data has been downloaded already \n"
     ]
    }
   ],
   "source": [
    "\n",
    "# Check parquet file existence before downloading - iof starting from afresh this takes a long time\n",
    "if os.path.exists('./Data/Bus/CleanedBusData.parquet'):\n",
    "    print(\"Parquest file exists, means the Bus data has been downloaded already \")\n",
    "    df = pd.read_parquet('./Data/Bus/CleanedBusData.parquet')\n",
    "elif os.path.exists('./Zips/Bus/DublinBusdata.zip'):\n",
    "    print(\"Zip file exists, we have already downloaded the Dublin Bus Zip data, crack it open\")\n",
    "    df = crackit_open('./Zips/Bus/DublinBusdata.zip')\n",
    "else:\n",
    "    os.makedirs('./Zips/Bus/', exist_ok = True)\n",
    "    url = \"https://opendata.dublincity.ie/TrafficOpenData/sir010113-310113.zip\"\n",
    "    busFile = rq.urlretrieve(url, './Zips/Bus/DublinBusdata.zip' )  \n",
    "    df = crackit_open('./Zips/Bus/DublinBusdata.zip')\n",
    "\n"
   ]
  },
  {
   "cell_type": "code",
   "execution_count": 8,
   "metadata": {},
   "outputs": [
    {
     "name": "stdout",
     "output_type": "stream",
     "text": [
      "Columns already dropped\n",
      "Columns already dropped\n"
     ]
    }
   ],
   "source": [
    "ColumnsToExclude = ('JourneyPatternID', 'StopID')\n",
    "\n",
    "# Data is loaded - now needs to be cleaned, there is an argument to be made to include this in the above cell \n",
    "# but I have added it here so that I can add more columns to be excluded as I go rather than load the raw data each time\n",
    "for c in ColumnsToExclude:\n",
    "    if c in df.columns:  # type: ignore\n",
    "        df = df.drop(c, axis=1)  # type: ignore\n",
    "    else:\n",
    "        print('Columns already dropped')\n",
    "\n",
    "\n"
   ]
  },
  {
   "cell_type": "code",
   "execution_count": 9,
   "metadata": {},
   "outputs": [
    {
     "data": {
      "text/html": [
       "<div>\n",
       "<style scoped>\n",
       "    .dataframe tbody tr th:only-of-type {\n",
       "        vertical-align: middle;\n",
       "    }\n",
       "\n",
       "    .dataframe tbody tr th {\n",
       "        vertical-align: top;\n",
       "    }\n",
       "\n",
       "    .dataframe thead th {\n",
       "        text-align: right;\n",
       "    }\n",
       "</style>\n",
       "<table border=\"1\" class=\"dataframe\">\n",
       "  <thead>\n",
       "    <tr style=\"text-align: right;\">\n",
       "      <th></th>\n",
       "      <th>Timestamp</th>\n",
       "      <th>LineID</th>\n",
       "      <th>Direction</th>\n",
       "      <th>TimeFrame</th>\n",
       "      <th>VehicleJourneyID</th>\n",
       "      <th>Operator</th>\n",
       "      <th>Congestion</th>\n",
       "      <th>LonWGS84</th>\n",
       "      <th>LatWGS84</th>\n",
       "      <th>Delay</th>\n",
       "      <th>BlockID</th>\n",
       "      <th>VehicleID</th>\n",
       "      <th>AtStop</th>\n",
       "      <th>datetime</th>\n",
       "      <th>Time</th>\n",
       "    </tr>\n",
       "  </thead>\n",
       "  <tbody>\n",
       "    <tr>\n",
       "      <th>0</th>\n",
       "      <td>1356998405000000</td>\n",
       "      <td>27.0</td>\n",
       "      <td>0</td>\n",
       "      <td>2012-12-31</td>\n",
       "      <td>3883</td>\n",
       "      <td>RD</td>\n",
       "      <td>0</td>\n",
       "      <td>-6.233417</td>\n",
       "      <td>53.342232</td>\n",
       "      <td>0</td>\n",
       "      <td>27017</td>\n",
       "      <td>33521</td>\n",
       "      <td>0</td>\n",
       "      <td>2013-01-01 00:00:05</td>\n",
       "      <td>00:00:05</td>\n",
       "    </tr>\n",
       "    <tr>\n",
       "      <th>1</th>\n",
       "      <td>1356998407000000</td>\n",
       "      <td>40.0</td>\n",
       "      <td>0</td>\n",
       "      <td>2012-12-31</td>\n",
       "      <td>2226</td>\n",
       "      <td>HN</td>\n",
       "      <td>0</td>\n",
       "      <td>-6.278250</td>\n",
       "      <td>53.416683</td>\n",
       "      <td>0</td>\n",
       "      <td>40206</td>\n",
       "      <td>33142</td>\n",
       "      <td>0</td>\n",
       "      <td>2013-01-01 00:00:07</td>\n",
       "      <td>00:00:07</td>\n",
       "    </tr>\n",
       "    <tr>\n",
       "      <th>2</th>\n",
       "      <td>1356998407000000</td>\n",
       "      <td>7.0</td>\n",
       "      <td>0</td>\n",
       "      <td>2012-12-31</td>\n",
       "      <td>6106</td>\n",
       "      <td>D1</td>\n",
       "      <td>0</td>\n",
       "      <td>-6.231633</td>\n",
       "      <td>53.317768</td>\n",
       "      <td>0</td>\n",
       "      <td>7019</td>\n",
       "      <td>43004</td>\n",
       "      <td>1</td>\n",
       "      <td>2013-01-01 00:00:07</td>\n",
       "      <td>00:00:07</td>\n",
       "    </tr>\n",
       "    <tr>\n",
       "      <th>3</th>\n",
       "      <td>1356998411000000</td>\n",
       "      <td>747.0</td>\n",
       "      <td>0</td>\n",
       "      <td>2012-12-31</td>\n",
       "      <td>3531</td>\n",
       "      <td>SL</td>\n",
       "      <td>0</td>\n",
       "      <td>-6.254617</td>\n",
       "      <td>53.355484</td>\n",
       "      <td>-454</td>\n",
       "      <td>747007</td>\n",
       "      <td>40039</td>\n",
       "      <td>0</td>\n",
       "      <td>2013-01-01 00:00:11</td>\n",
       "      <td>00:00:11</td>\n",
       "    </tr>\n",
       "    <tr>\n",
       "      <th>4</th>\n",
       "      <td>1356998411000000</td>\n",
       "      <td>56.0</td>\n",
       "      <td>0</td>\n",
       "      <td>2012-12-31</td>\n",
       "      <td>1830</td>\n",
       "      <td>RD</td>\n",
       "      <td>0</td>\n",
       "      <td>-6.233183</td>\n",
       "      <td>53.342201</td>\n",
       "      <td>0</td>\n",
       "      <td>56001</td>\n",
       "      <td>33488</td>\n",
       "      <td>0</td>\n",
       "      <td>2013-01-01 00:00:11</td>\n",
       "      <td>00:00:11</td>\n",
       "    </tr>\n",
       "  </tbody>\n",
       "</table>\n",
       "</div>"
      ],
      "text/plain": [
       "          Timestamp  LineID  Direction   TimeFrame  VehicleJourneyID Operator  \\\n",
       "0  1356998405000000    27.0          0  2012-12-31              3883       RD   \n",
       "1  1356998407000000    40.0          0  2012-12-31              2226       HN   \n",
       "2  1356998407000000     7.0          0  2012-12-31              6106       D1   \n",
       "3  1356998411000000   747.0          0  2012-12-31              3531       SL   \n",
       "4  1356998411000000    56.0          0  2012-12-31              1830       RD   \n",
       "\n",
       "   Congestion  LonWGS84   LatWGS84  Delay  BlockID  VehicleID  AtStop  \\\n",
       "0           0 -6.233417  53.342232      0    27017      33521       0   \n",
       "1           0 -6.278250  53.416683      0    40206      33142       0   \n",
       "2           0 -6.231633  53.317768      0     7019      43004       1   \n",
       "3           0 -6.254617  53.355484   -454   747007      40039       0   \n",
       "4           0 -6.233183  53.342201      0    56001      33488       0   \n",
       "\n",
       "             datetime      Time  \n",
       "0 2013-01-01 00:00:05  00:00:05  \n",
       "1 2013-01-01 00:00:07  00:00:07  \n",
       "2 2013-01-01 00:00:07  00:00:07  \n",
       "3 2013-01-01 00:00:11  00:00:11  \n",
       "4 2013-01-01 00:00:11  00:00:11  "
      ]
     },
     "execution_count": 9,
     "metadata": {},
     "output_type": "execute_result"
    }
   ],
   "source": [
    "df.head()"
   ]
  },
  {
   "cell_type": "code",
   "execution_count": 10,
   "metadata": {},
   "outputs": [],
   "source": [
    "# Deal with the timestamp and make it human readable\n",
    "df['datetime'] = pd.to_datetime(df['Timestamp'], unit='us')\n",
    "df['Time'] = df['datetime'].dt.time\n",
    "df['Day'] = df['datetime'].dt.day\n",
    "df['Hour'] = df['datetime'].dt.hour\n",
    "df['Minute'] = df['datetime'].dt.minute"
   ]
  },
  {
   "cell_type": "code",
   "execution_count": 11,
   "metadata": {},
   "outputs": [
    {
     "name": "stdout",
     "output_type": "stream",
     "text": [
      "          Timestamp  LineID  Direction   TimeFrame  VehicleJourneyID Operator  \\\n",
      "0  1356998405000000    27.0          0  2012-12-31              3883       RD   \n",
      "1  1356998407000000    40.0          0  2012-12-31              2226       HN   \n",
      "2  1356998407000000     7.0          0  2012-12-31              6106       D1   \n",
      "3  1356998411000000   747.0          0  2012-12-31              3531       SL   \n",
      "4  1356998411000000    56.0          0  2012-12-31              1830       RD   \n",
      "\n",
      "   Congestion  LonWGS84   LatWGS84  Delay  BlockID  VehicleID  AtStop  \\\n",
      "0           0 -6.233417  53.342232      0    27017      33521       0   \n",
      "1           0 -6.278250  53.416683      0    40206      33142       0   \n",
      "2           0 -6.231633  53.317768      0     7019      43004       1   \n",
      "3           0 -6.254617  53.355484   -454   747007      40039       0   \n",
      "4           0 -6.233183  53.342201      0    56001      33488       0   \n",
      "\n",
      "             datetime      Time  Day  Hour  Minute  \n",
      "0 2013-01-01 00:00:05  00:00:05    1     0       0  \n",
      "1 2013-01-01 00:00:07  00:00:07    1     0       0  \n",
      "2 2013-01-01 00:00:07  00:00:07    1     0       0  \n",
      "3 2013-01-01 00:00:11  00:00:11    1     0       0  \n",
      "4 2013-01-01 00:00:11  00:00:11    1     0       0  \n"
     ]
    }
   ],
   "source": [
    "print(df.head())"
   ]
  },
  {
   "cell_type": "code",
   "execution_count": 12,
   "metadata": {},
   "outputs": [
    {
     "name": "stdout",
     "output_type": "stream",
     "text": [
      "The data has 44455102 Rows and 18 columns\n",
      "The types of columns are:\n"
     ]
    },
    {
     "data": {
      "text/plain": [
       "Timestamp                    int64\n",
       "LineID                     float64\n",
       "Direction                    int64\n",
       "TimeFrame                   object\n",
       "VehicleJourneyID             int64\n",
       "Operator                    object\n",
       "Congestion                   int64\n",
       "LonWGS84                   float64\n",
       "LatWGS84                   float64\n",
       "Delay                        int64\n",
       "BlockID                      int64\n",
       "VehicleID                    int64\n",
       "AtStop                       int64\n",
       "datetime            datetime64[ns]\n",
       "Time                        object\n",
       "Day                          int64\n",
       "Hour                         int64\n",
       "Minute                       int64\n",
       "dtype: object"
      ]
     },
     "execution_count": 12,
     "metadata": {},
     "output_type": "execute_result"
    }
   ],
   "source": [
    "print ('The data has {} Rows and {} columns'.format(df.shape[0],df.shape[1]))\n",
    "print(\"The types of columns are:\")\n",
    "df.dtypes"
   ]
  },
  {
   "cell_type": "code",
   "execution_count": 13,
   "metadata": {},
   "outputs": [
    {
     "name": "stdout",
     "output_type": "stream",
     "text": [
      "['VehicleID', 'Direction', 'Congestion', 'LineID', 'Delay', 'Operator', 'BlockID', 'TimeFrame', 'VehicleJourneyID', 'AtStop']\n",
      "['VehicleID', 'Direction', 'Timestamp', 'Congestion', 'Minute', 'LonWGS84', 'LineID', 'Delay', 'BlockID', 'LatWGS84', 'VehicleJourneyID', 'Day', 'AtStop', 'Hour']\n",
      "['datetime']\n"
     ]
    }
   ],
   "source": [
    "# Getting the list of column Types\n",
    "CategoricalColumns = list(set(['LineID', 'Direction', 'TimeFrame', 'VehicleJourneyID', 'Operator', 'Congestion',  'Delay', 'BlockID', 'VehicleID', 'StopID', 'AtStop']))\n",
    "NumericalColumns = list(set(list(df.select_dtypes([np.number]).columns)))\n",
    "#objectTypeColumns = list(set(list(df.select_dtypes([np.object_]).columns)))\n",
    "DateColumns = list(set(list(df.select_dtypes([np.datetime64]).columns)))\n",
    "\n",
    "\n",
    "#print(objectTypeColumns)\n",
    "\n",
    "\n",
    "CategoricalColumns = list(set(CategoricalColumns) - set(ColumnsToExclude)-set(DateColumns))\n",
    "NumericalColumns = list(set(NumericalColumns)-set(ColumnsToExclude)-set(DateColumns))\n",
    "\n",
    "print(CategoricalColumns)\n",
    "print(NumericalColumns)\n",
    "print(DateColumns)\n"
   ]
  },
  {
   "cell_type": "code",
   "execution_count": 15,
   "metadata": {},
   "outputs": [],
   "source": [
    "def num_missing(x):\n",
    "    return len(x.index)-x.count()\n",
    "\n",
    "def num_unique(x):\n",
    "    return len(np.unique(x))\n",
    "\n",
    "temp_df = df.describe().T\n",
    "missing_df = pd.DataFrame(df.apply(num_missing, axis=0)) \n",
    "missing_df.columns = ['missing']  # type: ignore\n",
    "unq_df = pd.DataFrame(df.apply(num_unique, axis=0))\n",
    "unq_df.columns = ['unique']  # type: ignore\n",
    "types_df = pd.DataFrame(df.dtypes)\n",
    "types_df.columns = ['DataType'] # type: ignore"
   ]
  },
  {
   "cell_type": "code",
   "execution_count": 14,
   "metadata": {},
   "outputs": [
    {
     "data": {
      "text/html": [
       "<div>\n",
       "<style scoped>\n",
       "    .dataframe tbody tr th:only-of-type {\n",
       "        vertical-align: middle;\n",
       "    }\n",
       "\n",
       "    .dataframe tbody tr th {\n",
       "        vertical-align: top;\n",
       "    }\n",
       "\n",
       "    .dataframe thead th {\n",
       "        text-align: right;\n",
       "    }\n",
       "</style>\n",
       "<table border=\"1\" class=\"dataframe\">\n",
       "  <thead>\n",
       "    <tr style=\"text-align: right;\">\n",
       "      <th></th>\n",
       "      <th>Timestamp</th>\n",
       "      <th>LineID</th>\n",
       "      <th>Direction</th>\n",
       "      <th>VehicleJourneyID</th>\n",
       "      <th>Congestion</th>\n",
       "      <th>LonWGS84</th>\n",
       "      <th>LatWGS84</th>\n",
       "      <th>Delay</th>\n",
       "      <th>BlockID</th>\n",
       "      <th>VehicleID</th>\n",
       "      <th>AtStop</th>\n",
       "      <th>Day</th>\n",
       "      <th>Hour</th>\n",
       "      <th>Minute</th>\n",
       "    </tr>\n",
       "  </thead>\n",
       "  <tbody>\n",
       "    <tr>\n",
       "      <th>count</th>\n",
       "      <td>4.445510e+07</td>\n",
       "      <td>4.445304e+07</td>\n",
       "      <td>44455102.0</td>\n",
       "      <td>4.445510e+07</td>\n",
       "      <td>4.445510e+07</td>\n",
       "      <td>4.445510e+07</td>\n",
       "      <td>4.445510e+07</td>\n",
       "      <td>4.445510e+07</td>\n",
       "      <td>4.445510e+07</td>\n",
       "      <td>4.445510e+07</td>\n",
       "      <td>4.445510e+07</td>\n",
       "      <td>4.445510e+07</td>\n",
       "      <td>4.445510e+07</td>\n",
       "      <td>4.445510e+07</td>\n",
       "    </tr>\n",
       "    <tr>\n",
       "      <th>mean</th>\n",
       "      <td>1.358318e+15</td>\n",
       "      <td>7.796879e+01</td>\n",
       "      <td>0.0</td>\n",
       "      <td>9.417122e+03</td>\n",
       "      <td>1.163261e-02</td>\n",
       "      <td>-6.272803e+00</td>\n",
       "      <td>5.334513e+01</td>\n",
       "      <td>-2.816513e+01</td>\n",
       "      <td>1.092438e+05</td>\n",
       "      <td>3.542925e+04</td>\n",
       "      <td>2.335773e-01</td>\n",
       "      <td>1.567200e+01</td>\n",
       "      <td>1.388824e+01</td>\n",
       "      <td>2.946709e+01</td>\n",
       "    </tr>\n",
       "    <tr>\n",
       "      <th>std</th>\n",
       "      <td>7.394928e+11</td>\n",
       "      <td>1.146419e+02</td>\n",
       "      <td>0.0</td>\n",
       "      <td>6.159844e+04</td>\n",
       "      <td>1.072254e-01</td>\n",
       "      <td>8.389025e-02</td>\n",
       "      <td>5.488354e-02</td>\n",
       "      <td>4.729678e+02</td>\n",
       "      <td>1.921244e+05</td>\n",
       "      <td>3.281093e+03</td>\n",
       "      <td>4.231063e-01</td>\n",
       "      <td>8.563509e+00</td>\n",
       "      <td>4.921598e+00</td>\n",
       "      <td>1.729008e+01</td>\n",
       "    </tr>\n",
       "    <tr>\n",
       "      <th>min</th>\n",
       "      <td>1.356998e+15</td>\n",
       "      <td>1.000000e+00</td>\n",
       "      <td>0.0</td>\n",
       "      <td>1.000000e+00</td>\n",
       "      <td>0.000000e+00</td>\n",
       "      <td>-6.617517e+00</td>\n",
       "      <td>5.306802e+01</td>\n",
       "      <td>-1.504500e+04</td>\n",
       "      <td>3.900000e+02</td>\n",
       "      <td>2.804700e+04</td>\n",
       "      <td>0.000000e+00</td>\n",
       "      <td>1.000000e+00</td>\n",
       "      <td>0.000000e+00</td>\n",
       "      <td>0.000000e+00</td>\n",
       "    </tr>\n",
       "    <tr>\n",
       "      <th>25%</th>\n",
       "      <td>1.357679e+15</td>\n",
       "      <td>2.500000e+01</td>\n",
       "      <td>0.0</td>\n",
       "      <td>2.536000e+03</td>\n",
       "      <td>0.000000e+00</td>\n",
       "      <td>-6.308650e+00</td>\n",
       "      <td>5.332005e+01</td>\n",
       "      <td>-2.090000e+02</td>\n",
       "      <td>1.602000e+04</td>\n",
       "      <td>3.330800e+04</td>\n",
       "      <td>0.000000e+00</td>\n",
       "      <td>8.000000e+00</td>\n",
       "      <td>1.000000e+01</td>\n",
       "      <td>1.500000e+01</td>\n",
       "    </tr>\n",
       "    <tr>\n",
       "      <th>50%</th>\n",
       "      <td>1.358327e+15</td>\n",
       "      <td>4.000000e+01</td>\n",
       "      <td>0.0</td>\n",
       "      <td>4.718000e+03</td>\n",
       "      <td>0.000000e+00</td>\n",
       "      <td>-6.261600e+00</td>\n",
       "      <td>5.334645e+01</td>\n",
       "      <td>0.000000e+00</td>\n",
       "      <td>4.020500e+04</td>\n",
       "      <td>3.352500e+04</td>\n",
       "      <td>0.000000e+00</td>\n",
       "      <td>1.600000e+01</td>\n",
       "      <td>1.400000e+01</td>\n",
       "      <td>2.900000e+01</td>\n",
       "    </tr>\n",
       "    <tr>\n",
       "      <th>75%</th>\n",
       "      <td>1.358955e+15</td>\n",
       "      <td>8.300000e+01</td>\n",
       "      <td>0.0</td>\n",
       "      <td>6.769000e+03</td>\n",
       "      <td>0.000000e+00</td>\n",
       "      <td>-6.233166e+00</td>\n",
       "      <td>5.337533e+01</td>\n",
       "      <td>1.040000e+02</td>\n",
       "      <td>8.400400e+04</td>\n",
       "      <td>3.802500e+04</td>\n",
       "      <td>0.000000e+00</td>\n",
       "      <td>2.300000e+01</td>\n",
       "      <td>1.800000e+01</td>\n",
       "      <td>4.400000e+01</td>\n",
       "    </tr>\n",
       "    <tr>\n",
       "      <th>max</th>\n",
       "      <td>1.359633e+15</td>\n",
       "      <td>7.470000e+02</td>\n",
       "      <td>0.0</td>\n",
       "      <td>9.998560e+05</td>\n",
       "      <td>1.000000e+00</td>\n",
       "      <td>-6.052917e+00</td>\n",
       "      <td>5.360873e+01</td>\n",
       "      <td>1.161220e+05</td>\n",
       "      <td>8.350020e+05</td>\n",
       "      <td>4.307800e+04</td>\n",
       "      <td>1.000000e+00</td>\n",
       "      <td>3.100000e+01</td>\n",
       "      <td>2.300000e+01</td>\n",
       "      <td>5.900000e+01</td>\n",
       "    </tr>\n",
       "  </tbody>\n",
       "</table>\n",
       "</div>"
      ],
      "text/plain": [
       "          Timestamp        LineID   Direction  VehicleJourneyID    Congestion  \\\n",
       "count  4.445510e+07  4.445304e+07  44455102.0      4.445510e+07  4.445510e+07   \n",
       "mean   1.358318e+15  7.796879e+01         0.0      9.417122e+03  1.163261e-02   \n",
       "std    7.394928e+11  1.146419e+02         0.0      6.159844e+04  1.072254e-01   \n",
       "min    1.356998e+15  1.000000e+00         0.0      1.000000e+00  0.000000e+00   \n",
       "25%    1.357679e+15  2.500000e+01         0.0      2.536000e+03  0.000000e+00   \n",
       "50%    1.358327e+15  4.000000e+01         0.0      4.718000e+03  0.000000e+00   \n",
       "75%    1.358955e+15  8.300000e+01         0.0      6.769000e+03  0.000000e+00   \n",
       "max    1.359633e+15  7.470000e+02         0.0      9.998560e+05  1.000000e+00   \n",
       "\n",
       "           LonWGS84      LatWGS84         Delay       BlockID     VehicleID  \\\n",
       "count  4.445510e+07  4.445510e+07  4.445510e+07  4.445510e+07  4.445510e+07   \n",
       "mean  -6.272803e+00  5.334513e+01 -2.816513e+01  1.092438e+05  3.542925e+04   \n",
       "std    8.389025e-02  5.488354e-02  4.729678e+02  1.921244e+05  3.281093e+03   \n",
       "min   -6.617517e+00  5.306802e+01 -1.504500e+04  3.900000e+02  2.804700e+04   \n",
       "25%   -6.308650e+00  5.332005e+01 -2.090000e+02  1.602000e+04  3.330800e+04   \n",
       "50%   -6.261600e+00  5.334645e+01  0.000000e+00  4.020500e+04  3.352500e+04   \n",
       "75%   -6.233166e+00  5.337533e+01  1.040000e+02  8.400400e+04  3.802500e+04   \n",
       "max   -6.052917e+00  5.360873e+01  1.161220e+05  8.350020e+05  4.307800e+04   \n",
       "\n",
       "             AtStop           Day          Hour        Minute  \n",
       "count  4.445510e+07  4.445510e+07  4.445510e+07  4.445510e+07  \n",
       "mean   2.335773e-01  1.567200e+01  1.388824e+01  2.946709e+01  \n",
       "std    4.231063e-01  8.563509e+00  4.921598e+00  1.729008e+01  \n",
       "min    0.000000e+00  1.000000e+00  0.000000e+00  0.000000e+00  \n",
       "25%    0.000000e+00  8.000000e+00  1.000000e+01  1.500000e+01  \n",
       "50%    0.000000e+00  1.600000e+01  1.400000e+01  2.900000e+01  \n",
       "75%    0.000000e+00  2.300000e+01  1.800000e+01  4.400000e+01  \n",
       "max    1.000000e+00  3.100000e+01  2.300000e+01  5.900000e+01  "
      ]
     },
     "execution_count": 14,
     "metadata": {},
     "output_type": "execute_result"
    }
   ],
   "source": [
    "df.describe()\n"
   ]
  },
  {
   "cell_type": "code",
   "execution_count": 17,
   "metadata": {},
   "outputs": [
    {
     "name": "stdout",
     "output_type": "stream",
     "text": [
      "                       count          mean           std           min  \\\n",
      "Timestamp         44455102.0  1.358318e+15  7.394928e+11  1.356998e+15   \n",
      "LineID            44453044.0  7.796879e+01  1.146419e+02  1.000000e+00   \n",
      "Direction         44455102.0  0.000000e+00  0.000000e+00  0.000000e+00   \n",
      "VehicleJourneyID  44455102.0  9.417122e+03  6.159844e+04  1.000000e+00   \n",
      "Congestion        44455102.0  1.163261e-02  1.072254e-01  0.000000e+00   \n",
      "LonWGS84          44455102.0 -6.272803e+00  8.389025e-02 -6.617517e+00   \n",
      "LatWGS84          44455102.0  5.334513e+01  5.488354e-02  5.306802e+01   \n",
      "Delay             44455102.0 -2.816513e+01  4.729678e+02 -1.504500e+04   \n",
      "BlockID           44455102.0  1.092438e+05  1.921244e+05  3.900000e+02   \n",
      "VehicleID         44455102.0  3.542925e+04  3.281093e+03  2.804700e+04   \n",
      "AtStop            44455102.0  2.335773e-01  4.231063e-01  0.000000e+00   \n",
      "Day               44455102.0  1.567200e+01  8.563509e+00  1.000000e+00   \n",
      "Hour              44455102.0  1.388824e+01  4.921598e+00  0.000000e+00   \n",
      "Minute            44455102.0  2.946709e+01  1.729008e+01  0.000000e+00   \n",
      "\n",
      "                           25%           50%           75%           max  \\\n",
      "Timestamp         1.357679e+15  1.358327e+15  1.358955e+15  1.359633e+15   \n",
      "LineID            2.500000e+01  4.000000e+01  8.300000e+01  7.470000e+02   \n",
      "Direction         0.000000e+00  0.000000e+00  0.000000e+00  0.000000e+00   \n",
      "VehicleJourneyID  2.536000e+03  4.718000e+03  6.769000e+03  9.998560e+05   \n",
      "Congestion        0.000000e+00  0.000000e+00  0.000000e+00  1.000000e+00   \n",
      "LonWGS84         -6.308650e+00 -6.261600e+00 -6.233166e+00 -6.052917e+00   \n",
      "LatWGS84          5.332005e+01  5.334645e+01  5.337533e+01  5.360873e+01   \n",
      "Delay            -2.090000e+02  0.000000e+00  1.040000e+02  1.161220e+05   \n",
      "BlockID           1.602000e+04  4.020500e+04  8.400400e+04  8.350020e+05   \n",
      "VehicleID         3.330800e+04  3.352500e+04  3.802500e+04  4.307800e+04   \n",
      "AtStop            0.000000e+00  0.000000e+00  0.000000e+00  1.000000e+00   \n",
      "Day               8.000000e+00  1.600000e+01  2.300000e+01  3.100000e+01   \n",
      "Hour              1.000000e+01  1.400000e+01  1.800000e+01  2.300000e+01   \n",
      "Minute            1.500000e+01  2.900000e+01  4.400000e+01  5.900000e+01   \n",
      "\n",
      "                  missing  unique DataType  \n",
      "Timestamp               0  813103    int64  \n",
      "LineID               2058      67  float64  \n",
      "Direction               0       1    int64  \n",
      "VehicleJourneyID        0   18614    int64  \n",
      "Congestion              0       2    int64  \n",
      "LonWGS84                0  456755  float64  \n",
      "LatWGS84                0  131327  float64  \n",
      "Delay                   0   12638    int64  \n",
      "BlockID                 0    1238    int64  \n",
      "VehicleID               0     911    int64  \n",
      "AtStop                  0       2    int64  \n",
      "Day                     0      31    int64  \n",
      "Hour                    0      21    int64  \n",
      "Minute                  0      60    int64  \n"
     ]
    }
   ],
   "source": [
    "summary_df = temp_df.join(missing_df).join(unq_df).join(types_df)\n",
    "print(summary_df)"
   ]
  },
  {
   "cell_type": "code",
   "execution_count": 18,
   "metadata": {},
   "outputs": [
    {
     "name": "stdout",
     "output_type": "stream",
     "text": [
      "                  missing  unique DataType\n",
      "LineID               2058      67  float64\n",
      "Direction               0       1    int64\n",
      "TimeFrame               0      32   object\n",
      "VehicleJourneyID        0   18614    int64\n",
      "Operator                0       8   object\n",
      "Congestion              0       2    int64\n",
      "Delay                   0   12638    int64\n",
      "BlockID                 0    1238    int64\n",
      "VehicleID               0     911    int64\n",
      "AtStop                  0       2    int64\n"
     ]
    }
   ],
   "source": [
    "col_names = list(types_df.index)\n",
    "num_cols = len(col_names)\n",
    "index = range(num_cols)\n",
    "cat_index = []\n",
    "for i in index:\n",
    "    if col_names[i] in CategoricalColumns:\n",
    "        cat_index.append(i)\n",
    "summary_df_cat = missing_df.join(unq_df).join(types_df.iloc[cat_index], how='inner') #Only summarize categorical columns\n",
    "print(summary_df_cat)"
   ]
  },
  {
   "cell_type": "code",
   "execution_count": 19,
   "metadata": {},
   "outputs": [],
   "source": [
    "df.to_parquet('./Data/Bus/CleanedBusData.parquet')"
   ]
  },
  {
   "cell_type": "markdown",
   "metadata": {},
   "source": [
    "Download the weather station details https://cli.fusio.net/cli/climate_data/webdata/StationDetails.csv"
   ]
  },
  {
   "cell_type": "code",
   "execution_count": 20,
   "metadata": {},
   "outputs": [],
   "source": [
    "url = 'https://cli.fusio.net/cli/climate_data/webdata/StationDetails.csv'\n"
   ]
  },
  {
   "cell_type": "markdown",
   "metadata": {},
   "source": [
    "Load the weather statio details for Dublin"
   ]
  },
  {
   "cell_type": "code",
   "execution_count": 21,
   "metadata": {},
   "outputs": [
    {
     "data": {
      "text/html": [
       "<div>\n",
       "<style scoped>\n",
       "    .dataframe tbody tr th:only-of-type {\n",
       "        vertical-align: middle;\n",
       "    }\n",
       "\n",
       "    .dataframe tbody tr th {\n",
       "        vertical-align: top;\n",
       "    }\n",
       "\n",
       "    .dataframe thead th {\n",
       "        text-align: right;\n",
       "    }\n",
       "</style>\n",
       "<table border=\"1\" class=\"dataframe\">\n",
       "  <thead>\n",
       "    <tr style=\"text-align: right;\">\n",
       "      <th></th>\n",
       "      <th>county</th>\n",
       "      <th>station name</th>\n",
       "      <th>name</th>\n",
       "      <th>height(m)</th>\n",
       "      <th>easting</th>\n",
       "      <th>northing</th>\n",
       "      <th>latitude</th>\n",
       "      <th>longitude</th>\n",
       "      <th>open year</th>\n",
       "      <th>close year</th>\n",
       "    </tr>\n",
       "  </thead>\n",
       "  <tbody>\n",
       "    <tr>\n",
       "      <th>575</th>\n",
       "      <td>Dublin</td>\n",
       "      <td>10323</td>\n",
       "      <td>STILLORGAN (FARMLEIGH)</td>\n",
       "      <td>67</td>\n",
       "      <td>320514</td>\n",
       "      <td>227230</td>\n",
       "      <td>53.28194</td>\n",
       "      <td>-6.19389</td>\n",
       "      <td>1915</td>\n",
       "      <td>1935</td>\n",
       "    </tr>\n",
       "    <tr>\n",
       "      <th>576</th>\n",
       "      <td>Dublin</td>\n",
       "      <td>10123</td>\n",
       "      <td>DUBLIN (FITZWILLIAM SQUARE)</td>\n",
       "      <td>16</td>\n",
       "      <td>316404</td>\n",
       "      <td>233098</td>\n",
       "      <td>53.33556</td>\n",
       "      <td>-6.25333</td>\n",
       "      <td>1908</td>\n",
       "      <td>1937</td>\n",
       "    </tr>\n",
       "    <tr>\n",
       "      <th>577</th>\n",
       "      <td>Dublin</td>\n",
       "      <td>10223</td>\n",
       "      <td>ROYAL BOTANIC GARDENS (GLASNEVIN</td>\n",
       "      <td>17</td>\n",
       "      <td>315083</td>\n",
       "      <td>237179</td>\n",
       "      <td>53.37250</td>\n",
       "      <td>-6.27167</td>\n",
       "      <td>1880</td>\n",
       "      <td>1925</td>\n",
       "    </tr>\n",
       "    <tr>\n",
       "      <th>578</th>\n",
       "      <td>Dublin</td>\n",
       "      <td>1223</td>\n",
       "      <td>BELGARD CASTLE</td>\n",
       "      <td>125</td>\n",
       "      <td>307400</td>\n",
       "      <td>229300</td>\n",
       "      <td>53.30278</td>\n",
       "      <td>-6.38889</td>\n",
       "      <td>1914</td>\n",
       "      <td>1963</td>\n",
       "    </tr>\n",
       "    <tr>\n",
       "      <th>579</th>\n",
       "      <td>Dublin</td>\n",
       "      <td>632</td>\n",
       "      <td>LUSK G.S.</td>\n",
       "      <td>23</td>\n",
       "      <td>321700</td>\n",
       "      <td>254300</td>\n",
       "      <td>53.52500</td>\n",
       "      <td>-6.16528</td>\n",
       "      <td>1949</td>\n",
       "      <td>2012</td>\n",
       "    </tr>\n",
       "    <tr>\n",
       "      <th>580</th>\n",
       "      <td>Dublin</td>\n",
       "      <td>1232</td>\n",
       "      <td>KINSALEY (AGR.RES.STN.)</td>\n",
       "      <td>19</td>\n",
       "      <td>321500</td>\n",
       "      <td>242900</td>\n",
       "      <td>53.42222</td>\n",
       "      <td>-6.17222</td>\n",
       "      <td>1961</td>\n",
       "      <td>2004</td>\n",
       "    </tr>\n",
       "    <tr>\n",
       "      <th>581</th>\n",
       "      <td>Dublin</td>\n",
       "      <td>2523</td>\n",
       "      <td>DUBLIN (Ringsend)</td>\n",
       "      <td>7</td>\n",
       "      <td>318900</td>\n",
       "      <td>233900</td>\n",
       "      <td>53.34167</td>\n",
       "      <td>-6.21389</td>\n",
       "      <td>1911</td>\n",
       "      <td>(null)</td>\n",
       "    </tr>\n",
       "    <tr>\n",
       "      <th>582</th>\n",
       "      <td>Dublin</td>\n",
       "      <td>2623</td>\n",
       "      <td>HOWTH CASTLE</td>\n",
       "      <td>11</td>\n",
       "      <td>327900</td>\n",
       "      <td>239000</td>\n",
       "      <td>53.38611</td>\n",
       "      <td>-6.07778</td>\n",
       "      <td>1913</td>\n",
       "      <td>1971</td>\n",
       "    </tr>\n",
       "    <tr>\n",
       "      <th>583</th>\n",
       "      <td>Dublin</td>\n",
       "      <td>2723</td>\n",
       "      <td>STILLORGAN (VARTRY HSE.)</td>\n",
       "      <td>80</td>\n",
       "      <td>320200</td>\n",
       "      <td>226800</td>\n",
       "      <td>53.27778</td>\n",
       "      <td>-6.19722</td>\n",
       "      <td>1915</td>\n",
       "      <td>1999</td>\n",
       "    </tr>\n",
       "    <tr>\n",
       "      <th>584</th>\n",
       "      <td>Dublin</td>\n",
       "      <td>2732</td>\n",
       "      <td>ARDGILLAN</td>\n",
       "      <td>62</td>\n",
       "      <td>321791</td>\n",
       "      <td>261102</td>\n",
       "      <td>53.58583</td>\n",
       "      <td>-6.16167</td>\n",
       "      <td>1894</td>\n",
       "      <td>1938</td>\n",
       "    </tr>\n",
       "  </tbody>\n",
       "</table>\n",
       "</div>"
      ],
      "text/plain": [
       "     county  station name                              name  height(m)  \\\n",
       "575  Dublin         10323            STILLORGAN (FARMLEIGH)         67   \n",
       "576  Dublin         10123       DUBLIN (FITZWILLIAM SQUARE)         16   \n",
       "577  Dublin         10223  ROYAL BOTANIC GARDENS (GLASNEVIN         17   \n",
       "578  Dublin          1223                    BELGARD CASTLE        125   \n",
       "579  Dublin           632                         LUSK G.S.         23   \n",
       "580  Dublin          1232           KINSALEY (AGR.RES.STN.)         19   \n",
       "581  Dublin          2523                 DUBLIN (Ringsend)          7   \n",
       "582  Dublin          2623                      HOWTH CASTLE         11   \n",
       "583  Dublin          2723          STILLORGAN (VARTRY HSE.)         80   \n",
       "584  Dublin          2732                         ARDGILLAN         62   \n",
       "\n",
       "     easting  northing  latitude  longitude open year close year  \n",
       "575   320514    227230  53.28194   -6.19389      1915       1935  \n",
       "576   316404    233098  53.33556   -6.25333      1908       1937  \n",
       "577   315083    237179  53.37250   -6.27167      1880       1925  \n",
       "578   307400    229300  53.30278   -6.38889      1914       1963  \n",
       "579   321700    254300  53.52500   -6.16528      1949       2012  \n",
       "580   321500    242900  53.42222   -6.17222      1961       2004  \n",
       "581   318900    233900  53.34167   -6.21389      1911     (null)  \n",
       "582   327900    239000  53.38611   -6.07778      1913       1971  \n",
       "583   320200    226800  53.27778   -6.19722      1915       1999  \n",
       "584   321791    261102  53.58583   -6.16167      1894       1938  "
      ]
     },
     "execution_count": 21,
     "metadata": {},
     "output_type": "execute_result"
    }
   ],
   "source": [
    "weatherStations = pd.read_csv(url)\n",
    "weatherStations = weatherStations[weatherStations['county'].str.contains('Dublin')]\n",
    "weatherStations.head(10)"
   ]
  },
  {
   "cell_type": "code",
   "execution_count": 63,
   "metadata": {},
   "outputs": [],
   "source": [
    "\n",
    "#sns.pairplot(df.sample(frac=0.3, replace=False))"
   ]
  },
  {
   "cell_type": "code",
   "execution_count": 22,
   "metadata": {},
   "outputs": [
    {
     "name": "stdout",
     "output_type": "stream",
     "text": [
      "              count         mean          std    min      25%     50%     75%  \\\n",
      "station name   94.0  4237.542553  3086.169009  124.0  1554.75  3473.5  6773.0   \n",
      "\n",
      "                  max  missing  unique DataType  \n",
      "station name  10323.0        0      94    int64  \n"
     ]
    }
   ],
   "source": [
    "dublinStations = weatherStations[[\"station name\", \"name\"]]\n",
    "\n",
    "temp_df = dublinStations.describe().T\n",
    "missing_df = pd.DataFrame(dublinStations.apply(num_missing, axis=0)) \n",
    "missing_df.columns = ['missing']  # type: ignore\n",
    "unq_df = pd.DataFrame(dublinStations.apply(num_unique, axis=0))\n",
    "unq_df.columns = ['unique']  # type: ignore\n",
    "types_df = pd.DataFrame(dublinStations.dtypes)\n",
    "types_df.columns = ['DataType']  # type: ignore\n",
    "summary_df = temp_df.join(missing_df).join(unq_df).join(types_df)\n",
    "print(summary_df)"
   ]
  },
  {
   "cell_type": "code",
   "execution_count": 23,
   "metadata": {},
   "outputs": [
    {
     "name": "stdout",
     "output_type": "stream",
     "text": [
      "      missing  unique DataType\n",
      "name        0      93   object\n"
     ]
    }
   ],
   "source": [
    "col_names = list(types_df.index)\n",
    "num_cols = len(col_names)\n",
    "index = range(num_cols)\n",
    "cat_index = []\n",
    "for i in index:\n",
    "    if col_names[i] in dublinStations[[\"name\"]]:\n",
    "        cat_index.append(i)\n",
    "summary_df_cat = missing_df.join(unq_df).join(types_df.iloc[cat_index], how='inner') #Only summarize categorical columns\n",
    "print(summary_df_cat)  # there are 2 stations named DUBLIN (Glasnevin)"
   ]
  },
  {
   "cell_type": "code",
   "execution_count": 103,
   "metadata": {},
   "outputs": [
    {
     "data": {
      "text/plain": [
       "['station name', 'name']"
      ]
     },
     "execution_count": 103,
     "metadata": {},
     "output_type": "execute_result"
    }
   ],
   "source": [
    "list(types_df.index)"
   ]
  },
  {
   "cell_type": "code",
   "execution_count": 24,
   "metadata": {},
   "outputs": [
    {
     "data": {
      "text/plain": [
       "<bound method NDFrame.describe of      stationname                              name\n",
       "575        10323            STILLORGAN (FARMLEIGH)\n",
       "576        10123       DUBLIN (FITZWILLIAM SQUARE)\n",
       "577        10223  ROYAL BOTANIC GARDENS (GLASNEVIN\n",
       "578         1223                    BELGARD CASTLE\n",
       "579          632                         LUSK G.S.\n",
       "..           ...                               ...\n",
       "664         9623       KNOCKLYON (ST.COLUMCILLE'S)\n",
       "665         9723                 Dublin-Navan_Road\n",
       "666          623                           BRITTAS\n",
       "667         9823           DUBLIN (MERRION SQUARE)\n",
       "668         2423                 DUBLIN (CLONTARF)\n",
       "\n",
       "[94 rows x 2 columns]>"
      ]
     },
     "execution_count": 24,
     "metadata": {},
     "output_type": "execute_result"
    }
   ],
   "source": [
    "dublinStations.columns = [x.strip().replace(' ', '') for x in dublinStations.columns]\n",
    "dublinStations.describe"
   ]
  },
  {
   "cell_type": "code",
   "execution_count": 35,
   "metadata": {},
   "outputs": [
    {
     "name": "stdout",
     "output_type": "stream",
     "text": [
      "http://cli.fusio.net/cli/climate_data/webdata/hly10323.zip\n",
      "No file exists\n",
      "http://cli.fusio.net/cli/climate_data/webdata/dly10323.zip\n",
      "No file exists\n",
      "http://cli.fusio.net/cli/climate_data/webdata/hly10123.zip\n",
      "No file exists\n",
      "http://cli.fusio.net/cli/climate_data/webdata/dly10123.zip\n",
      "No file exists\n",
      "http://cli.fusio.net/cli/climate_data/webdata/hly10223.zip\n",
      "No file exists\n",
      "http://cli.fusio.net/cli/climate_data/webdata/dly10223.zip\n",
      "No file exists\n",
      "http://cli.fusio.net/cli/climate_data/webdata/hly1223.zip\n",
      "No file exists\n",
      "http://cli.fusio.net/cli/climate_data/webdata/dly1223.zip\n",
      "No file exists\n",
      "http://cli.fusio.net/cli/climate_data/webdata/hly632.zip\n",
      "No file exists\n",
      "http://cli.fusio.net/cli/climate_data/webdata/dly632.zip\n",
      "No file exists\n",
      "http://cli.fusio.net/cli/climate_data/webdata/hly1232.zip\n",
      "No file exists\n",
      "http://cli.fusio.net/cli/climate_data/webdata/dly1232.zip\n",
      "No file exists\n",
      "http://cli.fusio.net/cli/climate_data/webdata/hly2523.zip\n",
      "No file exists\n",
      "http://cli.fusio.net/cli/climate_data/webdata/dly2523.zip\n",
      "http://cli.fusio.net/cli/climate_data/webdata/hly2623.zip\n",
      "No file exists\n",
      "http://cli.fusio.net/cli/climate_data/webdata/dly2623.zip\n",
      "No file exists\n",
      "http://cli.fusio.net/cli/climate_data/webdata/hly2723.zip\n",
      "No file exists\n",
      "http://cli.fusio.net/cli/climate_data/webdata/dly2723.zip\n",
      "No file exists\n",
      "http://cli.fusio.net/cli/climate_data/webdata/hly2732.zip\n",
      "No file exists\n",
      "http://cli.fusio.net/cli/climate_data/webdata/dly2732.zip\n",
      "No file exists\n",
      "http://cli.fusio.net/cli/climate_data/webdata/hly1323.zip\n",
      "No file exists\n",
      "http://cli.fusio.net/cli/climate_data/webdata/dly1323.zip\n",
      "No file exists\n",
      "http://cli.fusio.net/cli/climate_data/webdata/hly2823.zip\n",
      "No file exists\n",
      "http://cli.fusio.net/cli/climate_data/webdata/dly2823.zip\n",
      "No file exists\n",
      "http://cli.fusio.net/cli/climate_data/webdata/hly1332.zip\n",
      "No file exists\n",
      "http://cli.fusio.net/cli/climate_data/webdata/dly1332.zip\n",
      "http://cli.fusio.net/cli/climate_data/webdata/hly2832.zip\n",
      "No file exists\n",
      "http://cli.fusio.net/cli/climate_data/webdata/dly2832.zip\n",
      "No file exists\n",
      "http://cli.fusio.net/cli/climate_data/webdata/hly2923.zip\n",
      "No file exists\n",
      "http://cli.fusio.net/cli/climate_data/webdata/dly2923.zip\n",
      "No file exists\n",
      "http://cli.fusio.net/cli/climate_data/webdata/hly232.zip\n",
      "No file exists\n",
      "http://cli.fusio.net/cli/climate_data/webdata/dly232.zip\n",
      "No file exists\n",
      "http://cli.fusio.net/cli/climate_data/webdata/hly723.zip\n",
      "No file exists\n",
      "http://cli.fusio.net/cli/climate_data/webdata/dly723.zip\n",
      "No file exists\n",
      "http://cli.fusio.net/cli/climate_data/webdata/hly3023.zip\n",
      "No file exists\n",
      "http://cli.fusio.net/cli/climate_data/webdata/dly3023.zip\n",
      "No file exists\n",
      "http://cli.fusio.net/cli/climate_data/webdata/hly1423.zip\n",
      "No file exists\n",
      "http://cli.fusio.net/cli/climate_data/webdata/dly1423.zip\n",
      "No file exists\n",
      "http://cli.fusio.net/cli/climate_data/webdata/hly732.zip\n",
      "No file exists\n",
      "http://cli.fusio.net/cli/climate_data/webdata/dly732.zip\n",
      "No file exists\n",
      "http://cli.fusio.net/cli/climate_data/webdata/hly3423.zip\n",
      "No file exists\n",
      "http://cli.fusio.net/cli/climate_data/webdata/dly3423.zip\n",
      "No file exists\n",
      "http://cli.fusio.net/cli/climate_data/webdata/hly1523.zip\n",
      "No file exists\n",
      "http://cli.fusio.net/cli/climate_data/webdata/dly1523.zip\n",
      "No file exists\n",
      "http://cli.fusio.net/cli/climate_data/webdata/hly3524.zip\n",
      "No file exists\n",
      "http://cli.fusio.net/cli/climate_data/webdata/dly3524.zip\n",
      "http://cli.fusio.net/cli/climate_data/webdata/hly1532.zip\n",
      "No file exists\n",
      "http://cli.fusio.net/cli/climate_data/webdata/dly1532.zip\n",
      "No file exists\n",
      "http://cli.fusio.net/cli/climate_data/webdata/hly432.zip\n",
      "No file exists\n",
      "http://cli.fusio.net/cli/climate_data/webdata/dly432.zip\n",
      "No file exists\n",
      "http://cli.fusio.net/cli/climate_data/webdata/hly3723.zip\n",
      "http://cli.fusio.net/cli/climate_data/webdata/hly823.zip\n",
      "No file exists\n",
      "http://cli.fusio.net/cli/climate_data/webdata/dly823.zip\n",
      "No file exists\n",
      "http://cli.fusio.net/cli/climate_data/webdata/hly1624.zip\n",
      "No file exists\n",
      "http://cli.fusio.net/cli/climate_data/webdata/dly1624.zip\n",
      "No file exists\n",
      "http://cli.fusio.net/cli/climate_data/webdata/hly1623.zip\n",
      "No file exists\n",
      "http://cli.fusio.net/cli/climate_data/webdata/dly1623.zip\n",
      "No file exists\n",
      "http://cli.fusio.net/cli/climate_data/webdata/hly3923.zip\n",
      "No file exists\n",
      "http://cli.fusio.net/cli/climate_data/webdata/dly3923.zip\n",
      "http://cli.fusio.net/cli/climate_data/webdata/hly4023.zip\n",
      "No file exists\n",
      "http://cli.fusio.net/cli/climate_data/webdata/dly4023.zip\n",
      "No file exists\n",
      "http://cli.fusio.net/cli/climate_data/webdata/hly150.zip\n",
      "No file exists\n",
      "http://cli.fusio.net/cli/climate_data/webdata/dly150.zip\n",
      "No file exists\n",
      "http://cli.fusio.net/cli/climate_data/webdata/hly832.zip\n",
      "No file exists\n",
      "http://cli.fusio.net/cli/climate_data/webdata/dly832.zip\n",
      "No file exists\n",
      "http://cli.fusio.net/cli/climate_data/webdata/hly4123.zip\n",
      "No file exists\n",
      "http://cli.fusio.net/cli/climate_data/webdata/dly4123.zip\n",
      "No file exists\n",
      "http://cli.fusio.net/cli/climate_data/webdata/hly4223.zip\n",
      "No file exists\n",
      "http://cli.fusio.net/cli/climate_data/webdata/dly4223.zip\n",
      "No file exists\n",
      "http://cli.fusio.net/cli/climate_data/webdata/hly124.zip\n",
      "No file exists\n",
      "http://cli.fusio.net/cli/climate_data/webdata/dly124.zip\n",
      "No file exists\n",
      "http://cli.fusio.net/cli/climate_data/webdata/hly4323.zip\n",
      "No file exists\n",
      "http://cli.fusio.net/cli/climate_data/webdata/dly4323.zip\n",
      "No file exists\n",
      "http://cli.fusio.net/cli/climate_data/webdata/hly175.zip\n",
      "http://cli.fusio.net/cli/climate_data/webdata/hly1723.zip\n",
      "No file exists\n",
      "http://cli.fusio.net/cli/climate_data/webdata/dly1723.zip\n",
      "No file exists\n",
      "http://cli.fusio.net/cli/climate_data/webdata/hly1732.zip\n",
      "No file exists\n",
      "http://cli.fusio.net/cli/climate_data/webdata/dly1732.zip\n",
      "No file exists\n",
      "http://cli.fusio.net/cli/climate_data/webdata/hly4823.zip\n",
      "No file exists\n",
      "http://cli.fusio.net/cli/climate_data/webdata/dly4823.zip\n",
      "No file exists\n",
      "http://cli.fusio.net/cli/climate_data/webdata/hly1823.zip\n",
      "No file exists\n",
      "http://cli.fusio.net/cli/climate_data/webdata/dly1823.zip\n",
      "http://cli.fusio.net/cli/climate_data/webdata/hly932.zip\n",
      "No file exists\n",
      "http://cli.fusio.net/cli/climate_data/webdata/dly932.zip\n",
      "No file exists\n",
      "http://cli.fusio.net/cli/climate_data/webdata/hly1923.zip\n",
      "No file exists\n",
      "http://cli.fusio.net/cli/climate_data/webdata/dly1923.zip\n",
      "http://cli.fusio.net/cli/climate_data/webdata/hly5523.zip\n",
      "No file exists\n",
      "http://cli.fusio.net/cli/climate_data/webdata/dly5523.zip\n",
      "No file exists\n",
      "http://cli.fusio.net/cli/climate_data/webdata/hly5580.zip\n",
      "No file exists\n",
      "http://cli.fusio.net/cli/climate_data/webdata/dly5580.zip\n",
      "No file exists\n",
      "http://cli.fusio.net/cli/climate_data/webdata/hly5623.zip\n",
      "No file exists\n",
      "http://cli.fusio.net/cli/climate_data/webdata/dly5623.zip\n",
      "http://cli.fusio.net/cli/climate_data/webdata/hly5680.zip\n",
      "No file exists\n",
      "http://cli.fusio.net/cli/climate_data/webdata/dly5680.zip\n",
      "http://cli.fusio.net/cli/climate_data/webdata/hly5723.zip\n",
      "No file exists\n",
      "http://cli.fusio.net/cli/climate_data/webdata/dly5723.zip\n",
      "No file exists\n",
      "http://cli.fusio.net/cli/climate_data/webdata/hly532.zip\n",
      "http://cli.fusio.net/cli/climate_data/webdata/hly1023.zip\n",
      "No file exists\n",
      "http://cli.fusio.net/cli/climate_data/webdata/dly1023.zip\n",
      "No file exists\n",
      "http://cli.fusio.net/cli/climate_data/webdata/hly5823.zip\n",
      "No file exists\n",
      "http://cli.fusio.net/cli/climate_data/webdata/dly5823.zip\n",
      "No file exists\n",
      "http://cli.fusio.net/cli/climate_data/webdata/hly2024.zip\n",
      "No file exists\n",
      "http://cli.fusio.net/cli/climate_data/webdata/dly2024.zip\n",
      "No file exists\n",
      "http://cli.fusio.net/cli/climate_data/webdata/hly2023.zip\n",
      "No file exists\n",
      "http://cli.fusio.net/cli/climate_data/webdata/dly2023.zip\n",
      "No file exists\n",
      "http://cli.fusio.net/cli/climate_data/webdata/hly5923.zip\n",
      "No file exists\n",
      "http://cli.fusio.net/cli/climate_data/webdata/dly5923.zip\n",
      "No file exists\n",
      "http://cli.fusio.net/cli/climate_data/webdata/hly5985.zip\n",
      "No file exists\n",
      "http://cli.fusio.net/cli/climate_data/webdata/dly5985.zip\n",
      "http://cli.fusio.net/cli/climate_data/webdata/hly6023.zip\n",
      "No file exists\n",
      "http://cli.fusio.net/cli/climate_data/webdata/dly6023.zip\n",
      "No file exists\n",
      "http://cli.fusio.net/cli/climate_data/webdata/hly6185.zip\n",
      "No file exists\n",
      "http://cli.fusio.net/cli/climate_data/webdata/dly6185.zip\n",
      "http://cli.fusio.net/cli/climate_data/webdata/hly6223.zip\n",
      "No file exists\n",
      "http://cli.fusio.net/cli/climate_data/webdata/dly6223.zip\n",
      "No file exists\n",
      "http://cli.fusio.net/cli/climate_data/webdata/hly6323.zip\n",
      "No file exists\n",
      "http://cli.fusio.net/cli/climate_data/webdata/dly6323.zip\n",
      "No file exists\n",
      "http://cli.fusio.net/cli/climate_data/webdata/hly324.zip\n",
      "No file exists\n",
      "http://cli.fusio.net/cli/climate_data/webdata/dly324.zip\n",
      "No file exists\n",
      "http://cli.fusio.net/cli/climate_data/webdata/hly6423.zip\n",
      "No file exists\n",
      "http://cli.fusio.net/cli/climate_data/webdata/dly6423.zip\n",
      "No file exists\n",
      "http://cli.fusio.net/cli/climate_data/webdata/hly6523.zip\n",
      "No file exists\n",
      "http://cli.fusio.net/cli/climate_data/webdata/dly6523.zip\n",
      "No file exists\n",
      "http://cli.fusio.net/cli/climate_data/webdata/hly2123.zip\n",
      "No file exists\n",
      "http://cli.fusio.net/cli/climate_data/webdata/dly2123.zip\n",
      "No file exists\n",
      "http://cli.fusio.net/cli/climate_data/webdata/hly2124.zip\n",
      "No file exists\n",
      "http://cli.fusio.net/cli/climate_data/webdata/dly2124.zip\n",
      "No file exists\n",
      "http://cli.fusio.net/cli/climate_data/webdata/hly6623.zip\n",
      "No file exists\n",
      "http://cli.fusio.net/cli/climate_data/webdata/dly6623.zip\n",
      "http://cli.fusio.net/cli/climate_data/webdata/hly2132.zip\n",
      "No file exists\n",
      "http://cli.fusio.net/cli/climate_data/webdata/dly2132.zip\n",
      "No file exists\n",
      "http://cli.fusio.net/cli/climate_data/webdata/hly6823.zip\n",
      "No file exists\n",
      "http://cli.fusio.net/cli/climate_data/webdata/dly6823.zip\n",
      "No file exists\n",
      "http://cli.fusio.net/cli/climate_data/webdata/hly6923.zip\n",
      "No file exists\n",
      "http://cli.fusio.net/cli/climate_data/webdata/dly6923.zip\n",
      "No file exists\n",
      "http://cli.fusio.net/cli/climate_data/webdata/hly7023.zip\n",
      "No file exists\n",
      "http://cli.fusio.net/cli/climate_data/webdata/dly7023.zip\n",
      "No file exists\n",
      "http://cli.fusio.net/cli/climate_data/webdata/hly7123.zip\n",
      "No file exists\n",
      "http://cli.fusio.net/cli/climate_data/webdata/dly7123.zip\n",
      "No file exists\n",
      "http://cli.fusio.net/cli/climate_data/webdata/hly7223.zip\n",
      "No file exists\n",
      "http://cli.fusio.net/cli/climate_data/webdata/dly7223.zip\n",
      "No file exists\n",
      "http://cli.fusio.net/cli/climate_data/webdata/hly7323.zip\n",
      "No file exists\n",
      "http://cli.fusio.net/cli/climate_data/webdata/dly7323.zip\n",
      "No file exists\n",
      "http://cli.fusio.net/cli/climate_data/webdata/hly1123.zip\n",
      "No file exists\n",
      "http://cli.fusio.net/cli/climate_data/webdata/dly1123.zip\n",
      "No file exists\n",
      "http://cli.fusio.net/cli/climate_data/webdata/hly7423.zip\n",
      "No file exists\n",
      "http://cli.fusio.net/cli/climate_data/webdata/dly7423.zip\n",
      "No file exists\n",
      "http://cli.fusio.net/cli/climate_data/webdata/hly2232.zip\n",
      "No file exists\n",
      "http://cli.fusio.net/cli/climate_data/webdata/dly2232.zip\n",
      "No file exists\n",
      "http://cli.fusio.net/cli/climate_data/webdata/hly7523.zip\n",
      "No file exists\n",
      "http://cli.fusio.net/cli/climate_data/webdata/dly7523.zip\n",
      "http://cli.fusio.net/cli/climate_data/webdata/hly7623.zip\n",
      "No file exists\n",
      "http://cli.fusio.net/cli/climate_data/webdata/dly7623.zip\n",
      "No file exists\n",
      "http://cli.fusio.net/cli/climate_data/webdata/hly2223.zip\n",
      "No file exists\n",
      "http://cli.fusio.net/cli/climate_data/webdata/dly2223.zip\n",
      "No file exists\n",
      "http://cli.fusio.net/cli/climate_data/webdata/hly7823.zip\n",
      "No file exists\n",
      "http://cli.fusio.net/cli/climate_data/webdata/dly7823.zip\n",
      "No file exists\n",
      "http://cli.fusio.net/cli/climate_data/webdata/hly7923.zip\n",
      "No file exists\n",
      "http://cli.fusio.net/cli/climate_data/webdata/dly7923.zip\n",
      "http://cli.fusio.net/cli/climate_data/webdata/hly8023.zip\n",
      "No file exists\n",
      "http://cli.fusio.net/cli/climate_data/webdata/dly8023.zip\n",
      "No file exists\n",
      "http://cli.fusio.net/cli/climate_data/webdata/hly8223.zip\n",
      "No file exists\n",
      "http://cli.fusio.net/cli/climate_data/webdata/dly8223.zip\n",
      "No file exists\n",
      "http://cli.fusio.net/cli/climate_data/webdata/hly8723.zip\n",
      "No file exists\n",
      "http://cli.fusio.net/cli/climate_data/webdata/dly8723.zip\n",
      "No file exists\n",
      "http://cli.fusio.net/cli/climate_data/webdata/hly9023.zip\n",
      "No file exists\n",
      "http://cli.fusio.net/cli/climate_data/webdata/dly9023.zip\n",
      "No file exists\n",
      "http://cli.fusio.net/cli/climate_data/webdata/hly332.zip\n",
      "No file exists\n",
      "http://cli.fusio.net/cli/climate_data/webdata/dly332.zip\n",
      "No file exists\n",
      "http://cli.fusio.net/cli/climate_data/webdata/hly9223.zip\n",
      "No file exists\n",
      "http://cli.fusio.net/cli/climate_data/webdata/dly9223.zip\n",
      "http://cli.fusio.net/cli/climate_data/webdata/hly9423.zip\n",
      "No file exists\n",
      "http://cli.fusio.net/cli/climate_data/webdata/dly9423.zip\n",
      "No file exists\n",
      "http://cli.fusio.net/cli/climate_data/webdata/hly9523.zip\n",
      "No file exists\n",
      "http://cli.fusio.net/cli/climate_data/webdata/dly9523.zip\n",
      "No file exists\n",
      "http://cli.fusio.net/cli/climate_data/webdata/hly9623.zip\n",
      "No file exists\n",
      "http://cli.fusio.net/cli/climate_data/webdata/dly9623.zip\n",
      "No file exists\n",
      "http://cli.fusio.net/cli/climate_data/webdata/hly9723.zip\n",
      "No file exists\n",
      "http://cli.fusio.net/cli/climate_data/webdata/dly9723.zip\n",
      "No file exists\n",
      "http://cli.fusio.net/cli/climate_data/webdata/hly623.zip\n",
      "No file exists\n",
      "http://cli.fusio.net/cli/climate_data/webdata/dly623.zip\n",
      "No file exists\n",
      "http://cli.fusio.net/cli/climate_data/webdata/hly9823.zip\n",
      "No file exists\n",
      "http://cli.fusio.net/cli/climate_data/webdata/dly9823.zip\n",
      "No file exists\n",
      "http://cli.fusio.net/cli/climate_data/webdata/hly2423.zip\n",
      "No file exists\n",
      "http://cli.fusio.net/cli/climate_data/webdata/dly2423.zip\n",
      "No file exists\n"
     ]
    }
   ],
   "source": [
    "for rows in dublinStations.itertuples():\n",
    "    # get hourly weather data\n",
    "    url = \"http://cli.fusio.net/cli/climate_data/webdata/hly\" + str(rows.stationname) + \".zip\"\n",
    "    print(url)\n",
    "    dest = './Zips/MetEirrean/hly' + str(rows.stationname) + \".zip\"\n",
    "    try:\n",
    "        weatherFile = rq.urlretrieve(url, dest)\n",
    "        continue\n",
    "    except Exception:\n",
    "        print('No file exists')  \n",
    "    # get the daily weather data\n",
    "    url = \"http://cli.fusio.net/cli/climate_data/webdata/dly\" + str(rows.stationname) + \".zip\"\n",
    "    print(url)\n",
    "    dest = './Zips/MetEirrean/dly' + str(rows.stationname) + \".zip\"\n",
    "    try:\n",
    "        weatherFile = rq.urlretrieve(url, dest)\n",
    "        continue\n",
    "    except Exception:\n",
    "        print('No file exists')  "
   ]
  },
  {
   "cell_type": "code",
   "execution_count": 36,
   "metadata": {},
   "outputs": [
    {
     "data": {
      "text/plain": [
       "'c:\\\\Source\\\\Repos\\\\DublinBusWeatherProject'"
      ]
     },
     "execution_count": 36,
     "metadata": {},
     "output_type": "execute_result"
    }
   ],
   "source": [
    "os.getcwd()"
   ]
  },
  {
   "cell_type": "code",
   "execution_count": 55,
   "metadata": {},
   "outputs": [],
   "source": [
    "sdf = pd.read_csv('./Data/MetEirrean/dly1332.csv',  delimiter=',', header=0,  parse_dates=True, low_memory=True,skiprows=9)\n",
    "    "
   ]
  },
  {
   "cell_type": "code",
   "execution_count": 74,
   "metadata": {},
   "outputs": [],
   "source": [
    "import zipfile as zip\n",
    "    # Zip creates its own folders - no need to check for folder existence\n",
    "files = os.listdir('./Zips/MetEirrean/')\n",
    "WDfiles = [f for f in files if f.startswith('dly')]\n",
    "for f in WDfiles:\n",
    "    fp = './Zips/MetEirrean/' + f\n",
    "    with zip.ZipFile(fp,  mode='r') as arc: \n",
    "        arc.extractall('./Data/MetEirrean/')\n",
    "\n"
   ]
  },
  {
   "cell_type": "code",
   "execution_count": 75,
   "metadata": {},
   "outputs": [],
   "source": [
    "files = os.listdir('./Data/MetEirrean/')  \n",
    "WDfiles = [f for f in files if f.endswith('.csv')] # need to remove the empty files"
   ]
  },
  {
   "cell_type": "code",
   "execution_count": 130,
   "metadata": {},
   "outputs": [],
   "source": [
    "def load_csv_Files(direc, files):\n",
    "\n",
    "    for f in files:\n",
    "        # need to get number of rows to skip \n",
    "        temp=pd.read_csv(direc + f,sep='^',header=None,prefix='X')\n",
    "        temp2=temp.X0.str.split(',',expand=True)\n",
    "        del temp['X0']\n",
    "        temp=pd.concat([temp,temp2],axis=1)\n",
    "        cols = list(range(0,temp.shape[1]))\n",
    "\n",
    "        print(f)\n",
    "        yield pd.read_csv(direc + f,  delimiter=',', header=0,  parse_dates=True, low_memory=True, skiprows=14, usecols=cols, na_values='NAN')\n",
    "    "
   ]
  },
  {
   "cell_type": "code",
   "execution_count": 131,
   "metadata": {},
   "outputs": [
    {
     "name": "stderr",
     "output_type": "stream",
     "text": [
      "C:\\Users\\stehayes\\AppData\\Local\\Temp\\ipykernel_12908\\925239655.py:5: FutureWarning: The prefix argument has been deprecated and will be removed in a future version. Use a list comprehension on the column names in the future.\n",
      "\n",
      "\n",
      "  temp=pd.read_csv(direc + f,sep='^',header=None,prefix='X')\n"
     ]
    },
    {
     "name": "stdout",
     "output_type": "stream",
     "text": [
      "dly1332.csv\n"
     ]
    },
    {
     "name": "stderr",
     "output_type": "stream",
     "text": [
      "C:\\Users\\stehayes\\AppData\\Local\\Temp\\ipykernel_12908\\925239655.py:5: FutureWarning: The prefix argument has been deprecated and will be removed in a future version. Use a list comprehension on the column names in the future.\n",
      "\n",
      "\n",
      "  temp=pd.read_csv(direc + f,sep='^',header=None,prefix='X')\n"
     ]
    },
    {
     "name": "stdout",
     "output_type": "stream",
     "text": [
      "dly1823.csv\n"
     ]
    },
    {
     "name": "stderr",
     "output_type": "stream",
     "text": [
      "C:\\Users\\stehayes\\AppData\\Local\\Temp\\ipykernel_12908\\925239655.py:5: FutureWarning: The prefix argument has been deprecated and will be removed in a future version. Use a list comprehension on the column names in the future.\n",
      "\n",
      "\n",
      "  temp=pd.read_csv(direc + f,sep='^',header=None,prefix='X')\n"
     ]
    },
    {
     "name": "stdout",
     "output_type": "stream",
     "text": [
      "dly1923.csv\n"
     ]
    },
    {
     "name": "stderr",
     "output_type": "stream",
     "text": [
      "C:\\Users\\stehayes\\AppData\\Local\\Temp\\ipykernel_12908\\925239655.py:5: FutureWarning: The prefix argument has been deprecated and will be removed in a future version. Use a list comprehension on the column names in the future.\n",
      "\n",
      "\n",
      "  temp=pd.read_csv(direc + f,sep='^',header=None,prefix='X')\n"
     ]
    },
    {
     "name": "stdout",
     "output_type": "stream",
     "text": [
      "dly2523.csv\n"
     ]
    },
    {
     "name": "stderr",
     "output_type": "stream",
     "text": [
      "C:\\Users\\stehayes\\AppData\\Local\\Temp\\ipykernel_12908\\925239655.py:5: FutureWarning: The prefix argument has been deprecated and will be removed in a future version. Use a list comprehension on the column names in the future.\n",
      "\n",
      "\n",
      "  temp=pd.read_csv(direc + f,sep='^',header=None,prefix='X')\n"
     ]
    },
    {
     "name": "stdout",
     "output_type": "stream",
     "text": [
      "dly3524.csv\n"
     ]
    },
    {
     "name": "stderr",
     "output_type": "stream",
     "text": [
      "C:\\Users\\stehayes\\AppData\\Local\\Temp\\ipykernel_12908\\925239655.py:5: FutureWarning: The prefix argument has been deprecated and will be removed in a future version. Use a list comprehension on the column names in the future.\n",
      "\n",
      "\n",
      "  temp=pd.read_csv(direc + f,sep='^',header=None,prefix='X')\n"
     ]
    },
    {
     "name": "stdout",
     "output_type": "stream",
     "text": [
      "dly3923.csv\n"
     ]
    },
    {
     "name": "stderr",
     "output_type": "stream",
     "text": [
      "C:\\Users\\stehayes\\AppData\\Local\\Temp\\ipykernel_12908\\925239655.py:5: FutureWarning: The prefix argument has been deprecated and will be removed in a future version. Use a list comprehension on the column names in the future.\n",
      "\n",
      "\n",
      "  temp=pd.read_csv(direc + f,sep='^',header=None,prefix='X')\n"
     ]
    },
    {
     "name": "stdout",
     "output_type": "stream",
     "text": [
      "dly5623.csv\n"
     ]
    },
    {
     "name": "stderr",
     "output_type": "stream",
     "text": [
      "C:\\Users\\stehayes\\AppData\\Local\\Temp\\ipykernel_12908\\925239655.py:5: FutureWarning: The prefix argument has been deprecated and will be removed in a future version. Use a list comprehension on the column names in the future.\n",
      "\n",
      "\n",
      "  temp=pd.read_csv(direc + f,sep='^',header=None,prefix='X')\n"
     ]
    },
    {
     "name": "stdout",
     "output_type": "stream",
     "text": [
      "dly6623.csv\n"
     ]
    },
    {
     "name": "stderr",
     "output_type": "stream",
     "text": [
      "C:\\Users\\stehayes\\AppData\\Local\\Temp\\ipykernel_12908\\925239655.py:5: FutureWarning: The prefix argument has been deprecated and will be removed in a future version. Use a list comprehension on the column names in the future.\n",
      "\n",
      "\n",
      "  temp=pd.read_csv(direc + f,sep='^',header=None,prefix='X')\n"
     ]
    },
    {
     "name": "stdout",
     "output_type": "stream",
     "text": [
      "dly7523.csv\n"
     ]
    },
    {
     "name": "stderr",
     "output_type": "stream",
     "text": [
      "C:\\Users\\stehayes\\AppData\\Local\\Temp\\ipykernel_12908\\925239655.py:5: FutureWarning: The prefix argument has been deprecated and will be removed in a future version. Use a list comprehension on the column names in the future.\n",
      "\n",
      "\n",
      "  temp=pd.read_csv(direc + f,sep='^',header=None,prefix='X')\n"
     ]
    },
    {
     "name": "stdout",
     "output_type": "stream",
     "text": [
      "dly7923.csv\n"
     ]
    },
    {
     "name": "stderr",
     "output_type": "stream",
     "text": [
      "C:\\Users\\stehayes\\AppData\\Local\\Temp\\ipykernel_12908\\925239655.py:5: FutureWarning: The prefix argument has been deprecated and will be removed in a future version. Use a list comprehension on the column names in the future.\n",
      "\n",
      "\n",
      "  temp=pd.read_csv(direc + f,sep='^',header=None,prefix='X')\n"
     ]
    },
    {
     "name": "stdout",
     "output_type": "stream",
     "text": [
      "dly9223.csv\n"
     ]
    }
   ],
   "source": [
    "wdf = pd.concat(load_csv_Files('./Data/MetEirrean/', WDfiles), copy = False)\n",
    "\n",
    "\n"
   ]
  },
  {
   "cell_type": "code",
   "execution_count": 129,
   "metadata": {},
   "outputs": [],
   "source": [
    "a = list(range(0,9))\n"
   ]
  },
  {
   "cell_type": "code",
   "execution_count": 134,
   "metadata": {},
   "outputs": [
    {
     "data": {
      "text/plain": [
       "(249744, 26)"
      ]
     },
     "execution_count": 134,
     "metadata": {},
     "output_type": "execute_result"
    }
   ],
   "source": [
    "wdf.shape"
   ]
  },
  {
   "cell_type": "code",
   "execution_count": null,
   "metadata": {},
   "outputs": [],
   "source": []
  }
 ],
 "metadata": {
  "kernelspec": {
   "display_name": "Python 3.10.8 64-bit (microsoft store)",
   "language": "python",
   "name": "python3"
  },
  "language_info": {
   "codemirror_mode": {
    "name": "ipython",
    "version": 3
   },
   "file_extension": ".py",
   "mimetype": "text/x-python",
   "name": "python",
   "nbconvert_exporter": "python",
   "pygments_lexer": "ipython3",
   "version": "3.10.8"
  },
  "orig_nbformat": 4,
  "vscode": {
   "interpreter": {
    "hash": "e0acaf148705ed9ed86cc5cad12259d7985e30670e5686e5f55604a9b3b84a55"
   }
  }
 },
 "nbformat": 4,
 "nbformat_minor": 2
}
