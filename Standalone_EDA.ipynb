{
 "cells": [
  {
   "cell_type": "code",
   "execution_count": 1,
   "metadata": {},
   "outputs": [],
   "source": [
    "reqPkgs = ['matplotlib', 'scipy', 'statsmodels', 'pandas', 'numpy', 'functools', 'ipython'\n",
    ",'ipywidgets', 'seaborn']\n"
   ]
  },
  {
   "cell_type": "code",
   "execution_count": 2,
   "metadata": {},
   "outputs": [
    {
     "name": "stdout",
     "output_type": "stream",
     "text": [
      "['argon2-cffi', 'argon2-cffi-bindings', 'asttokens', 'attrs', 'backcall', 'beautifulsoup4', 'bleach', 'cffi', 'click', 'click-didyoumean', 'colorama', 'cycler', 'debugpy', 'decorator', 'defusedxml', 'entrypoints', 'executing', 'fastjsonschema', 'fonttools', 'importlib-resources', 'ipykernel', 'ipython', 'ipython-genutils', 'ipywidgets', 'jedi', 'Jinja2', 'joblib', 'jsonschema', 'jupyter-client', 'jupyter-core', 'jupyterlab-pygments', 'jupyterlab-widgets', 'kaleido', 'kiwisolver', 'lxml', 'MarkupSafe', 'matplotlib', 'matplotlib-inline', 'mistune', 'nbclient', 'nbconvert', 'nbformat', 'nest-asyncio', 'notebook', 'numpy', 'p', 'packaging', 'pandas', 'pandocfilters', 'parso', 'patsy', 'pickleshare', 'Pillow', 'pkgutil_resolve_name', 'plotly', 'prometheus-client', 'prompt-toolkit', 'psutil', 'pure-eval', 'pyarrow', 'pycparser', 'Pygments', 'pyparsing', 'pyrsistent', 'python-dateutil', 'pytz', 'pywin32', 'pywinpty', 'PyYAML', 'pyzmq', 'scikit-learn', 'scipy', 'seaborn', 'Send2Trash', 'six', 'sklearn', 'soupsieve', 'stack-data', 'statsmodels', 'tenacity', 'terminado', 'threadpoolctl', 'tinycss2', 'tornado', 'traitlets', 'wcwidth', 'webencodings', 'widgetsnbextension', 'zipp']\n"
     ]
    }
   ],
   "source": [
    "import subprocess\n",
    "import sys\n",
    "reqs = subprocess.check_output([sys.executable, '-m', 'pip', 'freeze'])\n",
    "installed_packages = [r.decode().split('==')[0] for r in reqs.split()]\n",
    "print(installed_packages)"
   ]
  },
  {
   "cell_type": "code",
   "execution_count": 3,
   "metadata": {},
   "outputs": [
    {
     "name": "stdout",
     "output_type": "stream",
     "text": [
      "['functools']\n"
     ]
    }
   ],
   "source": [
    "instPks = list(set(reqPkgs) - set(installed_packages))\n",
    "print(instPks)\n"
   ]
  },
  {
   "cell_type": "code",
   "execution_count": 4,
   "metadata": {},
   "outputs": [
    {
     "name": "stdout",
     "output_type": "stream",
     "text": [
      "Requirement already satisfied: matplotlib in c:\\users\\stehayes\\appdata\\local\\packages\\pythonsoftwarefoundation.python.3.8_qbz5n2kfra8p0\\localcache\\local-packages\\python38\\site-packages (3.5.3)\n",
      "Requirement already satisfied: cycler>=0.10 in c:\\users\\stehayes\\appdata\\local\\packages\\pythonsoftwarefoundation.python.3.8_qbz5n2kfra8p0\\localcache\\local-packages\\python38\\site-packages (from matplotlib) (0.11.0)\n",
      "Requirement already satisfied: kiwisolver>=1.0.1 in c:\\users\\stehayes\\appdata\\local\\packages\\pythonsoftwarefoundation.python.3.8_qbz5n2kfra8p0\\localcache\\local-packages\\python38\\site-packages (from matplotlib) (1.4.4)\n",
      "Requirement already satisfied: fonttools>=4.22.0 in c:\\users\\stehayes\\appdata\\local\\packages\\pythonsoftwarefoundation.python.3.8_qbz5n2kfra8p0\\localcache\\local-packages\\python38\\site-packages (from matplotlib) (4.34.4)\n",
      "Requirement already satisfied: python-dateutil>=2.7 in c:\\users\\stehayes\\appdata\\local\\packages\\pythonsoftwarefoundation.python.3.8_qbz5n2kfra8p0\\localcache\\local-packages\\python38\\site-packages (from matplotlib) (2.8.2)\n",
      "Requirement already satisfied: pyparsing>=2.2.1 in c:\\users\\stehayes\\appdata\\local\\packages\\pythonsoftwarefoundation.python.3.8_qbz5n2kfra8p0\\localcache\\local-packages\\python38\\site-packages (from matplotlib) (3.0.9)\n",
      "Requirement already satisfied: packaging>=20.0 in c:\\users\\stehayes\\appdata\\local\\packages\\pythonsoftwarefoundation.python.3.8_qbz5n2kfra8p0\\localcache\\local-packages\\python38\\site-packages (from matplotlib) (21.3)\n",
      "Requirement already satisfied: pillow>=6.2.0 in c:\\users\\stehayes\\appdata\\local\\packages\\pythonsoftwarefoundation.python.3.8_qbz5n2kfra8p0\\localcache\\local-packages\\python38\\site-packages (from matplotlib) (9.2.0)\n",
      "Requirement already satisfied: numpy>=1.17 in c:\\users\\stehayes\\appdata\\local\\packages\\pythonsoftwarefoundation.python.3.8_qbz5n2kfra8p0\\localcache\\local-packages\\python38\\site-packages (from matplotlib) (1.23.1)\n",
      "Requirement already satisfied: six>=1.5 in c:\\users\\stehayes\\appdata\\local\\packages\\pythonsoftwarefoundation.python.3.8_qbz5n2kfra8p0\\localcache\\local-packages\\python38\\site-packages (from python-dateutil>=2.7->matplotlib) (1.16.0)\n",
      "Note: you may need to restart the kernel to use updated packages.\n",
      "Requirement already satisfied: statsmodels in c:\\users\\stehayes\\appdata\\local\\packages\\pythonsoftwarefoundation.python.3.8_qbz5n2kfra8p0\\localcache\\local-packages\\python38\\site-packages (0.13.2)\n",
      "Requirement already satisfied: scipy>=1.3 in c:\\users\\stehayes\\appdata\\local\\packages\\pythonsoftwarefoundation.python.3.8_qbz5n2kfra8p0\\localcache\\local-packages\\python38\\site-packages (from statsmodels) (1.9.2)\n",
      "Requirement already satisfied: packaging>=21.3 in c:\\users\\stehayes\\appdata\\local\\packages\\pythonsoftwarefoundation.python.3.8_qbz5n2kfra8p0\\localcache\\local-packages\\python38\\site-packages (from statsmodels) (21.3)\n",
      "Requirement already satisfied: patsy>=0.5.2 in c:\\users\\stehayes\\appdata\\local\\packages\\pythonsoftwarefoundation.python.3.8_qbz5n2kfra8p0\\localcache\\local-packages\\python38\\site-packages (from statsmodels) (0.5.3)\n",
      "Requirement already satisfied: pandas>=0.25 in c:\\users\\stehayes\\appdata\\local\\packages\\pythonsoftwarefoundation.python.3.8_qbz5n2kfra8p0\\localcache\\local-packages\\python38\\site-packages (from statsmodels) (1.5.0)\n",
      "Requirement already satisfied: numpy>=1.17 in c:\\users\\stehayes\\appdata\\local\\packages\\pythonsoftwarefoundation.python.3.8_qbz5n2kfra8p0\\localcache\\local-packages\\python38\\site-packages (from statsmodels) (1.23.1)\n",
      "Requirement already satisfied: pyparsing!=3.0.5,>=2.0.2 in c:\\users\\stehayes\\appdata\\local\\packages\\pythonsoftwarefoundation.python.3.8_qbz5n2kfra8p0\\localcache\\local-packages\\python38\\site-packages (from packaging>=21.3->statsmodels) (3.0.9)\n",
      "Requirement already satisfied: python-dateutil>=2.8.1 in c:\\users\\stehayes\\appdata\\local\\packages\\pythonsoftwarefoundation.python.3.8_qbz5n2kfra8p0\\localcache\\local-packages\\python38\\site-packages (from pandas>=0.25->statsmodels) (2.8.2)\n",
      "Requirement already satisfied: pytz>=2020.1 in c:\\users\\stehayes\\appdata\\local\\packages\\pythonsoftwarefoundation.python.3.8_qbz5n2kfra8p0\\localcache\\local-packages\\python38\\site-packages (from pandas>=0.25->statsmodels) (2022.4)\n",
      "Requirement already satisfied: six in c:\\users\\stehayes\\appdata\\local\\packages\\pythonsoftwarefoundation.python.3.8_qbz5n2kfra8p0\\localcache\\local-packages\\python38\\site-packages (from patsy>=0.5.2->statsmodels) (1.16.0)\n",
      "Note: you may need to restart the kernel to use updated packages.\n",
      "Requirement already satisfied: ipywidgets in c:\\users\\stehayes\\appdata\\local\\packages\\pythonsoftwarefoundation.python.3.8_qbz5n2kfra8p0\\localcache\\local-packages\\python38\\site-packages (7.7.1)\n",
      "Requirement already satisfied: traitlets>=4.3.1 in c:\\users\\stehayes\\appdata\\local\\packages\\pythonsoftwarefoundation.python.3.8_qbz5n2kfra8p0\\localcache\\local-packages\\python38\\site-packages (from ipywidgets) (5.3.0)\n",
      "Requirement already satisfied: widgetsnbextension~=3.6.0 in c:\\users\\stehayes\\appdata\\local\\packages\\pythonsoftwarefoundation.python.3.8_qbz5n2kfra8p0\\localcache\\local-packages\\python38\\site-packages (from ipywidgets) (3.6.1)\n",
      "Requirement already satisfied: ipython-genutils~=0.2.0 in c:\\users\\stehayes\\appdata\\local\\packages\\pythonsoftwarefoundation.python.3.8_qbz5n2kfra8p0\\localcache\\local-packages\\python38\\site-packages (from ipywidgets) (0.2.0)\n",
      "Requirement already satisfied: ipython>=4.0.0 in c:\\users\\stehayes\\appdata\\local\\packages\\pythonsoftwarefoundation.python.3.8_qbz5n2kfra8p0\\localcache\\local-packages\\python38\\site-packages (from ipywidgets) (8.4.0)\n",
      "Requirement already satisfied: jupyterlab-widgets>=1.0.0 in c:\\users\\stehayes\\appdata\\local\\packages\\pythonsoftwarefoundation.python.3.8_qbz5n2kfra8p0\\localcache\\local-packages\\python38\\site-packages (from ipywidgets) (1.1.1)\n",
      "Requirement already satisfied: ipykernel>=4.5.1 in c:\\users\\stehayes\\appdata\\local\\packages\\pythonsoftwarefoundation.python.3.8_qbz5n2kfra8p0\\localcache\\local-packages\\python38\\site-packages (from ipywidgets) (6.15.1)\n",
      "Requirement already satisfied: pyzmq>=17 in c:\\users\\stehayes\\appdata\\local\\packages\\pythonsoftwarefoundation.python.3.8_qbz5n2kfra8p0\\localcache\\local-packages\\python38\\site-packages (from ipykernel>=4.5.1->ipywidgets) (23.2.1)\n",
      "Requirement already satisfied: jupyter-client>=6.1.12 in c:\\users\\stehayes\\appdata\\local\\packages\\pythonsoftwarefoundation.python.3.8_qbz5n2kfra8p0\\localcache\\local-packages\\python38\\site-packages (from ipykernel>=4.5.1->ipywidgets) (7.3.4)\n",
      "Requirement already satisfied: nest-asyncio in c:\\users\\stehayes\\appdata\\local\\packages\\pythonsoftwarefoundation.python.3.8_qbz5n2kfra8p0\\localcache\\local-packages\\python38\\site-packages (from ipykernel>=4.5.1->ipywidgets) (1.5.5)\n",
      "Requirement already satisfied: psutil in c:\\users\\stehayes\\appdata\\local\\packages\\pythonsoftwarefoundation.python.3.8_qbz5n2kfra8p0\\localcache\\local-packages\\python38\\site-packages (from ipykernel>=4.5.1->ipywidgets) (5.9.1)\n",
      "Requirement already satisfied: tornado>=6.1 in c:\\users\\stehayes\\appdata\\local\\packages\\pythonsoftwarefoundation.python.3.8_qbz5n2kfra8p0\\localcache\\local-packages\\python38\\site-packages (from ipykernel>=4.5.1->ipywidgets) (6.2)\n",
      "Requirement already satisfied: packaging in c:\\users\\stehayes\\appdata\\local\\packages\\pythonsoftwarefoundation.python.3.8_qbz5n2kfra8p0\\localcache\\local-packages\\python38\\site-packages (from ipykernel>=4.5.1->ipywidgets) (21.3)\n",
      "Requirement already satisfied: debugpy>=1.0 in c:\\users\\stehayes\\appdata\\local\\packages\\pythonsoftwarefoundation.python.3.8_qbz5n2kfra8p0\\localcache\\local-packages\\python38\\site-packages (from ipykernel>=4.5.1->ipywidgets) (1.6.2)\n",
      "Requirement already satisfied: matplotlib-inline>=0.1 in c:\\users\\stehayes\\appdata\\local\\packages\\pythonsoftwarefoundation.python.3.8_qbz5n2kfra8p0\\localcache\\local-packages\\python38\\site-packages (from ipykernel>=4.5.1->ipywidgets) (0.1.3)\n",
      "Requirement already satisfied: stack-data in c:\\users\\stehayes\\appdata\\local\\packages\\pythonsoftwarefoundation.python.3.8_qbz5n2kfra8p0\\localcache\\local-packages\\python38\\site-packages (from ipython>=4.0.0->ipywidgets) (0.3.0)\n",
      "Requirement already satisfied: backcall in c:\\users\\stehayes\\appdata\\local\\packages\\pythonsoftwarefoundation.python.3.8_qbz5n2kfra8p0\\localcache\\local-packages\\python38\\site-packages (from ipython>=4.0.0->ipywidgets) (0.2.0)\n",
      "Requirement already satisfied: jedi>=0.16 in c:\\users\\stehayes\\appdata\\local\\packages\\pythonsoftwarefoundation.python.3.8_qbz5n2kfra8p0\\localcache\\local-packages\\python38\\site-packages (from ipython>=4.0.0->ipywidgets) (0.18.1)\n",
      "Requirement already satisfied: colorama in c:\\users\\stehayes\\appdata\\local\\packages\\pythonsoftwarefoundation.python.3.8_qbz5n2kfra8p0\\localcache\\local-packages\\python38\\site-packages (from ipython>=4.0.0->ipywidgets) (0.4.5)\n",
      "Requirement already satisfied: decorator in c:\\users\\stehayes\\appdata\\local\\packages\\pythonsoftwarefoundation.python.3.8_qbz5n2kfra8p0\\localcache\\local-packages\\python38\\site-packages (from ipython>=4.0.0->ipywidgets) (5.1.1)\n",
      "Requirement already satisfied: pygments>=2.4.0 in c:\\users\\stehayes\\appdata\\local\\packages\\pythonsoftwarefoundation.python.3.8_qbz5n2kfra8p0\\localcache\\local-packages\\python38\\site-packages (from ipython>=4.0.0->ipywidgets) (2.12.0)\n",
      "Requirement already satisfied: pickleshare in c:\\users\\stehayes\\appdata\\local\\packages\\pythonsoftwarefoundation.python.3.8_qbz5n2kfra8p0\\localcache\\local-packages\\python38\\site-packages (from ipython>=4.0.0->ipywidgets) (0.7.5)\n",
      "Requirement already satisfied: setuptools>=18.5 in c:\\program files\\windowsapps\\pythonsoftwarefoundation.python.3.8_3.8.2800.0_x64__qbz5n2kfra8p0\\lib\\site-packages (from ipython>=4.0.0->ipywidgets) (56.0.0)\n",
      "Requirement already satisfied: prompt-toolkit!=3.0.0,!=3.0.1,<3.1.0,>=2.0.0 in c:\\users\\stehayes\\appdata\\local\\packages\\pythonsoftwarefoundation.python.3.8_qbz5n2kfra8p0\\localcache\\local-packages\\python38\\site-packages (from ipython>=4.0.0->ipywidgets) (3.0.30)\n",
      "Requirement already satisfied: notebook>=4.4.1 in c:\\users\\stehayes\\appdata\\local\\packages\\pythonsoftwarefoundation.python.3.8_qbz5n2kfra8p0\\localcache\\local-packages\\python38\\site-packages (from widgetsnbextension~=3.6.0->ipywidgets) (6.4.12)\n",
      "Requirement already satisfied: parso<0.9.0,>=0.8.0 in c:\\users\\stehayes\\appdata\\local\\packages\\pythonsoftwarefoundation.python.3.8_qbz5n2kfra8p0\\localcache\\local-packages\\python38\\site-packages (from jedi>=0.16->ipython>=4.0.0->ipywidgets) (0.8.3)\n",
      "Requirement already satisfied: python-dateutil>=2.8.2 in c:\\users\\stehayes\\appdata\\local\\packages\\pythonsoftwarefoundation.python.3.8_qbz5n2kfra8p0\\localcache\\local-packages\\python38\\site-packages (from jupyter-client>=6.1.12->ipykernel>=4.5.1->ipywidgets) (2.8.2)\n",
      "Requirement already satisfied: entrypoints in c:\\users\\stehayes\\appdata\\local\\packages\\pythonsoftwarefoundation.python.3.8_qbz5n2kfra8p0\\localcache\\local-packages\\python38\\site-packages (from jupyter-client>=6.1.12->ipykernel>=4.5.1->ipywidgets) (0.4)\n",
      "Requirement already satisfied: jupyter-core>=4.9.2 in c:\\users\\stehayes\\appdata\\local\\packages\\pythonsoftwarefoundation.python.3.8_qbz5n2kfra8p0\\localcache\\local-packages\\python38\\site-packages (from jupyter-client>=6.1.12->ipykernel>=4.5.1->ipywidgets) (4.11.1)\n",
      "Requirement already satisfied: Send2Trash>=1.8.0 in c:\\users\\stehayes\\appdata\\local\\packages\\pythonsoftwarefoundation.python.3.8_qbz5n2kfra8p0\\localcache\\local-packages\\python38\\site-packages (from notebook>=4.4.1->widgetsnbextension~=3.6.0->ipywidgets) (1.8.0)\n",
      "Requirement already satisfied: nbformat in c:\\users\\stehayes\\appdata\\local\\packages\\pythonsoftwarefoundation.python.3.8_qbz5n2kfra8p0\\localcache\\local-packages\\python38\\site-packages (from notebook>=4.4.1->widgetsnbextension~=3.6.0->ipywidgets) (5.4.0)\n",
      "Requirement already satisfied: nbconvert>=5 in c:\\users\\stehayes\\appdata\\local\\packages\\pythonsoftwarefoundation.python.3.8_qbz5n2kfra8p0\\localcache\\local-packages\\python38\\site-packages (from notebook>=4.4.1->widgetsnbextension~=3.6.0->ipywidgets) (6.5.3)\n",
      "Requirement already satisfied: terminado>=0.8.3 in c:\\users\\stehayes\\appdata\\local\\packages\\pythonsoftwarefoundation.python.3.8_qbz5n2kfra8p0\\localcache\\local-packages\\python38\\site-packages (from notebook>=4.4.1->widgetsnbextension~=3.6.0->ipywidgets) (0.15.0)\n",
      "Requirement already satisfied: prometheus-client in c:\\users\\stehayes\\appdata\\local\\packages\\pythonsoftwarefoundation.python.3.8_qbz5n2kfra8p0\\localcache\\local-packages\\python38\\site-packages (from notebook>=4.4.1->widgetsnbextension~=3.6.0->ipywidgets) (0.14.1)\n",
      "Requirement already satisfied: jinja2 in c:\\users\\stehayes\\appdata\\local\\packages\\pythonsoftwarefoundation.python.3.8_qbz5n2kfra8p0\\localcache\\local-packages\\python38\\site-packages (from notebook>=4.4.1->widgetsnbextension~=3.6.0->ipywidgets) (3.1.2)\n",
      "Requirement already satisfied: argon2-cffi in c:\\users\\stehayes\\appdata\\local\\packages\\pythonsoftwarefoundation.python.3.8_qbz5n2kfra8p0\\localcache\\local-packages\\python38\\site-packages (from notebook>=4.4.1->widgetsnbextension~=3.6.0->ipywidgets) (21.3.0)\n",
      "Requirement already satisfied: wcwidth in c:\\users\\stehayes\\appdata\\local\\packages\\pythonsoftwarefoundation.python.3.8_qbz5n2kfra8p0\\localcache\\local-packages\\python38\\site-packages (from prompt-toolkit!=3.0.0,!=3.0.1,<3.1.0,>=2.0.0->ipython>=4.0.0->ipywidgets) (0.2.5)\n",
      "Requirement already satisfied: pyparsing!=3.0.5,>=2.0.2 in c:\\users\\stehayes\\appdata\\local\\packages\\pythonsoftwarefoundation.python.3.8_qbz5n2kfra8p0\\localcache\\local-packages\\python38\\site-packages (from packaging->ipykernel>=4.5.1->ipywidgets) (3.0.9)\n",
      "Requirement already satisfied: executing in c:\\users\\stehayes\\appdata\\local\\packages\\pythonsoftwarefoundation.python.3.8_qbz5n2kfra8p0\\localcache\\local-packages\\python38\\site-packages (from stack-data->ipython>=4.0.0->ipywidgets) (0.9.1)\n",
      "Requirement already satisfied: pure-eval in c:\\users\\stehayes\\appdata\\local\\packages\\pythonsoftwarefoundation.python.3.8_qbz5n2kfra8p0\\localcache\\local-packages\\python38\\site-packages (from stack-data->ipython>=4.0.0->ipywidgets) (0.2.2)\n",
      "Requirement already satisfied: asttokens in c:\\users\\stehayes\\appdata\\local\\packages\\pythonsoftwarefoundation.python.3.8_qbz5n2kfra8p0\\localcache\\local-packages\\python38\\site-packages (from stack-data->ipython>=4.0.0->ipywidgets) (2.0.7)\n",
      "Requirement already satisfied: pywin32>=1.0 in c:\\users\\stehayes\\appdata\\local\\packages\\pythonsoftwarefoundation.python.3.8_qbz5n2kfra8p0\\localcache\\local-packages\\python38\\site-packages (from jupyter-core>=4.9.2->jupyter-client>=6.1.12->ipykernel>=4.5.1->ipywidgets) (304)\n",
      "Requirement already satisfied: MarkupSafe>=2.0 in c:\\users\\stehayes\\appdata\\local\\packages\\pythonsoftwarefoundation.python.3.8_qbz5n2kfra8p0\\localcache\\local-packages\\python38\\site-packages (from nbconvert>=5->notebook>=4.4.1->widgetsnbextension~=3.6.0->ipywidgets) (2.1.1)\n",
      "Requirement already satisfied: pandocfilters>=1.4.1 in c:\\users\\stehayes\\appdata\\local\\packages\\pythonsoftwarefoundation.python.3.8_qbz5n2kfra8p0\\localcache\\local-packages\\python38\\site-packages (from nbconvert>=5->notebook>=4.4.1->widgetsnbextension~=3.6.0->ipywidgets) (1.5.0)\n",
      "Requirement already satisfied: defusedxml in c:\\users\\stehayes\\appdata\\local\\packages\\pythonsoftwarefoundation.python.3.8_qbz5n2kfra8p0\\localcache\\local-packages\\python38\\site-packages (from nbconvert>=5->notebook>=4.4.1->widgetsnbextension~=3.6.0->ipywidgets) (0.7.1)\n",
      "Requirement already satisfied: mistune<2,>=0.8.1 in c:\\users\\stehayes\\appdata\\local\\packages\\pythonsoftwarefoundation.python.3.8_qbz5n2kfra8p0\\localcache\\local-packages\\python38\\site-packages (from nbconvert>=5->notebook>=4.4.1->widgetsnbextension~=3.6.0->ipywidgets) (0.8.4)\n",
      "Requirement already satisfied: nbclient>=0.5.0 in c:\\users\\stehayes\\appdata\\local\\packages\\pythonsoftwarefoundation.python.3.8_qbz5n2kfra8p0\\localcache\\local-packages\\python38\\site-packages (from nbconvert>=5->notebook>=4.4.1->widgetsnbextension~=3.6.0->ipywidgets) (0.6.6)\n",
      "Requirement already satisfied: tinycss2 in c:\\users\\stehayes\\appdata\\local\\packages\\pythonsoftwarefoundation.python.3.8_qbz5n2kfra8p0\\localcache\\local-packages\\python38\\site-packages (from nbconvert>=5->notebook>=4.4.1->widgetsnbextension~=3.6.0->ipywidgets) (1.1.1)\n",
      "Requirement already satisfied: jupyterlab-pygments in c:\\users\\stehayes\\appdata\\local\\packages\\pythonsoftwarefoundation.python.3.8_qbz5n2kfra8p0\\localcache\\local-packages\\python38\\site-packages (from nbconvert>=5->notebook>=4.4.1->widgetsnbextension~=3.6.0->ipywidgets) (0.2.2)\n",
      "Requirement already satisfied: lxml in c:\\users\\stehayes\\appdata\\local\\packages\\pythonsoftwarefoundation.python.3.8_qbz5n2kfra8p0\\localcache\\local-packages\\python38\\site-packages (from nbconvert>=5->notebook>=4.4.1->widgetsnbextension~=3.6.0->ipywidgets) (4.9.1)\n",
      "Requirement already satisfied: bleach in c:\\users\\stehayes\\appdata\\local\\packages\\pythonsoftwarefoundation.python.3.8_qbz5n2kfra8p0\\localcache\\local-packages\\python38\\site-packages (from nbconvert>=5->notebook>=4.4.1->widgetsnbextension~=3.6.0->ipywidgets) (5.0.1)\n",
      "Requirement already satisfied: beautifulsoup4 in c:\\users\\stehayes\\appdata\\local\\packages\\pythonsoftwarefoundation.python.3.8_qbz5n2kfra8p0\\localcache\\local-packages\\python38\\site-packages (from nbconvert>=5->notebook>=4.4.1->widgetsnbextension~=3.6.0->ipywidgets) (4.11.1)\n",
      "Requirement already satisfied: fastjsonschema in c:\\users\\stehayes\\appdata\\local\\packages\\pythonsoftwarefoundation.python.3.8_qbz5n2kfra8p0\\localcache\\local-packages\\python38\\site-packages (from nbformat->notebook>=4.4.1->widgetsnbextension~=3.6.0->ipywidgets) (2.16.1)\n",
      "Requirement already satisfied: jsonschema>=2.6 in c:\\users\\stehayes\\appdata\\local\\packages\\pythonsoftwarefoundation.python.3.8_qbz5n2kfra8p0\\localcache\\local-packages\\python38\\site-packages (from nbformat->notebook>=4.4.1->widgetsnbextension~=3.6.0->ipywidgets) (4.9.1)\n",
      "Requirement already satisfied: six>=1.5 in c:\\users\\stehayes\\appdata\\local\\packages\\pythonsoftwarefoundation.python.3.8_qbz5n2kfra8p0\\localcache\\local-packages\\python38\\site-packages (from python-dateutil>=2.8.2->jupyter-client>=6.1.12->ipykernel>=4.5.1->ipywidgets) (1.16.0)\n",
      "Requirement already satisfied: pywinpty>=1.1.0 in c:\\users\\stehayes\\appdata\\local\\packages\\pythonsoftwarefoundation.python.3.8_qbz5n2kfra8p0\\localcache\\local-packages\\python38\\site-packages (from terminado>=0.8.3->notebook>=4.4.1->widgetsnbextension~=3.6.0->ipywidgets) (2.0.7)\n",
      "Requirement already satisfied: argon2-cffi-bindings in c:\\users\\stehayes\\appdata\\local\\packages\\pythonsoftwarefoundation.python.3.8_qbz5n2kfra8p0\\localcache\\local-packages\\python38\\site-packages (from argon2-cffi->notebook>=4.4.1->widgetsnbextension~=3.6.0->ipywidgets) (21.2.0)\n",
      "Requirement already satisfied: importlib-resources>=1.4.0 in c:\\users\\stehayes\\appdata\\local\\packages\\pythonsoftwarefoundation.python.3.8_qbz5n2kfra8p0\\localcache\\local-packages\\python38\\site-packages (from jsonschema>=2.6->nbformat->notebook>=4.4.1->widgetsnbextension~=3.6.0->ipywidgets) (5.9.0)\n",
      "Requirement already satisfied: pkgutil-resolve-name>=1.3.10 in c:\\users\\stehayes\\appdata\\local\\packages\\pythonsoftwarefoundation.python.3.8_qbz5n2kfra8p0\\localcache\\local-packages\\python38\\site-packages (from jsonschema>=2.6->nbformat->notebook>=4.4.1->widgetsnbextension~=3.6.0->ipywidgets) (1.3.10)\n",
      "Requirement already satisfied: pyrsistent!=0.17.0,!=0.17.1,!=0.17.2,>=0.14.0 in c:\\users\\stehayes\\appdata\\local\\packages\\pythonsoftwarefoundation.python.3.8_qbz5n2kfra8p0\\localcache\\local-packages\\python38\\site-packages (from jsonschema>=2.6->nbformat->notebook>=4.4.1->widgetsnbextension~=3.6.0->ipywidgets) (0.18.1)\n",
      "Requirement already satisfied: attrs>=17.4.0 in c:\\users\\stehayes\\appdata\\local\\packages\\pythonsoftwarefoundation.python.3.8_qbz5n2kfra8p0\\localcache\\local-packages\\python38\\site-packages (from jsonschema>=2.6->nbformat->notebook>=4.4.1->widgetsnbextension~=3.6.0->ipywidgets) (22.1.0)\n",
      "Requirement already satisfied: cffi>=1.0.1 in c:\\users\\stehayes\\appdata\\local\\packages\\pythonsoftwarefoundation.python.3.8_qbz5n2kfra8p0\\localcache\\local-packages\\python38\\site-packages (from argon2-cffi-bindings->argon2-cffi->notebook>=4.4.1->widgetsnbextension~=3.6.0->ipywidgets) (1.15.1)\n",
      "Requirement already satisfied: soupsieve>1.2 in c:\\users\\stehayes\\appdata\\local\\packages\\pythonsoftwarefoundation.python.3.8_qbz5n2kfra8p0\\localcache\\local-packages\\python38\\site-packages (from beautifulsoup4->nbconvert>=5->notebook>=4.4.1->widgetsnbextension~=3.6.0->ipywidgets) (2.3.2.post1)\n",
      "Requirement already satisfied: webencodings in c:\\users\\stehayes\\appdata\\local\\packages\\pythonsoftwarefoundation.python.3.8_qbz5n2kfra8p0\\localcache\\local-packages\\python38\\site-packages (from bleach->nbconvert>=5->notebook>=4.4.1->widgetsnbextension~=3.6.0->ipywidgets) (0.5.1)\n",
      "Requirement already satisfied: pycparser in c:\\users\\stehayes\\appdata\\local\\packages\\pythonsoftwarefoundation.python.3.8_qbz5n2kfra8p0\\localcache\\local-packages\\python38\\site-packages (from cffi>=1.0.1->argon2-cffi-bindings->argon2-cffi->notebook>=4.4.1->widgetsnbextension~=3.6.0->ipywidgets) (2.21)\n",
      "Requirement already satisfied: zipp>=3.1.0 in c:\\users\\stehayes\\appdata\\local\\packages\\pythonsoftwarefoundation.python.3.8_qbz5n2kfra8p0\\localcache\\local-packages\\python38\\site-packages (from importlib-resources>=1.4.0->jsonschema>=2.6->nbformat->notebook>=4.4.1->widgetsnbextension~=3.6.0->ipywidgets) (3.8.1)\n",
      "Note: you may need to restart the kernel to use updated packages.\n",
      "Requirement already satisfied: seaborn in c:\\users\\stehayes\\appdata\\local\\packages\\pythonsoftwarefoundation.python.3.8_qbz5n2kfra8p0\\localcache\\local-packages\\python38\\site-packages (0.12.0)\n",
      "Requirement already satisfied: matplotlib>=3.1 in c:\\users\\stehayes\\appdata\\local\\packages\\pythonsoftwarefoundation.python.3.8_qbz5n2kfra8p0\\localcache\\local-packages\\python38\\site-packages (from seaborn) (3.5.3)\n",
      "Requirement already satisfied: numpy>=1.17 in c:\\users\\stehayes\\appdata\\local\\packages\\pythonsoftwarefoundation.python.3.8_qbz5n2kfra8p0\\localcache\\local-packages\\python38\\site-packages (from seaborn) (1.23.1)\n",
      "Requirement already satisfied: pandas>=0.25 in c:\\users\\stehayes\\appdata\\local\\packages\\pythonsoftwarefoundation.python.3.8_qbz5n2kfra8p0\\localcache\\local-packages\\python38\\site-packages (from seaborn) (1.5.0)\n",
      "Requirement already satisfied: pyparsing>=2.2.1 in c:\\users\\stehayes\\appdata\\local\\packages\\pythonsoftwarefoundation.python.3.8_qbz5n2kfra8p0\\localcache\\local-packages\\python38\\site-packages (from matplotlib>=3.1->seaborn) (3.0.9)\n",
      "Requirement already satisfied: cycler>=0.10 in c:\\users\\stehayes\\appdata\\local\\packages\\pythonsoftwarefoundation.python.3.8_qbz5n2kfra8p0\\localcache\\local-packages\\python38\\site-packages (from matplotlib>=3.1->seaborn) (0.11.0)\n",
      "Requirement already satisfied: pillow>=6.2.0 in c:\\users\\stehayes\\appdata\\local\\packages\\pythonsoftwarefoundation.python.3.8_qbz5n2kfra8p0\\localcache\\local-packages\\python38\\site-packages (from matplotlib>=3.1->seaborn) (9.2.0)\n",
      "Requirement already satisfied: packaging>=20.0 in c:\\users\\stehayes\\appdata\\local\\packages\\pythonsoftwarefoundation.python.3.8_qbz5n2kfra8p0\\localcache\\local-packages\\python38\\site-packages (from matplotlib>=3.1->seaborn) (21.3)\n",
      "Requirement already satisfied: fonttools>=4.22.0 in c:\\users\\stehayes\\appdata\\local\\packages\\pythonsoftwarefoundation.python.3.8_qbz5n2kfra8p0\\localcache\\local-packages\\python38\\site-packages (from matplotlib>=3.1->seaborn) (4.34.4)\n",
      "Requirement already satisfied: kiwisolver>=1.0.1 in c:\\users\\stehayes\\appdata\\local\\packages\\pythonsoftwarefoundation.python.3.8_qbz5n2kfra8p0\\localcache\\local-packages\\python38\\site-packages (from matplotlib>=3.1->seaborn) (1.4.4)\n",
      "Requirement already satisfied: python-dateutil>=2.7 in c:\\users\\stehayes\\appdata\\local\\packages\\pythonsoftwarefoundation.python.3.8_qbz5n2kfra8p0\\localcache\\local-packages\\python38\\site-packages (from matplotlib>=3.1->seaborn) (2.8.2)\n",
      "Requirement already satisfied: pytz>=2020.1 in c:\\users\\stehayes\\appdata\\local\\packages\\pythonsoftwarefoundation.python.3.8_qbz5n2kfra8p0\\localcache\\local-packages\\python38\\site-packages (from pandas>=0.25->seaborn) (2022.4)\n",
      "Requirement already satisfied: six>=1.5 in c:\\users\\stehayes\\appdata\\local\\packages\\pythonsoftwarefoundation.python.3.8_qbz5n2kfra8p0\\localcache\\local-packages\\python38\\site-packages (from python-dateutil>=2.7->matplotlib>=3.1->seaborn) (1.16.0)\n",
      "Note: you may need to restart the kernel to use updated packages.\n"
     ]
    }
   ],
   "source": [
    "%pip install matplotlib\n",
    "%pip install statsmodels\n",
    "%pip install ipywidgets\n",
    "%pip install seaborn"
   ]
  },
  {
   "cell_type": "code",
   "execution_count": 5,
   "metadata": {},
   "outputs": [
    {
     "name": "stdout",
     "output_type": "stream",
     "text": [
      "Requirement already satisfied: p in c:\\users\\stehayes\\appdata\\local\\packages\\pythonsoftwarefoundation.python.3.8_qbz5n2kfra8p0\\localcache\\local-packages\\python38\\site-packages (1.4.0)\n",
      "Requirement already satisfied: click-didyoumean<0.4.0,>=0.3.0 in c:\\users\\stehayes\\appdata\\local\\packages\\pythonsoftwarefoundation.python.3.8_qbz5n2kfra8p0\\localcache\\local-packages\\python38\\site-packages (from p) (0.3.0)\n",
      "Requirement already satisfied: click<8.0.0,>=7.1.2 in c:\\users\\stehayes\\appdata\\local\\packages\\pythonsoftwarefoundation.python.3.8_qbz5n2kfra8p0\\localcache\\local-packages\\python38\\site-packages (from p) (7.1.2)\n",
      "Note: you may need to restart the kernel to use updated packages.\n"
     ]
    }
   ],
   "source": [
    "for p in instPks:\n",
    "    %pip install p\n",
    "\n"
   ]
  },
  {
   "cell_type": "code",
   "execution_count": 6,
   "metadata": {},
   "outputs": [],
   "source": [
    "import collections\n",
    "from IPython.core.display import HTML\n",
    "from IPython.display import display\n",
    "import matplotlib.pyplot as plt\n",
    "import matplotlib\n",
    "import scipy.stats as stats\n",
    "from statsmodels.graphics.mosaicplot import mosaic\n",
    "import statsmodels.api as sm\n",
    "from statsmodels.formula.api import ols\n",
    "import pandas as pd\n",
    "import numpy as np\n",
    "import scipy\n",
    "import matplotlib.pyplot as plt\n",
    "import scipy.stats as stats\n",
    "from functools import partial\n",
    "import IPython\n",
    "import ipywidgets\n",
    "from ipywidgets import widgets\n",
    "from ipywidgets import interact, interactive,fixed\n",
    "import operator\n",
    "from IPython.display import Javascript, display,HTML\n",
    "from ipywidgets import widgets, VBox\n",
    "import seaborn as sns\n",
    "from collections import OrderedDict\n",
    "import warnings\n",
    "import getpass\n",
    "import sys\n",
    "warnings.filterwarnings('ignore')\n",
    "\n",
    "class ConfUtility():   \n",
    "    @staticmethod\n",
    "    def parse_yaml(input_file):\n",
    "        import yaml\n",
    "        yaml_dict = {}\n",
    "        with open (input_file,'r') as fin:\n",
    "            try:\n",
    "                yaml_dict = yaml.load(fin)\n",
    "            except Exception as ex:\n",
    "                print (ex)\n",
    "        return yaml_dict\n",
    "\n",
    "    @staticmethod\n",
    "    def dict_to_htmllist(dc, include_list=None):\n",
    "        dc2 = {}\n",
    "        output_formatting = {'Target':'Target variable is ','CategoricalColumns':'Categorical Columns are ',\n",
    "                           'NumericalColumns':'Numerical Columns are '}\n",
    "        for each in dc.keys():\n",
    "            if not include_list or each in include_list:\n",
    "                if isinstance(dc[each],  collections.Iterable) and not isinstance(dc[each], str):\n",
    "                    dc2[each] = ', \\n'.join(val for val in dc[each])\n",
    "                else:\n",
    "                    dc2[each] = dc[each]\n",
    "        html_list = \"<ul>{}</ul>\"\n",
    "        html_list_entry = \"<li>{}</li>\"\n",
    "        output3 = ''\n",
    "\n",
    "        for each in set(include_list)|set(dc2.keys()):\n",
    "            output3 += html_list_entry.format(output_formatting[each]+dc2[each])\n",
    "        html_list = html_list.format(output3)\n",
    "        return HTML(html_list)\n",
    "    \n",
    "class InteractionAnalytics():\n",
    "    @staticmethod\n",
    "    def rank_associations(df, conf_dict, col1, col2, col3):        \n",
    "        try:\n",
    "            col2 = int(col2)\n",
    "            col3 = int(col3)\n",
    "        except:\n",
    "            pass\n",
    "        \n",
    "        # Passed Variable is Numerical\n",
    "        if (col1 in NumericalColumns):\n",
    "            fig,(ax1,ax2) = plt.subplots(1, 2)\n",
    "            if len(NumericalColumns)>1:\n",
    "                \n",
    "                # Interaction with numerical variables\n",
    "                df2 = df[NumericalColumns]\n",
    "                corrdf = df2.corr()\n",
    "                corrdf = abs(corrdf) \n",
    "                corrdf2 = corrdf[corrdf.index==col1].reset_index()[[each for each in corrdf.columns \\\n",
    "                                                      if col1 not in each]].unstack().sort_values(kind=\"quicksort\", \n",
    "                                                                                                  ascending=False).head(col2)\n",
    "                corrdf2 = corrdf2.reset_index()\n",
    "                corrdf2.columns = ['level0','level1','rsq']\n",
    "                corrdf2.set_index('level0', inplace=True)\n",
    "                corrdf2[['rsq']].plot(kind='bar', ax=ax1)\n",
    "                ax1.legend().set_visible(False)\n",
    "                ax1.set_xlabel('Absolute Correlation')\n",
    "                ax1.set_title('Top {} Associated Numeric Variables'.format(str(col2)))\n",
    "                # Interaction with categorical variables\n",
    "                etasquared_dict = {}\n",
    "            if len(CategoricalColumns) >= 1:\n",
    "                for each in CategoricalColumns:\n",
    "                    mod = ols('{} ~ C({})'.format(col1, each),data=df[[col1,each]],missing='drop').fit()\n",
    "                    aov_table = sm.stats.anova_lm(mod, typ=1)\n",
    "                    esq_sm = aov_table['sum_sq'][0]/(aov_table['sum_sq'][0]+aov_table['sum_sq'][1])\n",
    "                    etasquared_dict[each] = esq_sm\n",
    "\n",
    "                topk_esq = pd.DataFrame.from_dict(etasquared_dict, orient='index').unstack().sort_values(\\\n",
    "                    kind = 'quicksort', ascending=False).head(col3).reset_index().set_index('level_1')\n",
    "                topk_esq.columns = ['level_0', 'EtaSquared']\n",
    "                topk_esq[['EtaSquared']].plot(kind='bar',ax=ax2)\n",
    "                ax2.legend().set_visible(False)\n",
    "                ax2.set_xlabel('Eta-squared values')\n",
    "                ax2.set_title('Top {}  Associated Categoric Variables'.format(str(col2)))\n",
    "        # Passed Variable is Categorical\n",
    "        else:\n",
    "            #Interaction with numerical variables\n",
    "            fig,(ax1,ax2) = plt.subplots(1,2)\n",
    "            if len(NumericalColumns) >= 1:\n",
    "                etasquared_dict = {}\n",
    "                for each in NumericalColumns:\n",
    "                    mod = ols('{} ~ C({})'.format(each, col1), data = df[[col1,each]]).fit()\n",
    "                    aov_table = sm.stats.anova_lm(mod, typ=1)\n",
    "                    esq_sm = aov_table['sum_sq'][0]/(aov_table['sum_sq'][0]+aov_table['sum_sq'][1])\n",
    "                    etasquared_dict[each] = esq_sm\n",
    "\n",
    "                topk_esq = pd.DataFrame.from_dict(etasquared_dict, orient='index').unstack().sort_values(\\\n",
    "                    kind = 'quicksort', ascending=False).head(col2).reset_index().set_index('level_1')\n",
    "                topk_esq.columns = ['level_0','EtaSquared']\n",
    "                topk_esq[['EtaSquared']].plot(kind='bar',ax=ax1)\n",
    "                ax1.legend().set_visible(False)\n",
    "                ax1.set_xlabel('Eta-squared values')\n",
    "                ax1.set_title('Top {} Associated Numeric Variables'.format(str(col2)))\n",
    "\n",
    "            # Interaction with categorical variables\n",
    "            cramer_dict = {}\n",
    "            if len(CategoricalColumns)>1:\n",
    "                for each in CategoricalColumns:\n",
    "                    if each !=col1:\n",
    "                        tbl = pd.crosstab(df[col1], df[each])\n",
    "                        chisq = stats.chi2_contingency(tbl, correction=False)[0]\n",
    "                        try:\n",
    "                            cramer = np.sqrt(chisq/sum(tbl))\n",
    "                        except:\n",
    "                            cramer = np.sqrt(chisq/tbl.as_matrix().sum())\n",
    "                            pass\n",
    "                        cramer_dict[each] = cramer\n",
    "\n",
    "                topk_cramer = pd.DataFrame.from_dict(cramer_dict, orient='index').unstack().sort_values(\\\n",
    "                    kind = 'quicksort', ascending=False).head(col3).reset_index().set_index('level_1')\n",
    "                topk_cramer.columns = ['level_0','CramersV']\n",
    "                topk_cramer[['CramersV']].plot(kind='bar',ax=ax2)\n",
    "                ax2.legend().set_visible(False)\n",
    "                ax2.set_xlabel(\"Cramer's V\")\n",
    "                ax2.set_title('Top {} Associated Categoric Variables'.format(str(col2)))\n",
    "        \n",
    "    @staticmethod\n",
    "    def NoLabels(x):\n",
    "        return ''\n",
    "    \n",
    "    @staticmethod\n",
    "    def categorical_relations(df, col1, col2):\n",
    "        if col1 != col2:\n",
    "            df2 = df[(df[col1].isin(df[col1].value_counts().head(10).index.tolist()))&(df[col2].isin(df[col2].value_counts().head(10).index.tolist())) ]\n",
    "            df3 = pd.crosstab(df2[col1], df2[col2])\n",
    "            df3 = df3+1e-8\n",
    "        else:\n",
    "            df3 = pd.DataFrame(df[col1].value_counts())[:10]\n",
    "        fig,ax = plt.subplots()\n",
    "        fig,rects = mosaic(df3.unstack(),ax=ax, statistic=False, labelizer=InteractionAnalytics.NoLabels, label_rotation=30)\n",
    "        ax.set_ylabel(col1)\n",
    "        ax.set_xlabel(col2)\n",
    "        ax.set_title('{} vs {}'.format(col1, col2) )\n",
    "    \n",
    "    @staticmethod\n",
    "    def numerical_relations(df, col1, col2):\n",
    "        from statsmodels.nonparametric.smoothers_lowess import lowess\n",
    "        x = df[col2]\n",
    "        y = df[col1]\n",
    "        f, ax = plt.subplots(1)\n",
    "\n",
    "        # lowess\n",
    "        ax.scatter(x, y, c='g', s=6)\n",
    "        lowess_results = lowess(y, x)#[:,1]\n",
    "        xs = lowess_results[:, 0]\n",
    "        ys = lowess_results[:, 1]\n",
    "        ax.plot(xs,ys,'red',linewidth=1)\n",
    "\n",
    "        #ols\n",
    "        fit = np.polyfit(x, y, 1)\n",
    "        fit1d = np.poly1d(fit)\n",
    "        ax.plot(x, fit1d(x), '--b')\n",
    "        ax.set_xlabel(col2)\n",
    "        ax.set_ylabel(col1)\n",
    "        corr = round(scipy.stats.pearsonr(x, y)[0], 6)\n",
    "        ax.set_title('{} vs {}, Correlation {}'.format(col1, col2, corr))\n",
    "    \n",
    "    @staticmethod\n",
    "    def numerical_correlation(df, conf_dict, col1):\n",
    "        from matplotlib.pyplot import quiver, colorbar, clim,  matshow\n",
    "        df2 = df[NumericalColumns].corr(method=col1)\n",
    "        col_names = list(df[NumericalColumns].columns)\n",
    "        fig,ax = plt.subplots(1, 1)\n",
    "        m = ax.matshow(df2, cmap=matplotlib.pyplot.cm.coolwarm)\n",
    "        ax.grid(b=False)\n",
    "        fig.colorbar(m)\n",
    "        ax.set_xticklabels([' '] + col_names) \n",
    "        ax.set_yticklabels([' '] + col_names)\n",
    "\n",
    "    @staticmethod\n",
    "    def numerical_pca(df, conf_dict, col1, col2, col3):\n",
    "        from sklearn.decomposition import PCA\n",
    "        from sklearn.preprocessing import StandardScaler\n",
    "        num_numeric = len(NumericalColumns)\n",
    "        num_pca = num_numeric\n",
    "        xticklabels = ['']\n",
    "        for i in range(1,num_pca+1):\n",
    "            xticklabels+=['Comp'+str(i)]\n",
    "            xticklabels+=['']\n",
    "        df2 = df[NumericalColumns]\n",
    "        X = StandardScaler().fit_transform(df2.values)\n",
    "        pca = PCA(n_components=num_pca)\n",
    "        pca.fit(X)\n",
    "        fig, (ax1,ax2) = plt.subplots(1, 2)\n",
    "        ax1.bar(np.arange(1,(num_numeric+1),1),pca.explained_variance_ratio_ )\n",
    "        ax1.set_ylabel('% Variance Explained')\n",
    "        ax1.set_xticklabels(xticklabels)\n",
    "        x_pca_index = int(col2) - 1\n",
    "        y_pca_index = int(col3) - 1\n",
    "        Y_pca = pd.DataFrame(pca.fit_transform(X))\n",
    "        Y_pca_labels = []\n",
    "        for i in range(1,num_pca+1):\n",
    "            Y_pca_labels.append('PC'+str(i))\n",
    "        Y_pca.columns = Y_pca_labels       \n",
    "        Y_pca[col1] = df[col1]\n",
    "        colors_dict = {}\n",
    "        colors_list = ['r', 'y', 'c', 'y', 'k']\n",
    "        j = 0\n",
    "        for i in np.unique(df[col1]):\n",
    "            colors_dict[i] = colors_list[j]\n",
    "            j += 1\n",
    "            if j == len(colors_list):\n",
    "                j = 0\n",
    "        colordf = pd.DataFrame.from_dict(colors_dict, orient='index').reset_index()\n",
    "        colordf.columns = [col1, 'color']\n",
    "        merged_df = pd.merge(colordf,Y_pca)\n",
    "        grouped_df = merged_df.groupby(col1)\n",
    "        for name, group in grouped_df:\n",
    "            ax2.scatter(\n",
    "               group[Y_pca.columns[x_pca_index]], group[Y_pca.columns[y_pca_index]],label=name,  \n",
    "               c=group['color'],                            \n",
    "               marker='o',                                \n",
    "               s=6)                                       \n",
    "        ax2.set_xlabel(Y_pca.columns[x_pca_index])\n",
    "        ax2.set_ylabel(Y_pca.columns[y_pca_index])\n",
    "        ax2.legend(title=col1, fontsize=14)\n",
    "                \n",
    "    @staticmethod\n",
    "    def nc_relation(df, conf_dict, col1, col2, col3=None):\n",
    "        fig,ax = plt.subplots()\n",
    "        f = df[[col1,col2]].boxplot(by=col2, ax=ax)\n",
    "        mod = ols('{} ~ {}'.format(col1, col2), data=df[[col1, col2]]).fit()\n",
    "        aov_table = sm.stats.anova_lm(mod, typ=1)\n",
    "        p_val = round(aov_table['PR(>F)'][0], 6)\n",
    "        status = 'Passed'\n",
    "        color = 'blue'\n",
    "        if p_val < 0.05:\n",
    "            status = 'Rejected'\n",
    "            color = 'red'\n",
    "        fig.suptitle('ho {} (p_value = {})'.format( status, p_val), color=color, fontsize=10)\n",
    "    \n",
    "    @staticmethod\n",
    "    def pca_3d(df, conf_dict, col1, col2,  col3=None):\n",
    "        from sklearn.decomposition import PCA\n",
    "        from sklearn.preprocessing import StandardScaler\n",
    "        from mpl_toolkits.mplot3d import Axes3D\n",
    "        df2 = df[NumericalColumns]\n",
    "        X = StandardScaler().fit_transform(df2.values)\n",
    "        pca = PCA(n_components=4)\n",
    "        pca.fit(X)\n",
    "        fig = plt.figure()\n",
    "        ax = fig.gca(projection='3d')\n",
    "        ax.view_init(elev=10, azim=int(col2))              \n",
    "        Y_pca = pd.DataFrame(pca.fit_transform(X))\n",
    "        Y_pca.columns = ['PC1','PC2','PC3','PC4']\n",
    "        Y_pca[col1] = df[col1]\n",
    "        colors_dict = {}\n",
    "        colors_list = ['r', 'y', 'c', 'y', 'k']\n",
    "        j = 0\n",
    "        for i in np.unique(df[col1]):\n",
    "            colors_dict[i] = colors_list[j]\n",
    "            j += 1\n",
    "            if j == len(colors_list):\n",
    "                j = 0\n",
    "        colordf = pd.DataFrame.from_dict(colors_dict, orient='index').reset_index()\n",
    "        colordf.columns = [col1,'color']\n",
    "        merged_df = pd.merge(colordf,Y_pca)\n",
    "        grouped_df = merged_df.groupby(col1)\n",
    "        for name, group in grouped_df:\n",
    "            ax.scatter(\n",
    "               group['PC1'], group['PC2'], group['PC3'], label=name,  \n",
    "               c = group['color'],                            \n",
    "               marker = 'o',                                \n",
    "               s=6)                                      \n",
    "        ax.set_xlabel('PC1', labelpad=18)\n",
    "        ax.set_ylabel('PC2', labelpad=18)\n",
    "        ax.set_zlabel('PC3', labelpad=18)\n",
    "        ax.legend(title=col1, fontsize=10)\n",
    "\n",
    "    @staticmethod\n",
    "    def pca_3d_new(df, conf_dict, col1, col2, col3, col4, col5):\n",
    "        from sklearn.decomposition import PCA\n",
    "        from sklearn.preprocessing import StandardScaler\n",
    "        from mpl_toolkits.mplot3d import Axes3D\n",
    "        df2 = df[NumericalColumns]\n",
    "        X = StandardScaler().fit_transform(df2.values)\n",
    "        num_numeric = len(NumericalColumns)\n",
    "        pca = PCA(n_components=num_numeric)\n",
    "        pca.fit(X)\n",
    "        fig = plt.figure()\n",
    "        ax = fig.gca(projection='3d')\n",
    "        ax.view_init(elev=10, azim=int(col5))                 \n",
    "        Y_pca = pd.DataFrame(pca.fit_transform(X))\n",
    "        Y_pca_names = []\n",
    "        for i in range(1, num_numeric+1):\n",
    "            Y_pca_names.append('PC'+str(i))\n",
    "        Y_pca.columns = Y_pca_names\n",
    "        Y_pca[col1] = df[col1]\n",
    "        colors_dict = {}\n",
    "        colors_list = ['r', 'y', 'c', 'y', 'k']\n",
    "        j = 0\n",
    "        for i in np.unique(df[col1]):\n",
    "            colors_dict[i] = colors_list[j]\n",
    "            j += 1\n",
    "            if j == len(colors_list):\n",
    "                j = 0\n",
    "        colordf = pd.DataFrame.from_dict(colors_dict, orient='index').reset_index()\n",
    "        colordf.columns = [col1,'color']\n",
    "        merged_df = pd.merge(colordf,Y_pca)\n",
    "        grouped_df = merged_df.groupby(col1)\n",
    "        for name, group in grouped_df:\n",
    "            ax.scatter(\n",
    "               group[Y_pca_names[int(col2)-1]], group[Y_pca_names[int(col3)-1]], group[Y_pca_names[int(col4)-1]], label=name,  \n",
    "               c = group['color'],                            \n",
    "               marker = 'o',                                \n",
    "               s=6)\n",
    "        ax.set_xlabel(Y_pca_names[int(col2)-1], labelpad=18)\n",
    "        ax.set_ylabel(Y_pca_names[int(col3)-1], labelpad=18)\n",
    "        ax.set_zlabel(Y_pca_names[int(col4)-1], labelpad=18)\n",
    "        ax.legend(title=col1, fontsize=10)\n",
    "        \n",
    "    @staticmethod\n",
    "    def nnc_relation(df, conf_dict, col1, col2, col3):\n",
    "        import itertools\n",
    "        markers = ['x', 'o', '^']\n",
    "        color = itertools.cycle(['r', 'y', 'c', 'y', 'k']) \n",
    "        groups = df[[col1, col2, col3]].groupby(col3)\n",
    "\n",
    "        # Plot\n",
    "        fig, ax = plt.subplots()\n",
    "        ax.margins(0.05) \n",
    "\n",
    "        for (name, group), marker in zip(groups, itertools.cycle(markers)):\n",
    "            ax.plot(group[col1], group[col2], marker='o', linestyle='', ms=4, label=name)\n",
    "        ax.set_xlabel(col1)\n",
    "        ax.set_ylabel(col2)\n",
    "        ax.legend(numpoints=1, loc='best', title=col3)\n",
    "        \n",
    "class TargetAnalytics():\n",
    "    ReportedVariables = []\n",
    "    @staticmethod\n",
    "    def custom_barplot(df, col1=''):\n",
    "        f, (ax0,ax1) = plt.subplots(1, 2)\n",
    "        df[col1].value_counts().plot(ax=ax0, kind='bar')\n",
    "        ax0.set_title('Bar Plot of {}'.format(col1))\n",
    "        df[col1].value_counts().plot(ax=ax1, kind='pie')\n",
    "        ax1.set_title('Pie Chart of {}'.format(col1))\n",
    "\n",
    "class NumericAnalytics():\n",
    "    @staticmethod\n",
    "    def shapiro_test(x):\n",
    "        p_val = round(stats.shapiro(x)[1],6)\n",
    "        status = 'passed'\n",
    "        color = 'blue'\n",
    "        if p_val < 0.05:\n",
    "            status = 'failed'\n",
    "            color = 'red'\n",
    "        return status, color, p_val\n",
    "\n",
    "    @staticmethod\n",
    "    def custom_barplot(df, col1=''):\n",
    "        fig, axes = plt.subplots(2,2)\n",
    "        axes = axes.reshape(-1)\n",
    "        df[col1].plot(ax=axes[0], kind='hist')\n",
    "        axes[0].set_title('Histogram of {}'.format(col1))\n",
    "        df[col1].plot(ax=axes[1], kind='kde')\n",
    "        axes[1].set_title('Density Plot of {}'.format(col1))\n",
    "        ax3 = plt.subplot(223)\n",
    "        stats.probplot(df[col1], plot=plt)\n",
    "        axes[2].set_title('QQ Plot of {}'.format(col1))\n",
    "        df[col1].plot(ax=axes[3], kind='box')\n",
    "        axes[3].set_title('Box Plot of {}'.format(col1))\n",
    "        status, color, p_val = NumericAnalytics.shapiro_test(df[col1])\n",
    "        fig.suptitle('Normality test for {} {} (p_value = {})'.format(col1, status, round(p_val, 6)), color=color, fontsize=12)\n",
    "    \n",
    "class CategoricAnalytics():\n",
    "    @staticmethod\n",
    "    def custom_barplot(df, col1=''):\n",
    "        f, (ax0,ax1) = plt.subplots(1,2)\n",
    "        df[col1].value_counts().nlargest(10).plot(ax=ax0, kind='bar')\n",
    "        ax0.set_xlabel(col1)\n",
    "        ax0.set_title('Bar chart of {}'.format(col1))\n",
    "        df[col1].value_counts().nlargest(10).plot(ax=ax1, kind='pie')\n",
    "        ax1.set_title('Pie chart of {}'.format(col1))\n",
    " \n",
    "%matplotlib inline\n",
    "font={'family':'normal','weight':'normal','size':8}\n",
    "matplotlib.rc('font',**font)\n",
    "matplotlib.rcParams['figure.figsize'] = (12.0, 5.0)\n",
    "matplotlib.rc('xtick', labelsize=9) \n",
    "matplotlib.rc('ytick', labelsize=9)\n",
    "matplotlib.rc('axes', labelsize=10)\n",
    "matplotlib.rc('axes', titlesize=10)\n",
    "sns.set_style('whitegrid')"
   ]
  },
  {
   "cell_type": "markdown",
   "metadata": {},
   "source": [
    "## <a name=\"read and summarize\"></a> Read and Summarize the Data\n",
    "\n",
    "### Load data from file"
   ]
  },
  {
   "cell_type": "code",
   "execution_count": 71,
   "metadata": {},
   "outputs": [
    {
     "data": {
      "text/html": [
       "<div>\n",
       "<style scoped>\n",
       "    .dataframe tbody tr th:only-of-type {\n",
       "        vertical-align: middle;\n",
       "    }\n",
       "\n",
       "    .dataframe tbody tr th {\n",
       "        vertical-align: top;\n",
       "    }\n",
       "\n",
       "    .dataframe thead th {\n",
       "        text-align: right;\n",
       "    }\n",
       "</style>\n",
       "<table border=\"1\" class=\"dataframe\">\n",
       "  <thead>\n",
       "    <tr style=\"text-align: right;\">\n",
       "      <th></th>\n",
       "      <th>Timestamp</th>\n",
       "      <th>LineID</th>\n",
       "      <th>TimeFrame</th>\n",
       "      <th>VehicleJourneyID</th>\n",
       "      <th>Operator</th>\n",
       "      <th>Congestion</th>\n",
       "      <th>LonWGS84</th>\n",
       "      <th>LatWGS84</th>\n",
       "      <th>Delay</th>\n",
       "      <th>BlockID</th>\n",
       "      <th>VehicleID</th>\n",
       "      <th>AtStop</th>\n",
       "      <th>datetime</th>\n",
       "      <th>Time</th>\n",
       "      <th>Day</th>\n",
       "      <th>Hour</th>\n",
       "      <th>Minute</th>\n",
       "    </tr>\n",
       "  </thead>\n",
       "  <tbody>\n",
       "    <tr>\n",
       "      <th>0</th>\n",
       "      <td>1356998405000000</td>\n",
       "      <td>27.0</td>\n",
       "      <td>2012-12-31</td>\n",
       "      <td>3883</td>\n",
       "      <td>RD</td>\n",
       "      <td>0</td>\n",
       "      <td>-6.233417</td>\n",
       "      <td>53.342232</td>\n",
       "      <td>0</td>\n",
       "      <td>27017</td>\n",
       "      <td>33521</td>\n",
       "      <td>0</td>\n",
       "      <td>2013-01-01 00:00:05</td>\n",
       "      <td>00:00:05</td>\n",
       "      <td>1</td>\n",
       "      <td>0</td>\n",
       "      <td>0</td>\n",
       "    </tr>\n",
       "    <tr>\n",
       "      <th>1</th>\n",
       "      <td>1356998407000000</td>\n",
       "      <td>40.0</td>\n",
       "      <td>2012-12-31</td>\n",
       "      <td>2226</td>\n",
       "      <td>HN</td>\n",
       "      <td>0</td>\n",
       "      <td>-6.278250</td>\n",
       "      <td>53.416683</td>\n",
       "      <td>0</td>\n",
       "      <td>40206</td>\n",
       "      <td>33142</td>\n",
       "      <td>0</td>\n",
       "      <td>2013-01-01 00:00:07</td>\n",
       "      <td>00:00:07</td>\n",
       "      <td>1</td>\n",
       "      <td>0</td>\n",
       "      <td>0</td>\n",
       "    </tr>\n",
       "    <tr>\n",
       "      <th>2</th>\n",
       "      <td>1356998407000000</td>\n",
       "      <td>7.0</td>\n",
       "      <td>2012-12-31</td>\n",
       "      <td>6106</td>\n",
       "      <td>D1</td>\n",
       "      <td>0</td>\n",
       "      <td>-6.231633</td>\n",
       "      <td>53.317768</td>\n",
       "      <td>0</td>\n",
       "      <td>7019</td>\n",
       "      <td>43004</td>\n",
       "      <td>1</td>\n",
       "      <td>2013-01-01 00:00:07</td>\n",
       "      <td>00:00:07</td>\n",
       "      <td>1</td>\n",
       "      <td>0</td>\n",
       "      <td>0</td>\n",
       "    </tr>\n",
       "    <tr>\n",
       "      <th>3</th>\n",
       "      <td>1356998411000000</td>\n",
       "      <td>747.0</td>\n",
       "      <td>2012-12-31</td>\n",
       "      <td>3531</td>\n",
       "      <td>SL</td>\n",
       "      <td>0</td>\n",
       "      <td>-6.254617</td>\n",
       "      <td>53.355484</td>\n",
       "      <td>-454</td>\n",
       "      <td>747007</td>\n",
       "      <td>40039</td>\n",
       "      <td>0</td>\n",
       "      <td>2013-01-01 00:00:11</td>\n",
       "      <td>00:00:11</td>\n",
       "      <td>1</td>\n",
       "      <td>0</td>\n",
       "      <td>0</td>\n",
       "    </tr>\n",
       "    <tr>\n",
       "      <th>4</th>\n",
       "      <td>1356998411000000</td>\n",
       "      <td>56.0</td>\n",
       "      <td>2012-12-31</td>\n",
       "      <td>1830</td>\n",
       "      <td>RD</td>\n",
       "      <td>0</td>\n",
       "      <td>-6.233183</td>\n",
       "      <td>53.342201</td>\n",
       "      <td>0</td>\n",
       "      <td>56001</td>\n",
       "      <td>33488</td>\n",
       "      <td>0</td>\n",
       "      <td>2013-01-01 00:00:11</td>\n",
       "      <td>00:00:11</td>\n",
       "      <td>1</td>\n",
       "      <td>0</td>\n",
       "      <td>0</td>\n",
       "    </tr>\n",
       "  </tbody>\n",
       "</table>\n",
       "</div>"
      ],
      "text/plain": [
       "          Timestamp  LineID   TimeFrame  VehicleJourneyID Operator  \\\n",
       "0  1356998405000000    27.0  2012-12-31              3883       RD   \n",
       "1  1356998407000000    40.0  2012-12-31              2226       HN   \n",
       "2  1356998407000000     7.0  2012-12-31              6106       D1   \n",
       "3  1356998411000000   747.0  2012-12-31              3531       SL   \n",
       "4  1356998411000000    56.0  2012-12-31              1830       RD   \n",
       "\n",
       "   Congestion  LonWGS84   LatWGS84  Delay  BlockID  VehicleID  AtStop  \\\n",
       "0           0 -6.233417  53.342232      0    27017      33521       0   \n",
       "1           0 -6.278250  53.416683      0    40206      33142       0   \n",
       "2           0 -6.231633  53.317768      0     7019      43004       1   \n",
       "3           0 -6.254617  53.355484   -454   747007      40039       0   \n",
       "4           0 -6.233183  53.342201      0    56001      33488       0   \n",
       "\n",
       "             datetime      Time  Day  Hour  Minute  \n",
       "0 2013-01-01 00:00:05  00:00:05    1     0       0  \n",
       "1 2013-01-01 00:00:07  00:00:07    1     0       0  \n",
       "2 2013-01-01 00:00:07  00:00:07    1     0       0  \n",
       "3 2013-01-01 00:00:11  00:00:11    1     0       0  \n",
       "4 2013-01-01 00:00:11  00:00:11    1     0       0  "
      ]
     },
     "execution_count": 71,
     "metadata": {},
     "output_type": "execute_result"
    }
   ],
   "source": [
    "data_file = './Data/Bus/Gz/siri.20130101.csv.gz'\n",
    "df = pd.read_csv(data_file, compression='gzip')\n",
    "df.columns = ['Timestamp', 'Line ID', 'Direction', 'Journey Pattern ID', 'Time Frame', 'Vehicle Journey ID', 'Operator', 'Congestion', 'Lon WGS84', 'Lat WGS84', 'Delay', 'Block ID', 'Vehicle ID', 'Stop ID', 'At Stop']\n",
    "bdf = pd.read_parquet('./Data/Bus/CleanedBusData.parquet')\n",
    "bdf['datetime'] = pd.to_datetime(bdf['datetime'])\n",
    "\n",
    "df = pd.read_csv('./Data/MetEirrean/hly175.csv', delimiter=',', header=0,  parse_dates=True, low_memory=True, skiprows=14, na_values='NAN')\n",
    "# Deal with the timestamp and make it human readable\n",
    "df['datetime'] = pd.to_datetime(df['date'])\n",
    "df['Year'] = df['datetime'].dt.year\n",
    "df['Month'] = df['datetime'].dt.month\n",
    "df['Day'] = df['datetime'].dt.day\n",
    "df['Time'] = df['datetime'].dt.time\n",
    "df['Hour'] = df['datetime'].dt.hour\n",
    "df['Minute'] = df['datetime'].dt.minute\n",
    "df = df[df['Year'] == 2013]\n",
    "df = df[df['Month'] == 1]\n",
    "df = df.astype({\"rain\": float})\n",
    "df = df.astype({\"temp\": float})\n",
    "df = df.astype({\"wetb\": float})\n",
    "df = df.astype({\"dewpt\": float})\n",
    "df = df.astype({\"vappr\": float})\n",
    "df = df.astype({\"rhum\": float})\n",
    "df = df.astype({\"msl\": float})\n",
    "\n",
    "bdf.head()\n",
    "\n"
   ]
  },
  {
   "cell_type": "markdown",
   "metadata": {},
   "source": [
    "Check Columns and column types -- correct/modify as necessary "
   ]
  },
  {
   "cell_type": "code",
   "execution_count": 82,
   "metadata": {},
   "outputs": [
    {
     "data": {
      "text/plain": [
       "Timestamp                    int64\n",
       "LineID                     float64\n",
       "TimeFrame                   object\n",
       "VehicleJourneyID             int64\n",
       "Operator                    object\n",
       "Congestion                   int64\n",
       "LonWGS84                   float64\n",
       "LatWGS84                   float64\n",
       "Delay                        int64\n",
       "BlockID                      int64\n",
       "VehicleID                    int64\n",
       "AtStop                       int64\n",
       "datetime            datetime64[ns]\n",
       "Time                        object\n",
       "Day                          int64\n",
       "Hour                         int64\n",
       "Minute                       int64\n",
       "dtype: object"
      ]
     },
     "execution_count": 82,
     "metadata": {},
     "output_type": "execute_result"
    }
   ],
   "source": [
    "bdf.dtypes"
   ]
  },
  {
   "cell_type": "code",
   "execution_count": null,
   "metadata": {},
   "outputs": [],
   "source": [
    "#join weather and bus \n",
    "bdf.join(df.set_index('datetime'),  on=('datetime'), validate='m:1')"
   ]
  },
  {
   "cell_type": "code",
   "execution_count": 86,
   "metadata": {},
   "outputs": [
    {
     "ename": "ValueError",
     "evalue": "columns overlap but no suffix specified: Index(['Time', 'Day', 'Hour', 'Minute'], dtype='object')",
     "output_type": "error",
     "traceback": [
      "\u001b[1;31m---------------------------------------------------------------------------\u001b[0m",
      "\u001b[1;31mValueError\u001b[0m                                Traceback (most recent call last)",
      "\u001b[1;32mn:\\GitHubSource\\DublinBusWeatherProject\\Standalone_EDA.ipynb Cell 11\u001b[0m in \u001b[0;36m<cell line: 2>\u001b[1;34m()\u001b[0m\n\u001b[0;32m      <a href='vscode-notebook-cell:/n%3A/GitHubSource/DublinBusWeatherProject/Standalone_EDA.ipynb#Y110sZmlsZQ%3D%3D?line=0'>1</a>\u001b[0m \u001b[39m#join weather and bus \u001b[39;00m\n\u001b[1;32m----> <a href='vscode-notebook-cell:/n%3A/GitHubSource/DublinBusWeatherProject/Standalone_EDA.ipynb#Y110sZmlsZQ%3D%3D?line=1'>2</a>\u001b[0m bdf\u001b[39m.\u001b[39;49mjoin(df\u001b[39m.\u001b[39;49mset_index(\u001b[39m'\u001b[39;49m\u001b[39mdatetime\u001b[39;49m\u001b[39m'\u001b[39;49m),  on\u001b[39m=\u001b[39;49m(\u001b[39m'\u001b[39;49m\u001b[39mdatetime\u001b[39;49m\u001b[39m'\u001b[39;49m), validate\u001b[39m=\u001b[39;49m\u001b[39m'\u001b[39;49m\u001b[39mm:1\u001b[39;49m\u001b[39m'\u001b[39;49m)\n\u001b[0;32m      <a href='vscode-notebook-cell:/n%3A/GitHubSource/DublinBusWeatherProject/Standalone_EDA.ipynb#Y110sZmlsZQ%3D%3D?line=2'>3</a>\u001b[0m \u001b[39m#remove the space in column names\u001b[39;00m\n\u001b[0;32m      <a href='vscode-notebook-cell:/n%3A/GitHubSource/DublinBusWeatherProject/Standalone_EDA.ipynb#Y110sZmlsZQ%3D%3D?line=3'>4</a>\u001b[0m df\u001b[39m.\u001b[39mcolumns \u001b[39m=\u001b[39m [x\u001b[39m.\u001b[39mstrip()\u001b[39m.\u001b[39mreplace(\u001b[39m'\u001b[39m\u001b[39m \u001b[39m\u001b[39m'\u001b[39m, \u001b[39m'\u001b[39m\u001b[39m'\u001b[39m) \u001b[39mfor\u001b[39;00m x \u001b[39min\u001b[39;00m df\u001b[39m.\u001b[39mcolumns]\n",
      "File \u001b[1;32m~\\AppData\\Local\\Packages\\PythonSoftwareFoundation.Python.3.8_qbz5n2kfra8p0\\LocalCache\\local-packages\\Python38\\site-packages\\pandas\\core\\frame.py:9969\u001b[0m, in \u001b[0;36mDataFrame.join\u001b[1;34m(self, other, on, how, lsuffix, rsuffix, sort, validate)\u001b[0m\n\u001b[0;32m   9806\u001b[0m \u001b[39mdef\u001b[39;00m \u001b[39mjoin\u001b[39m(\n\u001b[0;32m   9807\u001b[0m     \u001b[39mself\u001b[39m,\n\u001b[0;32m   9808\u001b[0m     other: DataFrame \u001b[39m|\u001b[39m Series \u001b[39m|\u001b[39m \u001b[39mlist\u001b[39m[DataFrame \u001b[39m|\u001b[39m Series],\n\u001b[1;32m   (...)\u001b[0m\n\u001b[0;32m   9814\u001b[0m     validate: \u001b[39mstr\u001b[39m \u001b[39m|\u001b[39m \u001b[39mNone\u001b[39;00m \u001b[39m=\u001b[39m \u001b[39mNone\u001b[39;00m,\n\u001b[0;32m   9815\u001b[0m ) \u001b[39m-\u001b[39m\u001b[39m>\u001b[39m DataFrame:\n\u001b[0;32m   9816\u001b[0m     \u001b[39m\"\"\"\u001b[39;00m\n\u001b[0;32m   9817\u001b[0m \u001b[39m    Join columns of another DataFrame.\u001b[39;00m\n\u001b[0;32m   9818\u001b[0m \n\u001b[1;32m   (...)\u001b[0m\n\u001b[0;32m   9967\u001b[0m \u001b[39m    5  K1  A5   B1\u001b[39;00m\n\u001b[0;32m   9968\u001b[0m \u001b[39m    \"\"\"\u001b[39;00m\n\u001b[1;32m-> 9969\u001b[0m     \u001b[39mreturn\u001b[39;00m \u001b[39mself\u001b[39;49m\u001b[39m.\u001b[39;49m_join_compat(\n\u001b[0;32m   9970\u001b[0m         other,\n\u001b[0;32m   9971\u001b[0m         on\u001b[39m=\u001b[39;49mon,\n\u001b[0;32m   9972\u001b[0m         how\u001b[39m=\u001b[39;49mhow,\n\u001b[0;32m   9973\u001b[0m         lsuffix\u001b[39m=\u001b[39;49mlsuffix,\n\u001b[0;32m   9974\u001b[0m         rsuffix\u001b[39m=\u001b[39;49mrsuffix,\n\u001b[0;32m   9975\u001b[0m         sort\u001b[39m=\u001b[39;49msort,\n\u001b[0;32m   9976\u001b[0m         validate\u001b[39m=\u001b[39;49mvalidate,\n\u001b[0;32m   9977\u001b[0m     )\n",
      "File \u001b[1;32m~\\AppData\\Local\\Packages\\PythonSoftwareFoundation.Python.3.8_qbz5n2kfra8p0\\LocalCache\\local-packages\\Python38\\site-packages\\pandas\\core\\frame.py:10008\u001b[0m, in \u001b[0;36mDataFrame._join_compat\u001b[1;34m(self, other, on, how, lsuffix, rsuffix, sort, validate)\u001b[0m\n\u001b[0;32m   9998\u001b[0m     \u001b[39mif\u001b[39;00m how \u001b[39m==\u001b[39m \u001b[39m\"\u001b[39m\u001b[39mcross\u001b[39m\u001b[39m\"\u001b[39m:\n\u001b[0;32m   9999\u001b[0m         \u001b[39mreturn\u001b[39;00m merge(\n\u001b[0;32m  10000\u001b[0m             \u001b[39mself\u001b[39m,\n\u001b[0;32m  10001\u001b[0m             other,\n\u001b[1;32m   (...)\u001b[0m\n\u001b[0;32m  10006\u001b[0m             validate\u001b[39m=\u001b[39mvalidate,\n\u001b[0;32m  10007\u001b[0m         )\n\u001b[1;32m> 10008\u001b[0m     \u001b[39mreturn\u001b[39;00m merge(\n\u001b[0;32m  10009\u001b[0m         \u001b[39mself\u001b[39;49m,\n\u001b[0;32m  10010\u001b[0m         other,\n\u001b[0;32m  10011\u001b[0m         left_on\u001b[39m=\u001b[39;49mon,\n\u001b[0;32m  10012\u001b[0m         how\u001b[39m=\u001b[39;49mhow,\n\u001b[0;32m  10013\u001b[0m         left_index\u001b[39m=\u001b[39;49mon \u001b[39mis\u001b[39;49;00m \u001b[39mNone\u001b[39;49;00m,\n\u001b[0;32m  10014\u001b[0m         right_index\u001b[39m=\u001b[39;49m\u001b[39mTrue\u001b[39;49;00m,\n\u001b[0;32m  10015\u001b[0m         suffixes\u001b[39m=\u001b[39;49m(lsuffix, rsuffix),\n\u001b[0;32m  10016\u001b[0m         sort\u001b[39m=\u001b[39;49msort,\n\u001b[0;32m  10017\u001b[0m         validate\u001b[39m=\u001b[39;49mvalidate,\n\u001b[0;32m  10018\u001b[0m     )\n\u001b[0;32m  10019\u001b[0m \u001b[39melse\u001b[39;00m:\n\u001b[0;32m  10020\u001b[0m     \u001b[39mif\u001b[39;00m on \u001b[39mis\u001b[39;00m \u001b[39mnot\u001b[39;00m \u001b[39mNone\u001b[39;00m:\n",
      "File \u001b[1;32m~\\AppData\\Local\\Packages\\PythonSoftwareFoundation.Python.3.8_qbz5n2kfra8p0\\LocalCache\\local-packages\\Python38\\site-packages\\pandas\\core\\reshape\\merge.py:125\u001b[0m, in \u001b[0;36mmerge\u001b[1;34m(left, right, how, on, left_on, right_on, left_index, right_index, sort, suffixes, copy, indicator, validate)\u001b[0m\n\u001b[0;32m     94\u001b[0m \u001b[39m@Substitution\u001b[39m(\u001b[39m\"\u001b[39m\u001b[39m\\n\u001b[39;00m\u001b[39mleft : DataFrame or named Series\u001b[39m\u001b[39m\"\u001b[39m)\n\u001b[0;32m     95\u001b[0m \u001b[39m@Appender\u001b[39m(_merge_doc, indents\u001b[39m=\u001b[39m\u001b[39m0\u001b[39m)\n\u001b[0;32m     96\u001b[0m \u001b[39mdef\u001b[39;00m \u001b[39mmerge\u001b[39m(\n\u001b[1;32m   (...)\u001b[0m\n\u001b[0;32m    109\u001b[0m     validate: \u001b[39mstr\u001b[39m \u001b[39m|\u001b[39m \u001b[39mNone\u001b[39;00m \u001b[39m=\u001b[39m \u001b[39mNone\u001b[39;00m,\n\u001b[0;32m    110\u001b[0m ) \u001b[39m-\u001b[39m\u001b[39m>\u001b[39m DataFrame:\n\u001b[0;32m    111\u001b[0m     op \u001b[39m=\u001b[39m _MergeOperation(\n\u001b[0;32m    112\u001b[0m         left,\n\u001b[0;32m    113\u001b[0m         right,\n\u001b[1;32m   (...)\u001b[0m\n\u001b[0;32m    123\u001b[0m         validate\u001b[39m=\u001b[39mvalidate,\n\u001b[0;32m    124\u001b[0m     )\n\u001b[1;32m--> 125\u001b[0m     \u001b[39mreturn\u001b[39;00m op\u001b[39m.\u001b[39;49mget_result(copy\u001b[39m=\u001b[39;49mcopy)\n",
      "File \u001b[1;32m~\\AppData\\Local\\Packages\\PythonSoftwareFoundation.Python.3.8_qbz5n2kfra8p0\\LocalCache\\local-packages\\Python38\\site-packages\\pandas\\core\\reshape\\merge.py:778\u001b[0m, in \u001b[0;36m_MergeOperation.get_result\u001b[1;34m(self, copy)\u001b[0m\n\u001b[0;32m    774\u001b[0m     \u001b[39mself\u001b[39m\u001b[39m.\u001b[39mleft, \u001b[39mself\u001b[39m\u001b[39m.\u001b[39mright \u001b[39m=\u001b[39m \u001b[39mself\u001b[39m\u001b[39m.\u001b[39m_indicator_pre_merge(\u001b[39mself\u001b[39m\u001b[39m.\u001b[39mleft, \u001b[39mself\u001b[39m\u001b[39m.\u001b[39mright)\n\u001b[0;32m    776\u001b[0m join_index, left_indexer, right_indexer \u001b[39m=\u001b[39m \u001b[39mself\u001b[39m\u001b[39m.\u001b[39m_get_join_info()\n\u001b[1;32m--> 778\u001b[0m result \u001b[39m=\u001b[39m \u001b[39mself\u001b[39;49m\u001b[39m.\u001b[39;49m_reindex_and_concat(\n\u001b[0;32m    779\u001b[0m     join_index, left_indexer, right_indexer, copy\u001b[39m=\u001b[39;49mcopy\n\u001b[0;32m    780\u001b[0m )\n\u001b[0;32m    781\u001b[0m result \u001b[39m=\u001b[39m result\u001b[39m.\u001b[39m__finalize__(\u001b[39mself\u001b[39m, method\u001b[39m=\u001b[39m\u001b[39mself\u001b[39m\u001b[39m.\u001b[39m_merge_type)\n\u001b[0;32m    783\u001b[0m \u001b[39mif\u001b[39;00m \u001b[39mself\u001b[39m\u001b[39m.\u001b[39mindicator:\n",
      "File \u001b[1;32m~\\AppData\\Local\\Packages\\PythonSoftwareFoundation.Python.3.8_qbz5n2kfra8p0\\LocalCache\\local-packages\\Python38\\site-packages\\pandas\\core\\reshape\\merge.py:732\u001b[0m, in \u001b[0;36m_MergeOperation._reindex_and_concat\u001b[1;34m(self, join_index, left_indexer, right_indexer, copy)\u001b[0m\n\u001b[0;32m    729\u001b[0m left \u001b[39m=\u001b[39m \u001b[39mself\u001b[39m\u001b[39m.\u001b[39mleft[:]\n\u001b[0;32m    730\u001b[0m right \u001b[39m=\u001b[39m \u001b[39mself\u001b[39m\u001b[39m.\u001b[39mright[:]\n\u001b[1;32m--> 732\u001b[0m llabels, rlabels \u001b[39m=\u001b[39m _items_overlap_with_suffix(\n\u001b[0;32m    733\u001b[0m     \u001b[39mself\u001b[39;49m\u001b[39m.\u001b[39;49mleft\u001b[39m.\u001b[39;49m_info_axis, \u001b[39mself\u001b[39;49m\u001b[39m.\u001b[39;49mright\u001b[39m.\u001b[39;49m_info_axis, \u001b[39mself\u001b[39;49m\u001b[39m.\u001b[39;49msuffixes\n\u001b[0;32m    734\u001b[0m )\n\u001b[0;32m    736\u001b[0m \u001b[39mif\u001b[39;00m left_indexer \u001b[39mis\u001b[39;00m \u001b[39mnot\u001b[39;00m \u001b[39mNone\u001b[39;00m:\n\u001b[0;32m    737\u001b[0m     \u001b[39m# Pinning the index here (and in the right code just below) is not\u001b[39;00m\n\u001b[0;32m    738\u001b[0m     \u001b[39m#  necessary, but makes the `.take` more performant if we have e.g.\u001b[39;00m\n\u001b[0;32m    739\u001b[0m     \u001b[39m#  a MultiIndex for left.index.\u001b[39;00m\n\u001b[0;32m    740\u001b[0m     lmgr \u001b[39m=\u001b[39m left\u001b[39m.\u001b[39m_mgr\u001b[39m.\u001b[39mreindex_indexer(\n\u001b[0;32m    741\u001b[0m         join_index,\n\u001b[0;32m    742\u001b[0m         left_indexer,\n\u001b[1;32m   (...)\u001b[0m\n\u001b[0;32m    747\u001b[0m         use_na_proxy\u001b[39m=\u001b[39m\u001b[39mTrue\u001b[39;00m,\n\u001b[0;32m    748\u001b[0m     )\n",
      "File \u001b[1;32m~\\AppData\\Local\\Packages\\PythonSoftwareFoundation.Python.3.8_qbz5n2kfra8p0\\LocalCache\\local-packages\\Python38\\site-packages\\pandas\\core\\reshape\\merge.py:2461\u001b[0m, in \u001b[0;36m_items_overlap_with_suffix\u001b[1;34m(left, right, suffixes)\u001b[0m\n\u001b[0;32m   2458\u001b[0m lsuffix, rsuffix \u001b[39m=\u001b[39m suffixes\n\u001b[0;32m   2460\u001b[0m \u001b[39mif\u001b[39;00m \u001b[39mnot\u001b[39;00m lsuffix \u001b[39mand\u001b[39;00m \u001b[39mnot\u001b[39;00m rsuffix:\n\u001b[1;32m-> 2461\u001b[0m     \u001b[39mraise\u001b[39;00m \u001b[39mValueError\u001b[39;00m(\u001b[39mf\u001b[39m\u001b[39m\"\u001b[39m\u001b[39mcolumns overlap but no suffix specified: \u001b[39m\u001b[39m{\u001b[39;00mto_rename\u001b[39m}\u001b[39;00m\u001b[39m\"\u001b[39m)\n\u001b[0;32m   2463\u001b[0m \u001b[39mdef\u001b[39;00m \u001b[39mrenamer\u001b[39m(x, suffix):\n\u001b[0;32m   2464\u001b[0m     \u001b[39m\"\"\"\u001b[39;00m\n\u001b[0;32m   2465\u001b[0m \u001b[39m    Rename the left and right indices.\u001b[39;00m\n\u001b[0;32m   2466\u001b[0m \n\u001b[1;32m   (...)\u001b[0m\n\u001b[0;32m   2477\u001b[0m \u001b[39m    x : renamed column name\u001b[39;00m\n\u001b[0;32m   2478\u001b[0m \u001b[39m    \"\"\"\u001b[39;00m\n",
      "\u001b[1;31mValueError\u001b[0m: columns overlap but no suffix specified: Index(['Time', 'Day', 'Hour', 'Minute'], dtype='object')"
     ]
    }
   ],
   "source": [
    "\n",
    "#remove the space in column names\n",
    "df.columns = [x.strip().replace(' ', '') for x in df.columns]\n",
    "\n",
    "df.head()"
   ]
  },
  {
   "cell_type": "code",
   "execution_count": 54,
   "metadata": {},
   "outputs": [],
   "source": [
    "# Getting the list of categorical columns if it was not there in the yaml file\n",
    "CategoricalColumns = list(set(list(df.select_dtypes(exclude=[np.number]).columns)))\n",
    "\n",
    "NumericalColumns = list(set(list(df.select_dtypes([np.number]).columns)))"
   ]
  },
  {
   "cell_type": "code",
   "execution_count": 39,
   "metadata": {},
   "outputs": [
    {
     "name": "stdout",
     "output_type": "stream",
     "text": [
      "['Time', 'date', 'datetime']\n"
     ]
    }
   ],
   "source": [
    "print(CategoricalColumns)"
   ]
  },
  {
   "cell_type": "code",
   "execution_count": 40,
   "metadata": {},
   "outputs": [
    {
     "name": "stdout",
     "output_type": "stream",
     "text": [
      "['rain', 'Month', 'dewpt', 'ind.2', 'Hour', 'msl', 'Day', 'Year', 'vappr', 'Minute', 'ind', 'rhum', 'wetb', 'temp', 'ind.1']\n"
     ]
    }
   ],
   "source": [
    "print(NumericalColumns)"
   ]
  },
  {
   "cell_type": "markdown",
   "metadata": {},
   "source": [
    "# Exclude columns that we do not need"
   ]
  },
  {
   "cell_type": "code",
   "execution_count": 41,
   "metadata": {},
   "outputs": [],
   "source": [
    "ColumnsToExclude = ['JourneyPatternID', 'StopID']\n",
    "CategoricalColumns = list(set(CategoricalColumns) - set(ColumnsToExclude))\n",
    "NumericalColumns = list(set(NumericalColumns)-set(ColumnsToExclude))\n",
    "\n",
    "Target = ''"
   ]
  },
  {
   "cell_type": "code",
   "execution_count": 42,
   "metadata": {},
   "outputs": [],
   "source": [
    "#df = df.drop(ColumnsToExclude, axis=1)\n",
    "df = df.dropna()"
   ]
  },
  {
   "cell_type": "markdown",
   "metadata": {},
   "source": [
    "### Print the dimensions of the data (rows, columns)"
   ]
  },
  {
   "cell_type": "code",
   "execution_count": 43,
   "metadata": {},
   "outputs": [
    {
     "name": "stdout",
     "output_type": "stream",
     "text": [
      "The data has 744 Rows and 18 columns\n"
     ]
    }
   ],
   "source": [
    "print ('The data has {} Rows and {} columns'.format(df.shape[0],df.shape[1]))"
   ]
  },
  {
   "cell_type": "markdown",
   "metadata": {},
   "source": [
    "### Print the dimensions of the data (rows, columns)"
   ]
  },
  {
   "cell_type": "code",
   "execution_count": 44,
   "metadata": {},
   "outputs": [
    {
     "name": "stdout",
     "output_type": "stream",
     "text": [
      "The column names are:date,ind,rain,ind.1,temp,ind.2,wetb,dewpt,vappr,rhum,msl,datetime,Year,Month,Day,Time,Hour,Minute\n"
     ]
    }
   ],
   "source": [
    "col_names = ','.join(each for each in list(df.columns))\n",
    "print(\"The column names are:\" + col_names)"
   ]
  },
  {
   "cell_type": "markdown",
   "metadata": {},
   "source": [
    "### Print the column types"
   ]
  },
  {
   "cell_type": "code",
   "execution_count": 45,
   "metadata": {},
   "outputs": [
    {
     "name": "stdout",
     "output_type": "stream",
     "text": [
      "The types of columns are:\n"
     ]
    },
    {
     "data": {
      "text/plain": [
       "date                object\n",
       "ind                  int64\n",
       "rain               float64\n",
       "ind.1                int64\n",
       "temp               float64\n",
       "ind.2                int64\n",
       "wetb               float64\n",
       "dewpt              float64\n",
       "vappr              float64\n",
       "rhum               float64\n",
       "msl                float64\n",
       "datetime    datetime64[ns]\n",
       "Year                 int64\n",
       "Month                int64\n",
       "Day                  int64\n",
       "Time                object\n",
       "Hour                 int64\n",
       "Minute               int64\n",
       "dtype: object"
      ]
     },
     "execution_count": 45,
     "metadata": {},
     "output_type": "execute_result"
    }
   ],
   "source": [
    "print(\"The types of columns are:\")\n",
    "df.dtypes"
   ]
  },
  {
   "cell_type": "markdown",
   "metadata": {},
   "source": [
    "## <a name=\"descriptive statistics\"></a>Extract Descriptive Statistics of Each Column"
   ]
  },
  {
   "cell_type": "code",
   "execution_count": 46,
   "metadata": {},
   "outputs": [],
   "source": [
    "def num_missing(x):\n",
    "    return len(x.index)-x.count()\n",
    "\n",
    "def num_unique(x):\n",
    "    return len(np.unique(x))"
   ]
  },
  {
   "cell_type": "code",
   "execution_count": 47,
   "metadata": {},
   "outputs": [],
   "source": [
    "types_df = pd.DataFrame(df.dtypes)"
   ]
  },
  {
   "cell_type": "code",
   "execution_count": 48,
   "metadata": {},
   "outputs": [],
   "source": [
    "temp_df = df.describe().T\n",
    "missing_df = pd.DataFrame(df.apply(num_missing, axis=0)) \n",
    "missing_df.columns = ['missing']\n",
    "unq_df = pd.DataFrame(df.apply(num_unique, axis=0))\n",
    "unq_df.columns = ['unique']\n",
    "types_df = pd.DataFrame(df.dtypes)\n",
    "types_df.columns = ['DataType']\n"
   ]
  },
  {
   "cell_type": "markdown",
   "metadata": {},
   "source": [
    "### Print the descriptive statistics of numerical columns"
   ]
  },
  {
   "cell_type": "code",
   "execution_count": 49,
   "metadata": {},
   "outputs": [
    {
     "data": {
      "text/html": [
       "<div>\n",
       "<style scoped>\n",
       "    .dataframe tbody tr th:only-of-type {\n",
       "        vertical-align: middle;\n",
       "    }\n",
       "\n",
       "    .dataframe tbody tr th {\n",
       "        vertical-align: top;\n",
       "    }\n",
       "\n",
       "    .dataframe thead th {\n",
       "        text-align: right;\n",
       "    }\n",
       "</style>\n",
       "<table border=\"1\" class=\"dataframe\">\n",
       "  <thead>\n",
       "    <tr style=\"text-align: right;\">\n",
       "      <th></th>\n",
       "      <th>count</th>\n",
       "      <th>mean</th>\n",
       "      <th>std</th>\n",
       "      <th>min</th>\n",
       "      <th>25%</th>\n",
       "      <th>50%</th>\n",
       "      <th>75%</th>\n",
       "      <th>max</th>\n",
       "      <th>missing</th>\n",
       "      <th>unique</th>\n",
       "      <th>DataType</th>\n",
       "    </tr>\n",
       "  </thead>\n",
       "  <tbody>\n",
       "    <tr>\n",
       "      <th>ind</th>\n",
       "      <td>744.0</td>\n",
       "      <td>0.000000</td>\n",
       "      <td>0.000000</td>\n",
       "      <td>0.0</td>\n",
       "      <td>0.000</td>\n",
       "      <td>0.0</td>\n",
       "      <td>0.000</td>\n",
       "      <td>0.0</td>\n",
       "      <td>0</td>\n",
       "      <td>1</td>\n",
       "      <td>int64</td>\n",
       "    </tr>\n",
       "    <tr>\n",
       "      <th>rain</th>\n",
       "      <td>744.0</td>\n",
       "      <td>0.112366</td>\n",
       "      <td>0.388298</td>\n",
       "      <td>0.0</td>\n",
       "      <td>0.000</td>\n",
       "      <td>0.0</td>\n",
       "      <td>0.000</td>\n",
       "      <td>4.0</td>\n",
       "      <td>0</td>\n",
       "      <td>25</td>\n",
       "      <td>float64</td>\n",
       "    </tr>\n",
       "    <tr>\n",
       "      <th>ind.1</th>\n",
       "      <td>744.0</td>\n",
       "      <td>0.000000</td>\n",
       "      <td>0.000000</td>\n",
       "      <td>0.0</td>\n",
       "      <td>0.000</td>\n",
       "      <td>0.0</td>\n",
       "      <td>0.000</td>\n",
       "      <td>0.0</td>\n",
       "      <td>0</td>\n",
       "      <td>1</td>\n",
       "      <td>int64</td>\n",
       "    </tr>\n",
       "    <tr>\n",
       "      <th>temp</th>\n",
       "      <td>744.0</td>\n",
       "      <td>5.344892</td>\n",
       "      <td>3.741139</td>\n",
       "      <td>-3.8</td>\n",
       "      <td>2.600</td>\n",
       "      <td>5.0</td>\n",
       "      <td>8.200</td>\n",
       "      <td>13.9</td>\n",
       "      <td>0</td>\n",
       "      <td>150</td>\n",
       "      <td>float64</td>\n",
       "    </tr>\n",
       "    <tr>\n",
       "      <th>ind.2</th>\n",
       "      <td>744.0</td>\n",
       "      <td>0.000000</td>\n",
       "      <td>0.000000</td>\n",
       "      <td>0.0</td>\n",
       "      <td>0.000</td>\n",
       "      <td>0.0</td>\n",
       "      <td>0.000</td>\n",
       "      <td>0.0</td>\n",
       "      <td>0</td>\n",
       "      <td>1</td>\n",
       "      <td>int64</td>\n",
       "    </tr>\n",
       "    <tr>\n",
       "      <th>wetb</th>\n",
       "      <td>744.0</td>\n",
       "      <td>4.327823</td>\n",
       "      <td>3.501273</td>\n",
       "      <td>-3.8</td>\n",
       "      <td>1.400</td>\n",
       "      <td>4.0</td>\n",
       "      <td>6.900</td>\n",
       "      <td>12.4</td>\n",
       "      <td>0</td>\n",
       "      <td>141</td>\n",
       "      <td>float64</td>\n",
       "    </tr>\n",
       "    <tr>\n",
       "      <th>dewpt</th>\n",
       "      <td>744.0</td>\n",
       "      <td>2.872446</td>\n",
       "      <td>3.586033</td>\n",
       "      <td>-4.3</td>\n",
       "      <td>0.100</td>\n",
       "      <td>2.5</td>\n",
       "      <td>5.300</td>\n",
       "      <td>11.2</td>\n",
       "      <td>0</td>\n",
       "      <td>143</td>\n",
       "      <td>float64</td>\n",
       "    </tr>\n",
       "    <tr>\n",
       "      <th>vappr</th>\n",
       "      <td>744.0</td>\n",
       "      <td>7.729435</td>\n",
       "      <td>2.030383</td>\n",
       "      <td>4.4</td>\n",
       "      <td>6.100</td>\n",
       "      <td>7.3</td>\n",
       "      <td>8.900</td>\n",
       "      <td>13.3</td>\n",
       "      <td>0</td>\n",
       "      <td>85</td>\n",
       "      <td>float64</td>\n",
       "    </tr>\n",
       "    <tr>\n",
       "      <th>rhum</th>\n",
       "      <td>744.0</td>\n",
       "      <td>84.014785</td>\n",
       "      <td>7.671488</td>\n",
       "      <td>58.0</td>\n",
       "      <td>79.000</td>\n",
       "      <td>85.0</td>\n",
       "      <td>89.000</td>\n",
       "      <td>100.0</td>\n",
       "      <td>0</td>\n",
       "      <td>42</td>\n",
       "      <td>float64</td>\n",
       "    </tr>\n",
       "    <tr>\n",
       "      <th>msl</th>\n",
       "      <td>744.0</td>\n",
       "      <td>1010.027957</td>\n",
       "      <td>12.538876</td>\n",
       "      <td>980.8</td>\n",
       "      <td>999.875</td>\n",
       "      <td>1010.3</td>\n",
       "      <td>1018.725</td>\n",
       "      <td>1035.2</td>\n",
       "      <td>0</td>\n",
       "      <td>368</td>\n",
       "      <td>float64</td>\n",
       "    </tr>\n",
       "    <tr>\n",
       "      <th>Year</th>\n",
       "      <td>744.0</td>\n",
       "      <td>2013.000000</td>\n",
       "      <td>0.000000</td>\n",
       "      <td>2013.0</td>\n",
       "      <td>2013.000</td>\n",
       "      <td>2013.0</td>\n",
       "      <td>2013.000</td>\n",
       "      <td>2013.0</td>\n",
       "      <td>0</td>\n",
       "      <td>1</td>\n",
       "      <td>int64</td>\n",
       "    </tr>\n",
       "    <tr>\n",
       "      <th>Month</th>\n",
       "      <td>744.0</td>\n",
       "      <td>1.000000</td>\n",
       "      <td>0.000000</td>\n",
       "      <td>1.0</td>\n",
       "      <td>1.000</td>\n",
       "      <td>1.0</td>\n",
       "      <td>1.000</td>\n",
       "      <td>1.0</td>\n",
       "      <td>0</td>\n",
       "      <td>1</td>\n",
       "      <td>int64</td>\n",
       "    </tr>\n",
       "    <tr>\n",
       "      <th>Day</th>\n",
       "      <td>744.0</td>\n",
       "      <td>16.000000</td>\n",
       "      <td>8.950289</td>\n",
       "      <td>1.0</td>\n",
       "      <td>8.000</td>\n",
       "      <td>16.0</td>\n",
       "      <td>24.000</td>\n",
       "      <td>31.0</td>\n",
       "      <td>0</td>\n",
       "      <td>31</td>\n",
       "      <td>int64</td>\n",
       "    </tr>\n",
       "    <tr>\n",
       "      <th>Hour</th>\n",
       "      <td>744.0</td>\n",
       "      <td>11.500000</td>\n",
       "      <td>6.926843</td>\n",
       "      <td>0.0</td>\n",
       "      <td>5.750</td>\n",
       "      <td>11.5</td>\n",
       "      <td>17.250</td>\n",
       "      <td>23.0</td>\n",
       "      <td>0</td>\n",
       "      <td>24</td>\n",
       "      <td>int64</td>\n",
       "    </tr>\n",
       "    <tr>\n",
       "      <th>Minute</th>\n",
       "      <td>744.0</td>\n",
       "      <td>0.000000</td>\n",
       "      <td>0.000000</td>\n",
       "      <td>0.0</td>\n",
       "      <td>0.000</td>\n",
       "      <td>0.0</td>\n",
       "      <td>0.000</td>\n",
       "      <td>0.0</td>\n",
       "      <td>0</td>\n",
       "      <td>1</td>\n",
       "      <td>int64</td>\n",
       "    </tr>\n",
       "  </tbody>\n",
       "</table>\n",
       "</div>"
      ],
      "text/plain": [
       "        count         mean        std     min       25%     50%       75%  \\\n",
       "ind     744.0     0.000000   0.000000     0.0     0.000     0.0     0.000   \n",
       "rain    744.0     0.112366   0.388298     0.0     0.000     0.0     0.000   \n",
       "ind.1   744.0     0.000000   0.000000     0.0     0.000     0.0     0.000   \n",
       "temp    744.0     5.344892   3.741139    -3.8     2.600     5.0     8.200   \n",
       "ind.2   744.0     0.000000   0.000000     0.0     0.000     0.0     0.000   \n",
       "wetb    744.0     4.327823   3.501273    -3.8     1.400     4.0     6.900   \n",
       "dewpt   744.0     2.872446   3.586033    -4.3     0.100     2.5     5.300   \n",
       "vappr   744.0     7.729435   2.030383     4.4     6.100     7.3     8.900   \n",
       "rhum    744.0    84.014785   7.671488    58.0    79.000    85.0    89.000   \n",
       "msl     744.0  1010.027957  12.538876   980.8   999.875  1010.3  1018.725   \n",
       "Year    744.0  2013.000000   0.000000  2013.0  2013.000  2013.0  2013.000   \n",
       "Month   744.0     1.000000   0.000000     1.0     1.000     1.0     1.000   \n",
       "Day     744.0    16.000000   8.950289     1.0     8.000    16.0    24.000   \n",
       "Hour    744.0    11.500000   6.926843     0.0     5.750    11.5    17.250   \n",
       "Minute  744.0     0.000000   0.000000     0.0     0.000     0.0     0.000   \n",
       "\n",
       "           max  missing  unique DataType  \n",
       "ind        0.0        0       1    int64  \n",
       "rain       4.0        0      25  float64  \n",
       "ind.1      0.0        0       1    int64  \n",
       "temp      13.9        0     150  float64  \n",
       "ind.2      0.0        0       1    int64  \n",
       "wetb      12.4        0     141  float64  \n",
       "dewpt     11.2        0     143  float64  \n",
       "vappr     13.3        0      85  float64  \n",
       "rhum     100.0        0      42  float64  \n",
       "msl     1035.2        0     368  float64  \n",
       "Year    2013.0        0       1    int64  \n",
       "Month      1.0        0       1    int64  \n",
       "Day       31.0        0      31    int64  \n",
       "Hour      23.0        0      24    int64  \n",
       "Minute     0.0        0       1    int64  "
      ]
     },
     "execution_count": 49,
     "metadata": {},
     "output_type": "execute_result"
    }
   ],
   "source": [
    "\n",
    "summary_df = temp_df.join(missing_df).join(unq_df).join(types_df)\n",
    "summary_df"
   ]
  },
  {
   "cell_type": "markdown",
   "metadata": {},
   "source": [
    "### Print the descriptive statistics of categorical columns"
   ]
  },
  {
   "cell_type": "code",
   "execution_count": 50,
   "metadata": {},
   "outputs": [
    {
     "data": {
      "text/html": [
       "<div>\n",
       "<style scoped>\n",
       "    .dataframe tbody tr th:only-of-type {\n",
       "        vertical-align: middle;\n",
       "    }\n",
       "\n",
       "    .dataframe tbody tr th {\n",
       "        vertical-align: top;\n",
       "    }\n",
       "\n",
       "    .dataframe thead th {\n",
       "        text-align: right;\n",
       "    }\n",
       "</style>\n",
       "<table border=\"1\" class=\"dataframe\">\n",
       "  <thead>\n",
       "    <tr style=\"text-align: right;\">\n",
       "      <th></th>\n",
       "      <th>missing</th>\n",
       "      <th>unique</th>\n",
       "      <th>DataType</th>\n",
       "    </tr>\n",
       "  </thead>\n",
       "  <tbody>\n",
       "    <tr>\n",
       "      <th>date</th>\n",
       "      <td>0</td>\n",
       "      <td>744</td>\n",
       "      <td>object</td>\n",
       "    </tr>\n",
       "    <tr>\n",
       "      <th>datetime</th>\n",
       "      <td>0</td>\n",
       "      <td>744</td>\n",
       "      <td>datetime64[ns]</td>\n",
       "    </tr>\n",
       "    <tr>\n",
       "      <th>Time</th>\n",
       "      <td>0</td>\n",
       "      <td>24</td>\n",
       "      <td>object</td>\n",
       "    </tr>\n",
       "  </tbody>\n",
       "</table>\n",
       "</div>"
      ],
      "text/plain": [
       "          missing  unique        DataType\n",
       "date            0     744          object\n",
       "datetime        0     744  datetime64[ns]\n",
       "Time            0      24          object"
      ]
     },
     "execution_count": 50,
     "metadata": {},
     "output_type": "execute_result"
    }
   ],
   "source": [
    "col_names = list(types_df.index)\n",
    "num_cols = len(col_names)\n",
    "index = range(num_cols)\n",
    "cat_index = []\n",
    "for i in index:\n",
    "    if col_names[i] in CategoricalColumns:\n",
    "        cat_index.append(i)\n",
    "summary_df_cat = missing_df.join(unq_df).join(types_df.iloc[cat_index], how='inner') #Only summarize categorical columns\n",
    "summary_df_cat"
   ]
  },
  {
   "cell_type": "markdown",
   "metadata": {},
   "source": [
    "## <a name=\"individual variables\"></a>Explore Individual Variables"
   ]
  },
  {
   "cell_type": "markdown",
   "metadata": {},
   "source": [
    "### Explore the target variable"
   ]
  },
  {
   "cell_type": "code",
   "execution_count": 51,
   "metadata": {},
   "outputs": [
    {
     "data": {
      "application/vnd.jupyter.widget-view+json": {
       "model_id": "90423c7fe75a49728811583941401557",
       "version_major": 2,
       "version_minor": 0
      },
      "text/plain": [
       "HBox(children=(Dropdown(description='Target Variable:', options=('',), value=''), Output()))"
      ]
     },
     "metadata": {},
     "output_type": "display_data"
    },
    {
     "ename": "KeyError",
     "evalue": "''",
     "output_type": "error",
     "traceback": [
      "\u001b[1;31m---------------------------------------------------------------------------\u001b[0m",
      "\u001b[1;31mKeyError\u001b[0m                                  Traceback (most recent call last)",
      "File \u001b[1;32m~\\AppData\\Local\\Packages\\PythonSoftwareFoundation.Python.3.8_qbz5n2kfra8p0\\LocalCache\\local-packages\\Python38\\site-packages\\pandas\\core\\indexes\\base.py:3800\u001b[0m, in \u001b[0;36mIndex.get_loc\u001b[1;34m(self, key, method, tolerance)\u001b[0m\n\u001b[0;32m   3799\u001b[0m \u001b[39mtry\u001b[39;00m:\n\u001b[1;32m-> 3800\u001b[0m     \u001b[39mreturn\u001b[39;00m \u001b[39mself\u001b[39;49m\u001b[39m.\u001b[39;49m_engine\u001b[39m.\u001b[39;49mget_loc(casted_key)\n\u001b[0;32m   3801\u001b[0m \u001b[39mexcept\u001b[39;00m \u001b[39mKeyError\u001b[39;00m \u001b[39mas\u001b[39;00m err:\n",
      "File \u001b[1;32m~\\AppData\\Local\\Packages\\PythonSoftwareFoundation.Python.3.8_qbz5n2kfra8p0\\LocalCache\\local-packages\\Python38\\site-packages\\pandas\\_libs\\index.pyx:138\u001b[0m, in \u001b[0;36mpandas._libs.index.IndexEngine.get_loc\u001b[1;34m()\u001b[0m\n",
      "File \u001b[1;32m~\\AppData\\Local\\Packages\\PythonSoftwareFoundation.Python.3.8_qbz5n2kfra8p0\\LocalCache\\local-packages\\Python38\\site-packages\\pandas\\_libs\\index.pyx:165\u001b[0m, in \u001b[0;36mpandas._libs.index.IndexEngine.get_loc\u001b[1;34m()\u001b[0m\n",
      "File \u001b[1;32mpandas\\_libs\\hashtable_class_helper.pxi:5745\u001b[0m, in \u001b[0;36mpandas._libs.hashtable.PyObjectHashTable.get_item\u001b[1;34m()\u001b[0m\n",
      "File \u001b[1;32mpandas\\_libs\\hashtable_class_helper.pxi:5753\u001b[0m, in \u001b[0;36mpandas._libs.hashtable.PyObjectHashTable.get_item\u001b[1;34m()\u001b[0m\n",
      "\u001b[1;31mKeyError\u001b[0m: ''",
      "\nThe above exception was the direct cause of the following exception:\n",
      "\u001b[1;31mKeyError\u001b[0m                                  Traceback (most recent call last)",
      "\u001b[1;32mn:\\GitHubSource\\DublinBusWeatherProject\\Standalone_EDA.ipynb Cell 32\u001b[0m in \u001b[0;36m<cell line: 1>\u001b[1;34m()\u001b[0m\n\u001b[0;32m     <a href='vscode-notebook-cell:/n%3A/GitHubSource/DublinBusWeatherProject/Standalone_EDA.ipynb#X40sZmlsZQ%3D%3D?line=21'>22</a>\u001b[0m hbox \u001b[39m=\u001b[39m widgets\u001b[39m.\u001b[39mHBox(i\u001b[39m.\u001b[39mchildren)\n\u001b[0;32m     <a href='vscode-notebook-cell:/n%3A/GitHubSource/DublinBusWeatherProject/Standalone_EDA.ipynb#X40sZmlsZQ%3D%3D?line=22'>23</a>\u001b[0m display(hbox)\n\u001b[1;32m---> <a href='vscode-notebook-cell:/n%3A/GitHubSource/DublinBusWeatherProject/Standalone_EDA.ipynb#X40sZmlsZQ%3D%3D?line=23'>24</a>\u001b[0m hbox\u001b[39m.\u001b[39mon_displayed(NumericAnalytics\u001b[39m.\u001b[39;49mcustom_barplot(df\u001b[39m=\u001b[39;49mdf, col1\u001b[39m=\u001b[39;49mw1\u001b[39m.\u001b[39;49mvalue))\n",
      "\u001b[1;32mn:\\GitHubSource\\DublinBusWeatherProject\\Standalone_EDA.ipynb Cell 32\u001b[0m in \u001b[0;36mNumericAnalytics.custom_barplot\u001b[1;34m(df, col1)\u001b[0m\n\u001b[0;32m    <a href='vscode-notebook-cell:/n%3A/GitHubSource/DublinBusWeatherProject/Standalone_EDA.ipynb#X40sZmlsZQ%3D%3D?line=382'>383</a>\u001b[0m fig, axes \u001b[39m=\u001b[39m plt\u001b[39m.\u001b[39msubplots(\u001b[39m2\u001b[39m,\u001b[39m2\u001b[39m)\n\u001b[0;32m    <a href='vscode-notebook-cell:/n%3A/GitHubSource/DublinBusWeatherProject/Standalone_EDA.ipynb#X40sZmlsZQ%3D%3D?line=383'>384</a>\u001b[0m axes \u001b[39m=\u001b[39m axes\u001b[39m.\u001b[39mreshape(\u001b[39m-\u001b[39m\u001b[39m1\u001b[39m)\n\u001b[1;32m--> <a href='vscode-notebook-cell:/n%3A/GitHubSource/DublinBusWeatherProject/Standalone_EDA.ipynb#X40sZmlsZQ%3D%3D?line=384'>385</a>\u001b[0m df[col1]\u001b[39m.\u001b[39mplot(ax\u001b[39m=\u001b[39maxes[\u001b[39m0\u001b[39m], kind\u001b[39m=\u001b[39m\u001b[39m'\u001b[39m\u001b[39mhist\u001b[39m\u001b[39m'\u001b[39m)\n\u001b[0;32m    <a href='vscode-notebook-cell:/n%3A/GitHubSource/DublinBusWeatherProject/Standalone_EDA.ipynb#X40sZmlsZQ%3D%3D?line=385'>386</a>\u001b[0m axes[\u001b[39m0\u001b[39m]\u001b[39m.\u001b[39mset_title(\u001b[39m'\u001b[39m\u001b[39mHistogram of \u001b[39m\u001b[39m{}\u001b[39;00m\u001b[39m'\u001b[39m\u001b[39m.\u001b[39mformat(col1))\n\u001b[0;32m    <a href='vscode-notebook-cell:/n%3A/GitHubSource/DublinBusWeatherProject/Standalone_EDA.ipynb#X40sZmlsZQ%3D%3D?line=386'>387</a>\u001b[0m df[col1]\u001b[39m.\u001b[39mplot(ax\u001b[39m=\u001b[39maxes[\u001b[39m1\u001b[39m], kind\u001b[39m=\u001b[39m\u001b[39m'\u001b[39m\u001b[39mkde\u001b[39m\u001b[39m'\u001b[39m)\n",
      "File \u001b[1;32m~\\AppData\\Local\\Packages\\PythonSoftwareFoundation.Python.3.8_qbz5n2kfra8p0\\LocalCache\\local-packages\\Python38\\site-packages\\pandas\\core\\frame.py:3805\u001b[0m, in \u001b[0;36mDataFrame.__getitem__\u001b[1;34m(self, key)\u001b[0m\n\u001b[0;32m   3803\u001b[0m \u001b[39mif\u001b[39;00m \u001b[39mself\u001b[39m\u001b[39m.\u001b[39mcolumns\u001b[39m.\u001b[39mnlevels \u001b[39m>\u001b[39m \u001b[39m1\u001b[39m:\n\u001b[0;32m   3804\u001b[0m     \u001b[39mreturn\u001b[39;00m \u001b[39mself\u001b[39m\u001b[39m.\u001b[39m_getitem_multilevel(key)\n\u001b[1;32m-> 3805\u001b[0m indexer \u001b[39m=\u001b[39m \u001b[39mself\u001b[39;49m\u001b[39m.\u001b[39;49mcolumns\u001b[39m.\u001b[39;49mget_loc(key)\n\u001b[0;32m   3806\u001b[0m \u001b[39mif\u001b[39;00m is_integer(indexer):\n\u001b[0;32m   3807\u001b[0m     indexer \u001b[39m=\u001b[39m [indexer]\n",
      "File \u001b[1;32m~\\AppData\\Local\\Packages\\PythonSoftwareFoundation.Python.3.8_qbz5n2kfra8p0\\LocalCache\\local-packages\\Python38\\site-packages\\pandas\\core\\indexes\\base.py:3802\u001b[0m, in \u001b[0;36mIndex.get_loc\u001b[1;34m(self, key, method, tolerance)\u001b[0m\n\u001b[0;32m   3800\u001b[0m     \u001b[39mreturn\u001b[39;00m \u001b[39mself\u001b[39m\u001b[39m.\u001b[39m_engine\u001b[39m.\u001b[39mget_loc(casted_key)\n\u001b[0;32m   3801\u001b[0m \u001b[39mexcept\u001b[39;00m \u001b[39mKeyError\u001b[39;00m \u001b[39mas\u001b[39;00m err:\n\u001b[1;32m-> 3802\u001b[0m     \u001b[39mraise\u001b[39;00m \u001b[39mKeyError\u001b[39;00m(key) \u001b[39mfrom\u001b[39;00m \u001b[39merr\u001b[39;00m\n\u001b[0;32m   3803\u001b[0m \u001b[39mexcept\u001b[39;00m \u001b[39mTypeError\u001b[39;00m:\n\u001b[0;32m   3804\u001b[0m     \u001b[39m# If we have a listlike key, _check_indexing_error will raise\u001b[39;00m\n\u001b[0;32m   3805\u001b[0m     \u001b[39m#  InvalidIndexError. Otherwise we fall through and re-raise\u001b[39;00m\n\u001b[0;32m   3806\u001b[0m     \u001b[39m#  the TypeError.\u001b[39;00m\n\u001b[0;32m   3807\u001b[0m     \u001b[39mself\u001b[39m\u001b[39m.\u001b[39m_check_indexing_error(key)\n",
      "\u001b[1;31mKeyError\u001b[0m: ''"
     ]
    },
    {
     "data": {
      "image/png": "[encoded data removed]",
      "text/plain": [
       "<Figure size 864x360 with 4 Axes>"
      ]
     },
     "metadata": {},
     "output_type": "display_data"
    }
   ],
   "source": [
    "if Target in CategoricalColumns:\n",
    "    w1_value = ''\n",
    "    w1 = None  \n",
    "    w1 = widgets.Dropdown(\n",
    "        options=[Target],\n",
    "        value=Target,\n",
    "        description='Target Variable:',\n",
    "    )\n",
    "    i = interactive(TargetAnalytics.custom_barplot, df=fixed(df), col1=w1)\n",
    "    hbox = widgets.HBox(i.children[:1])\n",
    "    display(hbox)\n",
    "    hbox.on_displayed(TargetAnalytics.custom_barplot(df=df, col1=w1.value))\n",
    "else:\n",
    "    w1_value = ''\n",
    "    w1 = None\n",
    "    w1 = widgets.Dropdown(\n",
    "            options=[Target],\n",
    "            value=Target,\n",
    "            description='Target Variable:',\n",
    "        )\n",
    "    i = interactive(NumericAnalytics.custom_barplot, df=fixed(df), col1=w1)\n",
    "    hbox = widgets.HBox(i.children)\n",
    "    display(hbox)\n",
    "    hbox.on_displayed(NumericAnalytics.custom_barplot(df=df, col1=w1.value))"
   ]
  },
  {
   "cell_type": "markdown",
   "metadata": {},
   "source": [
    "### Explore individual numeric variables and test for normality "
   ]
  },
  {
   "cell_type": "code",
   "execution_count": 52,
   "metadata": {},
   "outputs": [],
   "source": [
    "#CategoricalColumns = list(set(['LineID', 'Direction', 'TimeFrame', 'VehicleJourneyID', 'Operator', 'Congestion',  'Delay', 'BlockID', 'VehicleID', 'StopID', 'AtStop']))\n",
    "NumericalColumns = list(set(list(df.select_dtypes([np.number]).columns)))\n"
   ]
  },
  {
   "cell_type": "code",
   "execution_count": 55,
   "metadata": {},
   "outputs": [
    {
     "data": {
      "application/vnd.jupyter.widget-view+json": {
       "model_id": "e03a49e66a6b46908d8bbca3c6d9ad2a",
       "version_major": 2,
       "version_minor": 0
      },
      "text/plain": [
       "HBox(children=(Dropdown(description='Numeric Variable:', options=('rain', 'Month', 'dewpt', 'ind.2', 'Hour', '…"
      ]
     },
     "metadata": {},
     "output_type": "display_data"
    },
    {
     "data": {
      "image/png": "[encoded data removed]",
      "text/plain": [
       "<Figure size 864x360 with 4 Axes>"
      ]
     },
     "metadata": {},
     "output_type": "display_data"
    },
    {
     "data": {
      "image/png": "[encoded data removed]",
      "text/plain": [
       "<Figure size 864x360 with 4 Axes>"
      ]
     },
     "metadata": {},
     "output_type": "display_data"
    }
   ],
   "source": [
    "w1_value = ''\n",
    "w1 = None\n",
    "w1 = widgets.Dropdown(\n",
    "        options=NumericalColumns,\n",
    "        value=NumericalColumns[0],\n",
    "        description='Numeric Variable:',\n",
    "    )\n",
    "\n",
    "i = interactive(NumericAnalytics.custom_barplot, df=fixed(df), col1=w1)\n",
    "hbox = widgets.HBox(i.children)\n",
    "display(hbox)\n",
    "hbox.on_displayed(NumericAnalytics.custom_barplot(df=df, col1=w1.value))"
   ]
  },
  {
   "cell_type": "markdown",
   "metadata": {},
   "source": [
    "### Explore individual categorical variables (sorted by frequencies)"
   ]
  },
  {
   "cell_type": "code",
   "execution_count": 56,
   "metadata": {},
   "outputs": [
    {
     "data": {
      "application/vnd.jupyter.widget-view+json": {
       "model_id": "19bbfbd7dfc747bfb2ddb2ff9501ed5e",
       "version_major": 2,
       "version_minor": 0
      },
      "text/plain": [
       "HBox(children=(Dropdown(description='Categorical Variable:', options=('Time', 'date', 'datetime'), value='Time…"
      ]
     },
     "metadata": {},
     "output_type": "display_data"
    },
    {
     "data": {
      "image/png": "[encoded data removed]",
      "text/plain": [
       "<Figure size 864x360 with 2 Axes>"
      ]
     },
     "metadata": {},
     "output_type": "display_data"
    }
   ],
   "source": [
    "w1_value = ''\n",
    "w1 = None\n",
    "\n",
    "w1 = widgets.Dropdown(\n",
    "    options = CategoricalColumns,\n",
    "    value = CategoricalColumns[0],\n",
    "    description = 'Categorical Variable:',\n",
    ")\n",
    "\n",
    "\n",
    "i = interactive(CategoricAnalytics.custom_barplot, df=fixed(df), col1=w1)\n",
    "hbox = widgets.HBox(i.children)\n",
    "display(hbox)\n",
    "hbox.on_displayed(CategoricAnalytics.custom_barplot(df=df, col1=w1.value))"
   ]
  },
  {
   "cell_type": "markdown",
   "metadata": {},
   "source": [
    "## <a name=\"multiple variables\"></a>Explore Interactions Between Variables\n",
    "### <a name=\"rank variables\"></a>Rank variables based on linear relationships with reference variable"
   ]
  },
  {
   "cell_type": "code",
   "execution_count": 57,
   "metadata": {},
   "outputs": [
    {
     "data": {
      "application/vnd.jupyter.widget-view+json": {
       "model_id": "13afb4700bbc494999a0bf6a42f85748",
       "version_major": 2,
       "version_minor": 0
      },
      "text/plain": [
       "HBox(children=(Dropdown(description='Ref Var:', options=('', 'rain', 'Month', 'dewpt', 'ind.2', 'Hour', 'msl',…"
      ]
     },
     "metadata": {},
     "output_type": "display_data"
    },
    {
     "ename": "KeyError",
     "evalue": "\"[''] not in index\"",
     "output_type": "error",
     "traceback": [
      "\u001b[1;31m---------------------------------------------------------------------------\u001b[0m",
      "\u001b[1;31mKeyError\u001b[0m                                  Traceback (most recent call last)",
      "\u001b[1;32mn:\\GitHubSource\\DublinBusWeatherProject\\Standalone_EDA.ipynb Cell 39\u001b[0m in \u001b[0;36m<cell line: 13>\u001b[1;34m()\u001b[0m\n\u001b[0;32m     <a href='vscode-notebook-cell:/n%3A/GitHubSource/DublinBusWeatherProject/Standalone_EDA.ipynb#X50sZmlsZQ%3D%3D?line=10'>11</a>\u001b[0m hbox \u001b[39m=\u001b[39m widgets\u001b[39m.\u001b[39mHBox(i\u001b[39m.\u001b[39mchildren)\n\u001b[0;32m     <a href='vscode-notebook-cell:/n%3A/GitHubSource/DublinBusWeatherProject/Standalone_EDA.ipynb#X50sZmlsZQ%3D%3D?line=11'>12</a>\u001b[0m display(hbox)\n\u001b[1;32m---> <a href='vscode-notebook-cell:/n%3A/GitHubSource/DublinBusWeatherProject/Standalone_EDA.ipynb#X50sZmlsZQ%3D%3D?line=12'>13</a>\u001b[0m hbox\u001b[39m.\u001b[39mon_displayed(InteractionAnalytics\u001b[39m.\u001b[39;49mrank_associations(df\u001b[39m=\u001b[39;49mdf, conf_dict\u001b[39m=\u001b[39;49mcols_list, col1\u001b[39m=\u001b[39;49mw1\u001b[39m.\u001b[39;49mvalue, col2\u001b[39m=\u001b[39;49mw2\u001b[39m.\u001b[39;49mvalue, col3\u001b[39m=\u001b[39;49mw3\u001b[39m.\u001b[39;49mvalue))\n",
      "\u001b[1;32mn:\\GitHubSource\\DublinBusWeatherProject\\Standalone_EDA.ipynb Cell 39\u001b[0m in \u001b[0;36mInteractionAnalytics.rank_associations\u001b[1;34m(df, conf_dict, col1, col2, col3)\u001b[0m\n\u001b[0;32m    <a href='vscode-notebook-cell:/n%3A/GitHubSource/DublinBusWeatherProject/Standalone_EDA.ipynb#X50sZmlsZQ%3D%3D?line=110'>111</a>\u001b[0m etasquared_dict \u001b[39m=\u001b[39m {}\n\u001b[0;32m    <a href='vscode-notebook-cell:/n%3A/GitHubSource/DublinBusWeatherProject/Standalone_EDA.ipynb#X50sZmlsZQ%3D%3D?line=111'>112</a>\u001b[0m \u001b[39mfor\u001b[39;00m each \u001b[39min\u001b[39;00m NumericalColumns:\n\u001b[1;32m--> <a href='vscode-notebook-cell:/n%3A/GitHubSource/DublinBusWeatherProject/Standalone_EDA.ipynb#X50sZmlsZQ%3D%3D?line=112'>113</a>\u001b[0m     mod \u001b[39m=\u001b[39m ols(\u001b[39m'\u001b[39m\u001b[39m{}\u001b[39;00m\u001b[39m ~ C(\u001b[39m\u001b[39m{}\u001b[39;00m\u001b[39m)\u001b[39m\u001b[39m'\u001b[39m\u001b[39m.\u001b[39mformat(each, col1), data \u001b[39m=\u001b[39m df[[col1,each]])\u001b[39m.\u001b[39mfit()\n\u001b[0;32m    <a href='vscode-notebook-cell:/n%3A/GitHubSource/DublinBusWeatherProject/Standalone_EDA.ipynb#X50sZmlsZQ%3D%3D?line=113'>114</a>\u001b[0m     aov_table \u001b[39m=\u001b[39m sm\u001b[39m.\u001b[39mstats\u001b[39m.\u001b[39manova_lm(mod, typ\u001b[39m=\u001b[39m\u001b[39m1\u001b[39m)\n\u001b[0;32m    <a href='vscode-notebook-cell:/n%3A/GitHubSource/DublinBusWeatherProject/Standalone_EDA.ipynb#X50sZmlsZQ%3D%3D?line=114'>115</a>\u001b[0m     esq_sm \u001b[39m=\u001b[39m aov_table[\u001b[39m'\u001b[39m\u001b[39msum_sq\u001b[39m\u001b[39m'\u001b[39m][\u001b[39m0\u001b[39m]\u001b[39m/\u001b[39m(aov_table[\u001b[39m'\u001b[39m\u001b[39msum_sq\u001b[39m\u001b[39m'\u001b[39m][\u001b[39m0\u001b[39m]\u001b[39m+\u001b[39maov_table[\u001b[39m'\u001b[39m\u001b[39msum_sq\u001b[39m\u001b[39m'\u001b[39m][\u001b[39m1\u001b[39m])\n",
      "File \u001b[1;32m~\\AppData\\Local\\Packages\\PythonSoftwareFoundation.Python.3.8_qbz5n2kfra8p0\\LocalCache\\local-packages\\Python38\\site-packages\\pandas\\core\\frame.py:3811\u001b[0m, in \u001b[0;36mDataFrame.__getitem__\u001b[1;34m(self, key)\u001b[0m\n\u001b[0;32m   3809\u001b[0m     \u001b[39mif\u001b[39;00m is_iterator(key):\n\u001b[0;32m   3810\u001b[0m         key \u001b[39m=\u001b[39m \u001b[39mlist\u001b[39m(key)\n\u001b[1;32m-> 3811\u001b[0m     indexer \u001b[39m=\u001b[39m \u001b[39mself\u001b[39;49m\u001b[39m.\u001b[39;49mcolumns\u001b[39m.\u001b[39;49m_get_indexer_strict(key, \u001b[39m\"\u001b[39;49m\u001b[39mcolumns\u001b[39;49m\u001b[39m\"\u001b[39;49m)[\u001b[39m1\u001b[39m]\n\u001b[0;32m   3813\u001b[0m \u001b[39m# take() does not accept boolean indexers\u001b[39;00m\n\u001b[0;32m   3814\u001b[0m \u001b[39mif\u001b[39;00m \u001b[39mgetattr\u001b[39m(indexer, \u001b[39m\"\u001b[39m\u001b[39mdtype\u001b[39m\u001b[39m\"\u001b[39m, \u001b[39mNone\u001b[39;00m) \u001b[39m==\u001b[39m \u001b[39mbool\u001b[39m:\n",
      "File \u001b[1;32m~\\AppData\\Local\\Packages\\PythonSoftwareFoundation.Python.3.8_qbz5n2kfra8p0\\LocalCache\\local-packages\\Python38\\site-packages\\pandas\\core\\indexes\\base.py:6108\u001b[0m, in \u001b[0;36mIndex._get_indexer_strict\u001b[1;34m(self, key, axis_name)\u001b[0m\n\u001b[0;32m   6105\u001b[0m \u001b[39melse\u001b[39;00m:\n\u001b[0;32m   6106\u001b[0m     keyarr, indexer, new_indexer \u001b[39m=\u001b[39m \u001b[39mself\u001b[39m\u001b[39m.\u001b[39m_reindex_non_unique(keyarr)\n\u001b[1;32m-> 6108\u001b[0m \u001b[39mself\u001b[39;49m\u001b[39m.\u001b[39;49m_raise_if_missing(keyarr, indexer, axis_name)\n\u001b[0;32m   6110\u001b[0m keyarr \u001b[39m=\u001b[39m \u001b[39mself\u001b[39m\u001b[39m.\u001b[39mtake(indexer)\n\u001b[0;32m   6111\u001b[0m \u001b[39mif\u001b[39;00m \u001b[39misinstance\u001b[39m(key, Index):\n\u001b[0;32m   6112\u001b[0m     \u001b[39m# GH 42790 - Preserve name from an Index\u001b[39;00m\n",
      "File \u001b[1;32m~\\AppData\\Local\\Packages\\PythonSoftwareFoundation.Python.3.8_qbz5n2kfra8p0\\LocalCache\\local-packages\\Python38\\site-packages\\pandas\\core\\indexes\\base.py:6171\u001b[0m, in \u001b[0;36mIndex._raise_if_missing\u001b[1;34m(self, key, indexer, axis_name)\u001b[0m\n\u001b[0;32m   6168\u001b[0m     \u001b[39mraise\u001b[39;00m \u001b[39mKeyError\u001b[39;00m(\u001b[39mf\u001b[39m\u001b[39m\"\u001b[39m\u001b[39mNone of [\u001b[39m\u001b[39m{\u001b[39;00mkey\u001b[39m}\u001b[39;00m\u001b[39m] are in the [\u001b[39m\u001b[39m{\u001b[39;00maxis_name\u001b[39m}\u001b[39;00m\u001b[39m]\u001b[39m\u001b[39m\"\u001b[39m)\n\u001b[0;32m   6170\u001b[0m not_found \u001b[39m=\u001b[39m \u001b[39mlist\u001b[39m(ensure_index(key)[missing_mask\u001b[39m.\u001b[39mnonzero()[\u001b[39m0\u001b[39m]]\u001b[39m.\u001b[39munique())\n\u001b[1;32m-> 6171\u001b[0m \u001b[39mraise\u001b[39;00m \u001b[39mKeyError\u001b[39;00m(\u001b[39mf\u001b[39m\u001b[39m\"\u001b[39m\u001b[39m{\u001b[39;00mnot_found\u001b[39m}\u001b[39;00m\u001b[39m not in index\u001b[39m\u001b[39m\"\u001b[39m)\n",
      "\u001b[1;31mKeyError\u001b[0m: \"[''] not in index\""
     ]
    },
    {
     "data": {
      "image/png": "[encoded data removed]",
      "text/plain": [
       "<Figure size 864x360 with 2 Axes>"
      ]
     },
     "metadata": {},
     "output_type": "display_data"
    }
   ],
   "source": [
    "cols_list = [Target] + NumericalColumns + CategoricalColumns\n",
    "cols_list = list(OrderedDict.fromkeys(cols_list)) \n",
    "w1 = widgets.Dropdown(    \n",
    "    options=cols_list,\n",
    "    value=cols_list[0],\n",
    "    description='Ref Var:'\n",
    ")\n",
    "w2 = ipywidgets.Text(value=\"5\", description='Top Num Vars:')\n",
    "w3 = ipywidgets.Text(value=\"5\", description='Top Cat Vars:')\n",
    "i = interactive(InteractionAnalytics.rank_associations, df=fixed(df),conf_dict=fixed(cols_list), col1=w1, col2=w2, col3=w3)\n",
    "hbox = widgets.HBox(i.children)\n",
    "display(hbox)\n",
    "hbox.on_displayed(InteractionAnalytics.rank_associations(df=df, conf_dict=cols_list, col1=w1.value, col2=w2.value, col3=w3.value))"
   ]
  },
  {
   "cell_type": "markdown",
   "metadata": {},
   "source": [
    "### <a name=\"two categorical\"></a>Explore interactions between categorical variables"
   ]
  },
  {
   "cell_type": "code",
   "execution_count": 58,
   "metadata": {},
   "outputs": [
    {
     "data": {
      "application/vnd.jupyter.widget-view+json": {
       "model_id": "0f82941b4b624b46b6ff05b2dc3a44bb",
       "version_major": 2,
       "version_minor": 0
      },
      "text/plain": [
       "HBox(children=(Dropdown(description='Categorical Var 1:', options=('Time', 'date', 'datetime'), value='Time'),…"
      ]
     },
     "metadata": {},
     "output_type": "display_data"
    },
    {
     "data": {
      "image/png": "[encoded data removed]",
      "text/plain": [
       "<Figure size 864x360 with 3 Axes>"
      ]
     },
     "metadata": {},
     "output_type": "display_data"
    }
   ],
   "source": [
    "w1, w2 = None, None\n",
    "\n",
    "if Target in CategoricalColumns:\n",
    "    cols_list = [Target] + CategoricalColumns \n",
    "    cols_list = list(OrderedDict.fromkeys(cols_list)) \n",
    "else:\n",
    "    cols_list = CategoricalColumns\n",
    "    \n",
    "w1 = widgets.Dropdown(\n",
    "    options=cols_list,\n",
    "    value=cols_list[0],\n",
    "    description='Categorical Var 1:'\n",
    ")\n",
    "w2 = widgets.Dropdown(\n",
    "    options=cols_list,\n",
    "    value=cols_list[1],\n",
    "    description='Categorical Var 2:'\n",
    ")\n",
    "\n",
    "i = interactive(InteractionAnalytics.categorical_relations, df=fixed(df), col1=w1, col2=w2)\n",
    "hbox = widgets.HBox(i.children)\n",
    "display(hbox)\n",
    "hbox.on_displayed(InteractionAnalytics.categorical_relations(df=df, col1=w1.value, col2=w2.value))"
   ]
  },
  {
   "cell_type": "markdown",
   "metadata": {},
   "source": [
    "### <a name=\"two numerical\"></a>Explore interactions between numerical variables"
   ]
  },
  {
   "cell_type": "code",
   "execution_count": 59,
   "metadata": {},
   "outputs": [
    {
     "data": {
      "application/vnd.jupyter.widget-view+json": {
       "model_id": "a5e242f4645f43e4b6a510c19114d349",
       "version_major": 2,
       "version_minor": 0
      },
      "text/plain": [
       "HBox(children=(Dropdown(description='Numerical Var 1:', options=('rain', 'Month', 'dewpt', 'ind.2', 'Hour', 'm…"
      ]
     },
     "metadata": {},
     "output_type": "display_data"
    },
    {
     "data": {
      "image/png": "[encoded data removed]",
      "text/plain": [
       "<Figure size 864x360 with 1 Axes>"
      ]
     },
     "metadata": {},
     "output_type": "display_data"
    }
   ],
   "source": [
    "w1, w2 = None, None\n",
    "\n",
    "if Target in NumericalColumns:\n",
    "    cols_list = [Target] + NumericalColumns \n",
    "    cols_list = list(OrderedDict.fromkeys(cols_list)) \n",
    "else:\n",
    "    cols_list = NumericalColumns\n",
    "w1 = widgets.Dropdown(\n",
    "    options=cols_list,\n",
    "    value=cols_list[0],\n",
    "    description='Numerical Var 1:'\n",
    ")\n",
    "w2 = widgets.Dropdown(\n",
    "    options=cols_list,\n",
    "    value=cols_list[1],\n",
    "    description='Numerical Var 2:'\n",
    ")\n",
    "i = interactive(InteractionAnalytics.numerical_relations, df=fixed(df), col1=w1, col2=w2)\n",
    "hbox = widgets.HBox(i.children)\n",
    "display(hbox)\n",
    "hbox.on_displayed(InteractionAnalytics.numerical_relations(df, col1=w1.value, col2=w2.value))"
   ]
  },
  {
   "cell_type": "markdown",
   "metadata": {},
   "source": [
    "### Explore correlation matrix between numerical variables"
   ]
  },
  {
   "cell_type": "code",
   "execution_count": 60,
   "metadata": {},
   "outputs": [
    {
     "data": {
      "application/vnd.jupyter.widget-view+json": {
       "model_id": "ea0ecd9e59e6470896093a14b3881d99",
       "version_major": 2,
       "version_minor": 0
      },
      "text/plain": [
       "HBox(children=(Dropdown(description='Correlation Method:', options=('pearson', 'kendall', 'spearman'), value='…"
      ]
     },
     "metadata": {},
     "output_type": "display_data"
    },
    {
     "data": {
      "image/png": "[encoded data removed]",
      "text/plain": [
       "<Figure size 864x360 with 2 Axes>"
      ]
     },
     "metadata": {},
     "output_type": "display_data"
    }
   ],
   "source": [
    "w1 = None\n",
    "w1 = widgets.Dropdown(\n",
    "    options=['pearson','kendall','spearman'],\n",
    "    value='pearson',\n",
    "    description='Correlation Method:'\n",
    ")\n",
    "i = interactive(InteractionAnalytics.numerical_correlation, df=fixed(df), conf_dict=fixed(cols_list), col1=w1)\n",
    "hbox = widgets.HBox(i.children)\n",
    "display(hbox)\n",
    "hbox.on_displayed(InteractionAnalytics.numerical_correlation(df, conf_dict=cols_list, col1=w1.value))"
   ]
  },
  {
   "cell_type": "markdown",
   "metadata": {},
   "source": [
    "### <a name=\"numerical and categorical\"></a>Explore interactions between numerical and categorical variables"
   ]
  },
  {
   "cell_type": "code",
   "execution_count": 61,
   "metadata": {},
   "outputs": [
    {
     "data": {
      "application/vnd.jupyter.widget-view+json": {
       "model_id": "ae2c747cea1d43418ae823aa6d793c4c",
       "version_major": 2,
       "version_minor": 0
      },
      "text/plain": [
       "HBox(children=(Dropdown(description='Numerical Variable:', options=('rain', 'Month', 'dewpt', 'ind.2', 'Hour',…"
      ]
     },
     "metadata": {},
     "output_type": "display_data"
    },
    {
     "data": {
      "image/png": "[encoded data removed]",
      "text/plain": [
       "<Figure size 864x360 with 1 Axes>"
      ]
     },
     "metadata": {},
     "output_type": "display_data"
    }
   ],
   "source": [
    "w1, w2 = None, None\n",
    "\n",
    "if Target in NumericalColumns:\n",
    "    cols_list = [Target] + NumericalColumns #Make target the default reference variable\n",
    "    cols_list = list(OrderedDict.fromkeys(cols_list)) #remove variables that might be duplicates with target\n",
    "else:\n",
    "    cols_list = NumericalColumns\n",
    "    \n",
    "w1 = widgets.Dropdown(\n",
    "    options=cols_list,\n",
    "    value=cols_list[0],\n",
    "    description='Numerical Variable:'\n",
    ")\n",
    "\n",
    "if Target in CategoricalColumns:\n",
    "    cols_list = [Target] + CategoricalColumns #Make target the default reference variable\n",
    "    cols_list = list(OrderedDict.fromkeys(cols_list)) #remove variables that might be duplicates with target\n",
    "else:\n",
    "    cols_list = CategoricalColumns\n",
    "    \n",
    "w2 = widgets.Dropdown(\n",
    "    options=cols_list,\n",
    "    value=cols_list[0],\n",
    "    description='Categorical Variable:'\n",
    ")\n",
    "i = interactive(InteractionAnalytics.nc_relation, df=fixed(df),conf_dict=fixed(cols_list), col1=w1, col2=w2, col3=fixed(w3))\n",
    "hbox = widgets.HBox(i.children)\n",
    "display( hbox )\n",
    "hbox.on_displayed(InteractionAnalytics.nc_relation(df, cols_list, col1=w1.value, col2=w2.value))"
   ]
  },
  {
   "cell_type": "markdown",
   "metadata": {},
   "source": [
    "### <a name=\"two numerical and categorical\"></a>Explore interactions between two numerical variables and a categorical variable"
   ]
  },
  {
   "cell_type": "code",
   "execution_count": 62,
   "metadata": {},
   "outputs": [
    {
     "data": {
      "application/vnd.jupyter.widget-view+json": {
       "model_id": "e88667a3a006449198bff52c731fbd5b",
       "version_major": 2,
       "version_minor": 0
      },
      "text/plain": [
       "HBox(children=(Dropdown(description='Numerical Var 1:', options=('rain', 'Month', 'dewpt', 'ind.2', 'Hour', 'm…"
      ]
     },
     "metadata": {},
     "output_type": "display_data"
    },
    {
     "data": {
      "image/png": "[encoded data removed]",
      "text/plain": [
       "<Figure size 864x360 with 1 Axes>"
      ]
     },
     "metadata": {},
     "output_type": "display_data"
    }
   ],
   "source": [
    "w1, w2, w3 = None, None, None\n",
    "\n",
    "if Target in NumericalColumns:\n",
    "    cols_list = [Target] + NumericalColumns \n",
    "    cols_list = list(OrderedDict.fromkeys(cols_list)) \n",
    "else:\n",
    "    cols_list = NumericalColumns\n",
    "    \n",
    "w1 = widgets.Dropdown(\n",
    "    options = cols_list,\n",
    "    value = cols_list[0],\n",
    "    description = 'Numerical Var 1:'\n",
    ")\n",
    "w2 = widgets.Dropdown(\n",
    "    options = cols_list,\n",
    "    value = cols_list[1],\n",
    "    description = 'Numerical Var 2:'\n",
    ")\n",
    "\n",
    "if Target in CategoricalColumns:\n",
    "    cols_list = [Target] + CategoricalColumns\n",
    "    cols_list = list(OrderedDict.fromkeys(cols_list)) \n",
    "else:\n",
    "    cols_list = CategoricalColumns\n",
    "    \n",
    "w3 = widgets.Dropdown(\n",
    "    options = cols_list,\n",
    "    value = cols_list[0],\n",
    "    description = 'Legend Cat Var:'\n",
    ")\n",
    "i = interactive(InteractionAnalytics.nnc_relation, df=fixed(df),conf_dict=fixed(cols_list), col1=w1, col2=w2, col3=w3)\n",
    "hbox = widgets.HBox(i.children)\n",
    "display(hbox)\n",
    "hbox.on_displayed(InteractionAnalytics.nnc_relation(df, cols_list, col1=w1.value,col2=w2.value, col3=w3.value))"
   ]
  },
  {
   "cell_type": "markdown",
   "metadata": {},
   "source": [
    "## <a name=\"pca\"></a>Visualize numerical data by projecting to principal component spaces"
   ]
  },
  {
   "cell_type": "markdown",
   "metadata": {},
   "source": [
    "### Project data to 2-D principal component space "
   ]
  },
  {
   "cell_type": "code",
   "execution_count": 64,
   "metadata": {},
   "outputs": [
    {
     "data": {
      "application/vnd.jupyter.widget-view+json": {
       "model_id": "a6b2bdb19ed04401b5b34b18e3a72278",
       "version_major": 2,
       "version_minor": 0
      },
      "text/plain": [
       "HBox(children=(Dropdown(description='Legend Variable:', options=('Time', 'date', 'datetime'), value='Time'), D…"
      ]
     },
     "metadata": {},
     "output_type": "display_data"
    },
    {
     "name": "stderr",
     "output_type": "stream",
     "text": [
      "No artists with labels found to put in legend.  Note that artists whose label start with an underscore are ignored when legend() is called with no argument.\n"
     ]
    },
    {
     "data": {
      "image/png": "[encoded data removed]",
      "text/plain": [
       "<Figure size 864x360 with 2 Axes>"
      ]
     },
     "metadata": {},
     "output_type": "display_data"
    }
   ],
   "source": [
    "num_numeric = len(NumericalColumns)\n",
    "if  num_numeric > 3:\n",
    "    \n",
    "    w1, w2, w3 = None, None, None\n",
    "    if Target in CategoricalColumns:\n",
    "        cols_list = [Target] + CategoricalColumns \n",
    "        cols_list = list(OrderedDict.fromkeys(cols_list)) \n",
    "    else:\n",
    "        cols_list = CategoricalColumns\n",
    "    w1 = widgets.Dropdown(\n",
    "        options = cols_list,\n",
    "        value = cols_list[0],\n",
    "        description = 'Legend Variable:',\n",
    "        width = 10\n",
    "    )\n",
    "    w2 = widgets.Dropdown(\n",
    "        options = [str(x) for x in np.arange(1,num_numeric+1)],\n",
    "        value = '1',\n",
    "        width = 1,\n",
    "        description='PC at X-Axis:'\n",
    "    )\n",
    "    w3 = widgets.Dropdown(\n",
    "        options = [str(x) for x in np.arange(1,num_numeric+1)],\n",
    "        value = '2',\n",
    "        description = 'PC at Y-Axis:'\n",
    "    )\n",
    "    i = interactive(InteractionAnalytics.numerical_pca, df=fixed(df),conf_dict=fixed(cols_list), col1=w1, col2=w2, col3=w3)\n",
    "    hbox = widgets.HBox(i.children[:3])\n",
    "    display(hbox)\n",
    "    hbox.on_displayed(InteractionAnalytics.numerical_pca(df, conf_dict=cols_list, col1=w1.value, col2=w2.value, col3=w3.value))"
   ]
  },
  {
   "cell_type": "markdown",
   "metadata": {},
   "source": [
    "### Project data to 3-D principal component space"
   ]
  },
  {
   "cell_type": "code",
   "execution_count": 63,
   "metadata": {},
   "outputs": [
    {
     "data": {
      "application/vnd.jupyter.widget-view+json": {
       "model_id": "9a7b518e6cd443e2a01f720a294209ea",
       "version_major": 2,
       "version_minor": 0
      },
      "text/plain": [
       "HBox(children=(Dropdown(description='Legend Variable:', options=('Time', 'date', 'datetime'), value='Time'), I…"
      ]
     },
     "metadata": {},
     "output_type": "display_data"
    },
    {
     "name": "stderr",
     "output_type": "stream",
     "text": [
      "No artists with labels found to put in legend.  Note that artists whose label start with an underscore are ignored when legend() is called with no argument.\n"
     ]
    },
    {
     "data": {
      "image/png": "[encoded data removed]",
      "text/plain": [
       "<Figure size 864x360 with 1 Axes>"
      ]
     },
     "metadata": {},
     "output_type": "display_data"
    }
   ],
   "source": [
    "if len(NumericalColumns) > 3:\n",
    "    if Target in CategoricalColumns:\n",
    "        cols_list = [Target] + CategoricalColumns \n",
    "        cols_list = list(OrderedDict.fromkeys(cols_list)) \n",
    "    else:\n",
    "        cols_list = CategoricalColumns\n",
    "    w1, w2 = None, None\n",
    "    w1 = widgets.Dropdown(\n",
    "        options=cols_list,\n",
    "        value=cols_list[0],\n",
    "        description='Legend Variable:'\n",
    "    )\n",
    "    w2 = ipywidgets.IntSlider(min=-180, max=180, step=5, value=30, description='Angle')\n",
    "    i = interactive(InteractionAnalytics.pca_3d, df=fixed(df), conf_dict=fixed(cols_list),col1=w1, col2=w2, col3=fixed(w3))\n",
    "    hbox=widgets.HBox(i.children[:2])\n",
    "    display(hbox)\n",
    "    hbox.on_displayed(InteractionAnalytics.pca_3d(df,cols_list,col1=w1.value,col2=w2.value))"
   ]
  },
  {
   "cell_type": "code",
   "execution_count": null,
   "metadata": {},
   "outputs": [],
   "source": []
  }
 ],
 "metadata": {
  "kernelspec": {
   "display_name": "Python 3.8.10 64-bit (microsoft store)",
   "language": "python",
   "name": "python3"
  },
  "language_info": {
   "codemirror_mode": {
    "name": "ipython",
    "version": 3
   },
   "file_extension": ".py",
   "mimetype": "text/x-python",
   "name": "python",
   "nbconvert_exporter": "python",
   "pygments_lexer": "ipython3",
   "version": "3.8.10"
  },
  "orig_nbformat": 4,
  "vscode": {
   "interpreter": {
    "hash": "8edfc345e148c983356007565f34e8148a158baae2c78b9f84c29511f8d0caff"
   }
  }
 },
 "nbformat": 4,
 "nbformat_minor": 2
}
